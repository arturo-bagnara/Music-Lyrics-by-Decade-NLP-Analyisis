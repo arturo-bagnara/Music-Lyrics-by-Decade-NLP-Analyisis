{
 "cells": [
  {
   "cell_type": "markdown",
   "id": "6b83e457",
   "metadata": {},
   "source": [
    "# CLASSIFICATION TASK"
   ]
  },
  {
   "cell_type": "markdown",
   "id": "93f6e220",
   "metadata": {},
   "source": [
    "## Index"
   ]
  },
  {
   "cell_type": "markdown",
   "id": "bcce8645",
   "metadata": {},
   "source": [
    "1. [Decade Classification](#decade) <br>\n",
    "   1.1 [Libraries and Data](#data) <br>\n",
    "   1.2 [Baselines and Design Matrix](#baselines1)<br>\n",
    "      1.2.1 [Most Frequent Predictor](#most1)<br>\n",
    "      1.2.2 [The Hulk](#hulk1)<br>\n",
    "   1.3 [Building on the Baseline](#build)<br>\n",
    "   1.4 [Support Vector Machines](#svc)<br>\n",
    "   1.5 [Random Forest](#rf)<br>\n",
    "   1.6 [Test Performance and Summary](#test)<br>\n",
    "   \n",
    "2. [Gender Classification](#gender)<br>\n",
    "   2.1 [Baselines](#baselines2)<br>\n",
    "      2.1.1 [Most Frequent Predictor](#most2)<br>\n",
    "      2.1.2 [The Hulk](#hulk2)<br>\n",
    "   2.2 [Convolutional Neural Network](#cnn)<br>"
   ]
  },
  {
   "cell_type": "markdown",
   "id": "7c1e3ad6",
   "metadata": {},
   "source": [
    "## Deacade Classification <a name=\"decade\"></a>"
   ]
  },
  {
   "cell_type": "markdown",
   "id": "a2d567a7",
   "metadata": {},
   "source": [
    "As far as the classification task is concerned, I will try to classify the decades of the songs, coherently with the aims of the research I've carried out so far. I will use the downsampled dataset (10459 observations),  and will split it in train, dev and test data (~80%, 10%, 10%). Finally, the main metric of analisys will be the f1-micro, to correctly account for false positives and false negatives. \n",
    "<br>    \n",
    "\n",
    "For most of the parameters tuning, CV scores results are hidden but readable under the grid search and randomized search cells, and were indeed widely taken into account to choose the next steps to follow. In fact, due to CPU limitations I could not run extensive grid searches for most of the models, and had to carefully choose the parameters space to explore."
   ]
  },
  {
   "cell_type": "markdown",
   "id": "3e170259",
   "metadata": {},
   "source": [
    "I will first import libraries and data, define some useful functions, re obtain the downsampled dataset as shown in the previous notebook and finally split between train, dev and test sets."
   ]
  },
  {
   "cell_type": "markdown",
   "id": "c644da5e",
   "metadata": {},
   "source": [
    "## Libraries and Data <a name=\"data\"></a>"
   ]
  },
  {
   "cell_type": "code",
   "execution_count": 1,
   "id": "8a702eab",
   "metadata": {},
   "outputs": [],
   "source": [
    "import numpy as np\n",
    "import pandas as pd\n",
    "import matplotlib.pyplot as plt\n",
    "import itertools\n",
    "\n",
    "# VECTORIZERS\n",
    "from sklearn.feature_extraction.text import CountVectorizer, TfidfVectorizer\n",
    "\n",
    "# CLASSIFIERS\n",
    "from sklearn.dummy import DummyClassifier\n",
    "from sklearn.linear_model import LogisticRegression\n",
    "from sklearn.svm import SVC, LinearSVC\n",
    "from sklearn.ensemble import RandomForestClassifier\n",
    "\n",
    "# PREPROCESSING, SELECTION AND DIMENSIONALITY REDUCION\n",
    "from sklearn.preprocessing import MaxAbsScaler\n",
    "from sklearn.feature_selection import SelectKBest, chi2\n",
    "from sklearn.decomposition import TruncatedSVD\n",
    "\n",
    "# HYPERPARAMETER TUNING\n",
    "from sklearn.pipeline import Pipeline\n",
    "from sklearn.model_selection import GridSearchCV\n",
    "from sklearn.model_selection import RandomizedSearchCV\n",
    "from sklearn.calibration import CalibratedClassifierCV\n",
    "\n",
    "# EVALUATION\n",
    "from sklearn.metrics import confusion_matrix, classification_report\n",
    "from sklearn.metrics import f1_score\n",
    "from sklearn.model_selection import cross_val_score"
   ]
  },
  {
   "cell_type": "code",
   "execution_count": 2,
   "id": "cf4f9efe",
   "metadata": {},
   "outputs": [],
   "source": [
    "def plot_confusion_matrix(cm,\n",
    "                          target_names,\n",
    "                          title='Confusion matrix',\n",
    "                          cmap=None,\n",
    "                          normalize=True):\n",
    "    \"\"\"\n",
    "    This function clearly plots the confusion matrix\n",
    "    \"\"\"\n",
    "\n",
    "    accuracy = np.trace(cm) / np.sum(cm).astype('float')\n",
    "    misclass = 1 - accuracy\n",
    "\n",
    "    if cmap is None:\n",
    "        cmap = plt.get_cmap('Blues')\n",
    "\n",
    "    plt.figure(figsize=(8, 6))\n",
    "    plt.imshow(cm, interpolation='nearest', cmap=cmap)\n",
    "    plt.title(title)\n",
    "    plt.colorbar()\n",
    "\n",
    "    if target_names is not None:\n",
    "        tick_marks = np.arange(len(target_names))\n",
    "        plt.xticks(tick_marks, target_names, rotation=45)\n",
    "        plt.yticks(tick_marks, target_names)\n",
    "\n",
    "    if normalize:\n",
    "        cm = cm.astype('float') / cm.sum(axis=1)[:, np.newaxis]\n",
    "\n",
    "\n",
    "    thresh = cm.max() / 1.5 if normalize else cm.max() / 2\n",
    "    for i, j in itertools.product(range(cm.shape[0]), range(cm.shape[1])):\n",
    "        if normalize:\n",
    "            plt.text(j, i, \"{:0.4f}\".format(cm[i, j]),\n",
    "                     horizontalalignment=\"center\",\n",
    "                     color=\"white\" if cm[i, j] > thresh else \"black\")\n",
    "        else:\n",
    "            plt.text(j, i, \"{:,}\".format(cm[i, j]),\n",
    "                     horizontalalignment=\"center\",\n",
    "                     color=\"white\" if cm[i, j] > thresh else \"black\")\n",
    "\n",
    "\n",
    "    plt.tight_layout()\n",
    "    plt.ylabel('True label')\n",
    "    plt.xlabel('Predicted label\\naccuracy={:0.4f}; misclass={:0.4f}'.format(accuracy, misclass))\n",
    "    plt.show()"
   ]
  },
  {
   "cell_type": "code",
   "execution_count": 3,
   "id": "4ae165da",
   "metadata": {},
   "outputs": [],
   "source": [
    "def bootstrap_sample(system1, system2, gold, samples=1000, score=f1_score, average='micro'):\n",
    "    \"\"\"\n",
    "    Compute the proportion of times the performance difference of the two systems on a subsample is significantly different\n",
    "    from the performance on the entire sample\n",
    "    \"\"\"\n",
    "    \n",
    "    N = len(gold) # number of instances\n",
    "    \n",
    "    # make sure the two systems have the same number of samples\n",
    "    assert len(system1) == N and len(system2) == N, 'samples have different lengths'\n",
    "\n",
    "    # compute performance score on entire sample\n",
    "    base_score1 = score(gold, system1, average=average)\n",
    "    base_score2 = score(gold, system2, average=average)\n",
    "    print(\"Base difference: {} vs. {}\".format(base_score1, base_score2))\n",
    "\n",
    "    # switch systems if system2 is better\n",
    "    if base_score2 > base_score1:\n",
    "        system1, system2 = system2, system1\n",
    "        base_score1, base_score2 = base_score2, base_score1\n",
    "    \n",
    "    # compute the difference\n",
    "    basedelta = base_score1 - base_score2\n",
    "    assert basedelta > 0, 'Wrong system first, system1 needs to be better!'\n",
    "\n",
    "    system1 = np.array(system1)\n",
    "    system2 = np.array(system2)\n",
    "    gold = np.array(gold)\n",
    "\n",
    "    p = 0\n",
    "    deltas = []\n",
    "    for i in range(samples):\n",
    "        # select a subsample, with replacement\n",
    "        sample = np.random.choice(N, size=N, replace=True)\n",
    "\n",
    "        # collect data corresponding to subsample\n",
    "        sample1 = system1[sample]\n",
    "        sample2 = system2[sample]\n",
    "        gold_sample = gold[sample]\n",
    "\n",
    "        # compute scores on subsample\n",
    "        sample_score1 = score(gold_sample, sample1, average=average)\n",
    "        sample_score2 = score(gold_sample, sample2, average=average)\n",
    "        sample_delta = sample_score1 - sample_score2\n",
    "\n",
    "        # check whether the observed sample difference is at least \n",
    "        # twice as large as the base difference\n",
    "        if sample_delta > 2*basedelta:\n",
    "            p += 1\n",
    "        deltas.append(sample_delta)\n",
    "                \n",
    "    return p/samples, deltas"
   ]
  },
  {
   "cell_type": "markdown",
   "id": "e3104263",
   "metadata": {},
   "source": [
    "Below is the process used to obtain the train, dev and test sets. One can skip 2 cells to directly import the resulting datasets."
   ]
  },
  {
   "cell_type": "code",
   "execution_count": 2,
   "id": "57e8027d",
   "metadata": {},
   "outputs": [
    {
     "name": "stdout",
     "output_type": "stream",
     "text": [
      "Total number of songs: 10459\n"
     ]
    }
   ],
   "source": [
    "# PROCESS FOR RE-DERIVING THE DATASET AND THEN THE TRAIN-DEV-TEST SPLITTING.\n",
    "songs = pd.read_csv(\"data/nlp_songs_lemmatized\").drop(columns = [\"Unnamed: 0\"])\n",
    "songs = songs.dropna().reset_index(drop = True)\n",
    "songs = songs.drop_duplicates(subset = \"lemma\")\n",
    "\n",
    "# Constitution of a downsampled more balanced dataset\n",
    "\n",
    "_60s = songs[songs[\"decade\"] == \"60s\"]\n",
    "_70s = songs[songs[\"decade\"] == \"70s\"]\n",
    "_80s = songs[songs[\"decade\"] == \"80s\"]\n",
    "_90s = songs[songs[\"decade\"] == \"90s\"][:2000]\n",
    "_00s = songs[songs[\"decade\"] == \"00s\"][:2000]\n",
    "_10s = songs[songs[\"decade\"] == \"10s\"][:2000]\n",
    "\n",
    "songs_bal = pd.concat([_60s, _70s, _80s, _90s, _00s, _10s], axis = 0).sample(frac = 1).reset_index(drop = True)\n",
    "\n",
    "print(\"Total number of songs:\", len(songs_bal))"
   ]
  },
  {
   "cell_type": "code",
   "execution_count": 3,
   "id": "63190ea5",
   "metadata": {},
   "outputs": [],
   "source": [
    "# TRAIN, DEV AND TEST SPLIT\n",
    "\n",
    "train = songs_bal.sample(frac = 1, random_state = 1).iloc[:8000,:]\n",
    "dev = songs_bal.sample(frac = 1, random_state = 1).iloc[8000:9250,:]\n",
    "test = songs_bal.sample(frac = 1, random_state = 1).iloc[9250:,:]\n",
    "\n",
    "# train.to_csv(\"train_decade.csv\")\n",
    "# dev.to_csv(\"dev_decade.csv\")\n",
    "# test.to_csv(\"test_decade.csv\")"
   ]
  },
  {
   "cell_type": "code",
   "execution_count": 8,
   "id": "350d4594",
   "metadata": {},
   "outputs": [],
   "source": [
    "# IMPORTING THE TRAINM DEV AND TEST DATASETS\n",
    "train = pd.read_csv(\"data/train_decade.csv\").iloc[:,1:]\n",
    "dev = pd.read_csv(\"data/dev_decade.csv\").iloc[:,1:]\n",
    "test = pd.read_csv(\"data/test_decade.csv\").iloc[:,1:]\n",
    "\n",
    "y_train = train.decade\n",
    "y_dev = dev.decade\n",
    "y_test = test.decade\n",
    "\n",
    "tokens_train = train.lemma\n",
    "tokens_dev = dev.lemma\n",
    "tokens_test = test.lemma"
   ]
  },
  {
   "cell_type": "markdown",
   "id": "e045077a",
   "metadata": {},
   "source": [
    "## BASELINES AND DESIGN MATRIX <a name=\"baselines1\"></a>"
   ]
  },
  {
   "cell_type": "markdown",
   "id": "e28be106",
   "metadata": {},
   "source": [
    "Below the main design matrix used followed by the two baselines are reported: an n-gram logit model informally referred to as the \"Hulk\" and the most frequent predictor, as well as their training and dev performance in the form of classification reports."
   ]
  },
  {
   "cell_type": "code",
   "execution_count": 9,
   "id": "c8773c5b",
   "metadata": {},
   "outputs": [],
   "source": [
    "# DEFINING THE DESIGN MATRIX\n",
    "\n",
    "ngram_range = (2,6)\n",
    "min_df = 0.001\n",
    "max_df = 0.75\n",
    "analyzer = \"char\"\n",
    "\n",
    "tfidf_vectorizer_base = TfidfVectorizer(analyzer= analyzer,\n",
    "                                   ngram_range= ngram_range, \n",
    "                                   min_df = min_df, \n",
    "                                   max_df = max_df, \n",
    "                                   stop_words= 'english', \n",
    "                                   sublinear_tf=True)\n",
    "\n",
    "X_base_train = tfidf_vectorizer_base.fit_transform(tokens_train)\n",
    "X_base_dev = tfidf_vectorizer_base.transform(tokens_dev)\n",
    "X_base_test = tfidf_vectorizer_base.transform(tokens_test)"
   ]
  },
  {
   "cell_type": "markdown",
   "id": "616431ab",
   "metadata": {},
   "source": [
    "### 1st BASELINE - MOST FREQUENT PREDICTOR <a name=\"most1\"></a>"
   ]
  },
  {
   "cell_type": "markdown",
   "id": "8620226e",
   "metadata": {},
   "source": [
    "In the training set, the most frequent label is the decade 00s."
   ]
  },
  {
   "cell_type": "code",
   "execution_count": 27,
   "id": "c21cf895",
   "metadata": {},
   "outputs": [
    {
     "name": "stdout",
     "output_type": "stream",
     "text": [
      "Dev - Classification Report\n",
      "              precision    recall  f1-score   support\n",
      "\n",
      "         00s       0.19      1.00      0.32      1544\n",
      "         10s       0.00      0.00      0.00      1514\n",
      "         60s       0.00      0.00      0.00      1024\n",
      "         70s       0.00      0.00      0.00      1137\n",
      "         80s       0.00      0.00      0.00      1255\n",
      "         90s       0.00      0.00      0.00      1526\n",
      "\n",
      "    accuracy                           0.19      8000\n",
      "   macro avg       0.03      0.17      0.05      8000\n",
      "weighted avg       0.04      0.19      0.06      8000\n",
      "\n",
      "F1 micro: 0.193\n"
     ]
    }
   ],
   "source": [
    "# Just to suppress warnings due to the fact that some f1 scores are set to 0 as no predictions for that label was given\n",
    "import warnings\n",
    "warnings.filterwarnings(\"ignore\")\n",
    "\n",
    "most_frequent = DummyClassifier(strategy='most_frequent')\n",
    "most_frequent.fit(X_base_train, y_train)\n",
    "\n",
    "# get the performance on the development set\n",
    "dumb_predictions = most_frequent.predict(X_base_train)\n",
    "print(\"Dev - Classification Report\")\n",
    "print(classification_report(y_train, dumb_predictions))\n",
    "print(\"F1 micro:\", f1_score(y_train, dumb_predictions, average = \"micro\"))"
   ]
  },
  {
   "cell_type": "code",
   "execution_count": 28,
   "id": "5ff684bd",
   "metadata": {},
   "outputs": [
    {
     "name": "stdout",
     "output_type": "stream",
     "text": [
      "Dev - Classification Report\n",
      "              precision    recall  f1-score   support\n",
      "\n",
      "         00s       0.18      1.00      0.30       222\n",
      "         10s       0.00      0.00      0.00       247\n",
      "         60s       0.00      0.00      0.00       158\n",
      "         70s       0.00      0.00      0.00       163\n",
      "         80s       0.00      0.00      0.00       221\n",
      "         90s       0.00      0.00      0.00       239\n",
      "\n",
      "    accuracy                           0.18      1250\n",
      "   macro avg       0.03      0.17      0.05      1250\n",
      "weighted avg       0.03      0.18      0.05      1250\n",
      "\n",
      "F1 micro: 0.1776\n"
     ]
    }
   ],
   "source": [
    "# get the performance on the dev set\n",
    "dumb_predictions_dev = most_frequent.predict(X_base_dev)\n",
    "\n",
    "print(\"Dev - Classification Report\")\n",
    "print(classification_report(y_dev, dumb_predictions_dev))\n",
    "print(\"F1 micro:\", f1_score(y_dev, dumb_predictions_dev, average = \"micro\"))"
   ]
  },
  {
   "cell_type": "markdown",
   "id": "36e6563f",
   "metadata": {},
   "source": [
    "The confusion matrix gives some insights over the performance on the dev set."
   ]
  },
  {
   "cell_type": "code",
   "execution_count": 12,
   "id": "88ae6380",
   "metadata": {},
   "outputs": [
    {
     "data": {
      "image/png": "[encoded data removed]",
      "text/plain": [
       "<Figure size 576x432 with 2 Axes>"
      ]
     },
     "metadata": {
      "needs_background": "light"
     },
     "output_type": "display_data"
    }
   ],
   "source": [
    "cm = confusion_matrix(y_dev, dumb_predictions_dev)\n",
    "\n",
    "plot_confusion_matrix(cm = cm, target_names = [\"00s\", \"10s\", \"60s\", \"70s\", \"80s\", \"90s\"],\n",
    "                          title='Confusion matrix',\n",
    "                          cmap=None,\n",
    "                          normalize=False)"
   ]
  },
  {
   "cell_type": "markdown",
   "id": "26633859",
   "metadata": {},
   "source": [
    "### 2nd BASELINE - THE HULK <a name=\"hulk1\"></a>"
   ]
  },
  {
   "cell_type": "code",
   "execution_count": 31,
   "id": "64af67ad",
   "metadata": {},
   "outputs": [
    {
     "data": {
      "text/plain": [
       "LogisticRegression(max_iter=150, random_state=1, solver='sag')"
      ]
     },
     "execution_count": 31,
     "metadata": {},
     "output_type": "execute_result"
    }
   ],
   "source": [
    "# FIT BASELINE\n",
    "lr_base = LogisticRegression(max_iter = 150, solver = \"sag\", random_state = 1)\n",
    "lr_base.fit(X_base_train, y_train)"
   ]
  },
  {
   "cell_type": "code",
   "execution_count": 32,
   "id": "794bf2cd",
   "metadata": {},
   "outputs": [
    {
     "name": "stdout",
     "output_type": "stream",
     "text": [
      "Training - Classification Report:\n",
      "\n",
      "              precision    recall  f1-score   support\n",
      "\n",
      "         00s       0.87      0.85      0.86      1544\n",
      "         10s       0.87      0.93      0.90      1514\n",
      "         60s       0.83      0.87      0.85      1024\n",
      "         70s       0.88      0.83      0.86      1137\n",
      "         80s       0.87      0.83      0.85      1255\n",
      "         90s       0.87      0.88      0.88      1526\n",
      "\n",
      "    accuracy                           0.87      8000\n",
      "   macro avg       0.86      0.86      0.86      8000\n",
      "weighted avg       0.87      0.87      0.87      8000\n",
      "\n",
      "F1 micro: 0.86575\n"
     ]
    }
   ],
   "source": [
    "# TRAIN\n",
    "pred_base_train = lr_base.predict(X_base_train)\n",
    "print(\"Training - Classification Report:\")\n",
    "print()\n",
    "print(classification_report(y_train, pred_base_train))\n",
    "print(\"F1 micro:\", f1_score(y_train, pred_base_train, average = \"micro\"))"
   ]
  },
  {
   "cell_type": "code",
   "execution_count": 33,
   "id": "3959ebfb",
   "metadata": {},
   "outputs": [
    {
     "name": "stdout",
     "output_type": "stream",
     "text": [
      "Dev - Classification Report:\n",
      "\n",
      "              precision    recall  f1-score   support\n",
      "\n",
      "         00s       0.38      0.45      0.42       222\n",
      "         10s       0.56      0.61      0.58       247\n",
      "         60s       0.48      0.46      0.47       158\n",
      "         70s       0.30      0.26      0.28       163\n",
      "         80s       0.34      0.29      0.31       221\n",
      "         90s       0.44      0.43      0.44       239\n",
      "\n",
      "    accuracy                           0.43      1250\n",
      "   macro avg       0.42      0.42      0.42      1250\n",
      "weighted avg       0.42      0.43      0.42      1250\n",
      "\n",
      "F1 micro: 0.4272\n"
     ]
    }
   ],
   "source": [
    "# DEV\n",
    "pred_base_dev = lr_base.predict(X_base_dev)\n",
    "print(\"Dev - Classification Report:\")\n",
    "print()\n",
    "print(classification_report(y_dev, pred_base_dev))\n",
    "print(\"F1 micro:\", f1_score(y_dev, pred_base_dev, average = \"micro\"))"
   ]
  },
  {
   "cell_type": "code",
   "execution_count": 18,
   "id": "8860dc23",
   "metadata": {
    "scrolled": false
   },
   "outputs": [
    {
     "data": {
      "image/png": "[encoded data removed]",
      "text/plain": [
       "<Figure size 576x432 with 2 Axes>"
      ]
     },
     "metadata": {
      "needs_background": "light"
     },
     "output_type": "display_data"
    }
   ],
   "source": [
    "cm = confusion_matrix(y_dev, pred_base_dev)\n",
    "\n",
    "plot_confusion_matrix(cm = cm, target_names = [\"00s\", \"10s\", \"60s\", \"70s\", \"80s\", \"90s\"],\n",
    "                          title='Confusion matrix',\n",
    "                          cmap=None,\n",
    "                          normalize=False)"
   ]
  },
  {
   "cell_type": "markdown",
   "id": "ba147267",
   "metadata": {},
   "source": [
    "Interestingly, the \"Hulk\" baseline is performing the best on 10s lyrics, which on one hand are among the most recurring, but maybe also the most diverse: for example, edm music is present in this decade only, which may be partially a reason for this."
   ]
  },
  {
   "cell_type": "markdown",
   "id": "211a39a9",
   "metadata": {},
   "source": [
    "## BUILDING ON THE BASELINE <a name=\"build\"></a>"
   ]
  },
  {
   "cell_type": "markdown",
   "id": "a1f2b9a2",
   "metadata": {},
   "source": [
    "Given the good performance of the baseline I firstly decided to try and build on it to improve it. Through a first (here unreported) randomized search cv it emerged the l2 regularization and the balanced class weight overall yielded the best results. So I proceeded exploring the strength of the regularization and the multiclass parameter, and experimented working with a MaxAbsScaler to scale each feature by their maximum absolute value, a preprocessing step specifically intended for sparse matrices. The best performing model on the dev set ended up being the tuned logistic with no scaling, but unfortunately was not able to actually improve upon the baseline."
   ]
  },
  {
   "cell_type": "code",
   "execution_count": null,
   "id": "af0e113b",
   "metadata": {},
   "outputs": [],
   "source": [
    "base_r_param_v1 = {\"C\": [0.01,0.1,1, 10, 20],\n",
    "               \"multi_class\": [\"multinomial\", \"ovr\"]}\n",
    "grid_base_impr_v1 = RandomizedSearchCV(LogisticRegression(max_iter = 500, solver = \"sag\", penalty=\"l2\", class_weight =\"balanced\"),\n",
    "                                    base_r_param_v1, n_iter = 50, cv = 3, verbose = 5, n_jobs = 1, scoring = \"f1_micro\")\n",
    "\n",
    "grid_base_impr_v1.fit(X_base_train, y_train)"
   ]
  },
  {
   "cell_type": "code",
   "execution_count": 9,
   "id": "fbc1c16c",
   "metadata": {},
   "outputs": [
    {
     "name": "stdout",
     "output_type": "stream",
     "text": [
      "Pipeline(steps=[('classifier',\n",
      "                 LogisticRegression(C=1, class_weight='balanced', max_iter=500,\n",
      "                                    multi_class='ovr', solver='sag'))])\n"
     ]
    }
   ],
   "source": [
    "print(grid_base_impr_v1.best_estimator_)"
   ]
  },
  {
   "cell_type": "code",
   "execution_count": null,
   "id": "aec01e34",
   "metadata": {},
   "outputs": [],
   "source": [
    "# grid_base_impr_v1 = LogisticRegression(C=1, class_weight='balanced', max_iter=500,\n",
    "#                    multi_class='ovr', solver='sag')\n",
    "# grid_base_impr_v1.fit(X_base_train, y_train)"
   ]
  },
  {
   "cell_type": "markdown",
   "id": "a02dfe36",
   "metadata": {},
   "source": [
    "### v2 - ADDING THE SCALER"
   ]
  },
  {
   "cell_type": "code",
   "execution_count": 19,
   "id": "0775644f",
   "metadata": {},
   "outputs": [],
   "source": [
    "masc = MaxAbsScaler()\n",
    "Scaled_X_base_train = masc.fit_transform(X_base_train)\n",
    "Scaled_X_base_dev = masc.transform(X_base_dev)\n",
    "Scaled_X_base_test = masc.transform(X_base_test)"
   ]
  },
  {
   "cell_type": "code",
   "execution_count": null,
   "id": "798d8e60",
   "metadata": {},
   "outputs": [
    {
     "name": "stdout",
     "output_type": "stream",
     "text": [
      "Fitting 3 folds for each of 20 candidates, totalling 60 fits\n"
     ]
    }
   ],
   "source": [
    "base_r_param_v2 = {\"C\": [0.001,0.01,0.1,1,10],\n",
    "                 \"multi_class\": [\"ovr\", \"multinomial\"],\n",
    "                 \"class_weight\": [None, \"balanced\"]}\n",
    "\n",
    "grid_base_impr_v2 = GridSearchCV(LogisticRegression(max_iter = 500, solver = \"sag\", penalty = \"l2\", random_state = 1),\n",
    "                                       base_r_param_v2, cv = 3, scoring = \"f1_micro\", n_jobs = -1, verbose = 5)\n",
    "                                      \n",
    "\n",
    "grid_base_impr_v2.fit(Scaled_X_base_train, y_train)"
   ]
  },
  {
   "cell_type": "code",
   "execution_count": 15,
   "id": "f7965839",
   "metadata": {},
   "outputs": [
    {
     "name": "stdout",
     "output_type": "stream",
     "text": [
      "LogisticRegression(C=0.01, class_weight='balanced', max_iter=500,\n",
      "                   multi_class='multinomial', random_state=1, solver='sag')\n"
     ]
    }
   ],
   "source": [
    "print(grid_base_impr_v2.best_estimator_)"
   ]
  },
  {
   "cell_type": "code",
   "execution_count": null,
   "id": "b747a7e7",
   "metadata": {},
   "outputs": [],
   "source": [
    "# grid_base_impr_v2 = LogisticRegression(C=0.01, class_weight='balanced', max_iter=500,\n",
    "#                   multi_class='multinomial', random_state=1, solver='sag')\n",
    "# grid_base_impr_v2.fit(Scaled_X_base_train, y_train)"
   ]
  },
  {
   "cell_type": "code",
   "execution_count": 11,
   "id": "d2701a0e",
   "metadata": {},
   "outputs": [
    {
     "name": "stdout",
     "output_type": "stream",
     "text": [
      "Training - Classification Report:\n",
      "\n",
      "              precision    recall  f1-score   support\n",
      "\n",
      "         00s       0.99      0.99      0.99      1544\n",
      "         10s       1.00      1.00      1.00      1514\n",
      "         60s       0.99      1.00      1.00      1024\n",
      "         70s       0.99      1.00      0.99      1137\n",
      "         80s       0.99      1.00      0.99      1255\n",
      "         90s       1.00      0.99      0.99      1526\n",
      "\n",
      "    accuracy                           0.99      8000\n",
      "   macro avg       0.99      0.99      0.99      8000\n",
      "weighted avg       0.99      0.99      0.99      8000\n",
      "\n",
      "F1 micro: 0.994\n"
     ]
    }
   ],
   "source": [
    "# TRAINING\n",
    "pred_base_imp_train = lr_base_impr.predict(Scaled_X_base_train)\n",
    "print(\"Training - Classification Report:\")\n",
    "print()\n",
    "print(classification_report(y_train, pred_base_imp_train))\n",
    "print(\"F1 micro:\", f1_score(y_train, pred_base_imp_train, average = \"micro\"))"
   ]
  },
  {
   "cell_type": "code",
   "execution_count": 23,
   "id": "e7b2d9fc",
   "metadata": {},
   "outputs": [
    {
     "name": "stdout",
     "output_type": "stream",
     "text": [
      "Training - Classification Report:\n",
      "\n",
      "              precision    recall  f1-score   support\n",
      "\n",
      "         00s       0.34      0.38      0.36       222\n",
      "         10s       0.59      0.58      0.59       247\n",
      "         60s       0.48      0.47      0.48       158\n",
      "         70s       0.29      0.31      0.30       163\n",
      "         80s       0.34      0.31      0.32       221\n",
      "         90s       0.42      0.41      0.41       239\n",
      "\n",
      "    accuracy                           0.42      1250\n",
      "   macro avg       0.41      0.41      0.41      1250\n",
      "weighted avg       0.42      0.42      0.42      1250\n",
      "\n",
      "F1 micro: 0.41520000000000007\n"
     ]
    }
   ],
   "source": [
    "# DEV\n",
    "pred_base_imp_dev = lr_base_impr.predict(Scaled_X_base_dev)\n",
    "print(\"Dev - Classification Report:\")\n",
    "print()\n",
    "print(classification_report(y_dev, pred_base_imp_dev))\n",
    "print(\"F1 micro:\", f1_score(y_dev, pred_base_imp_dev, average = \"micro\"))"
   ]
  },
  {
   "cell_type": "markdown",
   "id": "7d349341",
   "metadata": {},
   "source": [
    "## v1 - SVC EXPLORATION <a name=\"svc\"></a>"
   ]
  },
  {
   "cell_type": "markdown",
   "id": "94d7af67",
   "metadata": {},
   "source": [
    "Secondly, I started looking into Support Vector Machines, exploring with different kernels and hyperparameters through a randomized grid search, introducing some feature selection as well through chi squared correlation, which however didn't seem to lead to improvements in this early phase."
   ]
  },
  {
   "cell_type": "code",
   "execution_count": 17,
   "id": "afb314f1",
   "metadata": {
    "collapsed": true
   },
   "outputs": [
    {
     "name": "stdout",
     "output_type": "stream",
     "text": [
      "Fitting 3 folds for each of 10 candidates, totalling 30 fits\n",
      "[CV 1/3] END ...C=0.001, gamma=auto, kernel=rbf;, score=0.193 total time= 6.0min\n",
      "[CV 2/3] END ...C=0.001, gamma=auto, kernel=rbf;, score=0.193 total time= 6.0min\n",
      "[CV 3/3] END ...C=0.001, gamma=auto, kernel=rbf;, score=0.193 total time= 6.0min\n",
      "[CV 1/3] END C=0.01, gamma=0.001, kernel=linear;, score=0.193 total time= 5.9min\n",
      "[CV 2/3] END C=0.01, gamma=0.001, kernel=linear;, score=0.193 total time= 5.9min\n",
      "[CV 3/3] END C=0.01, gamma=0.001, kernel=linear;, score=0.193 total time= 5.9min\n",
      "[CV 1/3] END ........C=0.1, gamma=1, kernel=rbf;, score=0.193 total time= 6.4min\n",
      "[CV 2/3] END ........C=0.1, gamma=1, kernel=rbf;, score=0.193 total time= 6.3min\n",
      "[CV 3/3] END ........C=0.1, gamma=1, kernel=rbf;, score=0.193 total time= 6.4min\n",
      "[CV 1/3] END ......C=0.1, gamma=10, kernel=poly;, score=0.293 total time= 6.7min\n",
      "[CV 2/3] END ......C=0.1, gamma=10, kernel=poly;, score=0.294 total time= 6.7min\n",
      "[CV 3/3] END ......C=0.1, gamma=10, kernel=poly;, score=0.284 total time= 6.7min\n",
      "[CV 1/3] END ......C=0.1, gamma=20, kernel=poly;, score=0.293 total time= 6.7min\n",
      "[CV 2/3] END ......C=0.1, gamma=20, kernel=poly;, score=0.294 total time= 6.7min\n",
      "[CV 3/3] END ......C=0.1, gamma=20, kernel=poly;, score=0.284 total time= 6.7min\n",
      "[CV 1/3] END .....C=0.001, gamma=1, kernel=poly;, score=0.193 total time= 6.2min\n",
      "[CV 2/3] END .....C=0.001, gamma=1, kernel=poly;, score=0.193 total time= 6.1min\n",
      "[CV 3/3] END .....C=0.001, gamma=1, kernel=poly;, score=0.193 total time= 6.2min\n",
      "[CV 1/3] END .....C=0.01, gamma=0.1, kernel=rbf;, score=0.193 total time= 6.1min\n",
      "[CV 2/3] END .....C=0.01, gamma=0.1, kernel=rbf;, score=0.193 total time= 6.1min\n",
      "[CV 3/3] END .....C=0.01, gamma=0.1, kernel=rbf;, score=0.193 total time= 6.2min\n",
      "[CV 1/3] END ....C=10, gamma=0.1, kernel=linear;, score=0.388 total time= 6.2min\n",
      "[CV 2/3] END ....C=10, gamma=0.1, kernel=linear;, score=0.393 total time= 6.1min\n",
      "[CV 3/3] END ....C=10, gamma=0.1, kernel=linear;, score=0.384 total time= 6.2min\n",
      "[CV 1/3] END ......C=10, gamma=0.01, kernel=rbf;, score=0.255 total time= 6.1min\n",
      "[CV 2/3] END ......C=10, gamma=0.01, kernel=rbf;, score=0.270 total time= 6.1min\n",
      "[CV 3/3] END ......C=10, gamma=0.01, kernel=rbf;, score=0.261 total time= 6.2min\n",
      "[CV 1/3] END ......C=1, gamma=0.001, kernel=rbf;, score=0.193 total time= 6.2min\n",
      "[CV 2/3] END ......C=1, gamma=0.001, kernel=rbf;, score=0.193 total time= 6.1min\n",
      "[CV 3/3] END ......C=1, gamma=0.001, kernel=rbf;, score=0.193 total time= 6.2min\n"
     ]
    },
    {
     "data": {
      "text/plain": [
       "RandomizedSearchCV(cv=3, estimator=SVC(),\n",
       "                   param_distributions={'C': [0.001, 0.01, 0.1, 1, 10],\n",
       "                                        'gamma': ['scale', 'auto', 0.001, 0.01,\n",
       "                                                  0.1, 1, 10, 20],\n",
       "                                        'kernel': ['linear', 'poly', 'rbf']},\n",
       "                   scoring='f1_micro', verbose=5)"
      ]
     },
     "execution_count": 17,
     "metadata": {},
     "output_type": "execute_result"
    }
   ],
   "source": [
    "param_grid_svc = {\"C\": [0.001,0.01,0.1,1,10], \"kernel\": [\"linear\", \"poly\", \"rbf\"],\n",
    "                                                     \"gamma\": [\"scale\", \"auto\", 0.001,0.01,0.1,1,10,20]}\n",
    "\n",
    "grid_svc = RandomizedSearchCV(SVC(),param_grid_svc, n_iter = 10, cv = 3, verbose = 5, scoring = \"f1_micro\")\n",
    "grid_svc.fit(X_base_train, y_train)"
   ]
  },
  {
   "cell_type": "code",
   "execution_count": 18,
   "id": "0a0b857f",
   "metadata": {
    "scrolled": true
   },
   "outputs": [
    {
     "data": {
      "text/plain": [
       "SVC(C=10, gamma=0.1, kernel='linear')"
      ]
     },
     "execution_count": 18,
     "metadata": {},
     "output_type": "execute_result"
    }
   ],
   "source": [
    "print(grid_svc.best_estimator_)"
   ]
  },
  {
   "cell_type": "code",
   "execution_count": null,
   "id": "849ccd70",
   "metadata": {},
   "outputs": [],
   "source": [
    "#grid_svc = SVC(C=10, gamma=0.1, kernel='linear')\n",
    "# grid_svc.fit((X_base_train, y_train)"
   ]
  },
  {
   "cell_type": "code",
   "execution_count": 21,
   "id": "254ccb84",
   "metadata": {
    "scrolled": true
   },
   "outputs": [
    {
     "name": "stdout",
     "output_type": "stream",
     "text": [
      "Training - Classification Report:\n",
      "\n",
      "              precision    recall  f1-score   support\n",
      "\n",
      "         00s       0.99      0.99      0.99      1544\n",
      "         10s       1.00      1.00      1.00      1514\n",
      "         60s       1.00      1.00      1.00      1024\n",
      "         70s       0.99      0.99      0.99      1137\n",
      "         80s       0.99      0.99      0.99      1255\n",
      "         90s       0.99      0.99      0.99      1526\n",
      "\n",
      "    accuracy                           0.99      8000\n",
      "   macro avg       0.99      0.99      0.99      8000\n",
      "weighted avg       0.99      0.99      0.99      8000\n",
      "\n",
      "F1 micro: 0.99275\n"
     ]
    }
   ],
   "source": [
    "# TRAINING\n",
    "pred_svc_grid_train = grid_svc.predict(X_base_train)\n",
    "print(\"Training - Classification Report:\")\n",
    "print()\n",
    "print(classification_report(y_train, pred_svc_grid_train))\n",
    "print(\"F1 micro:\", f1_score(y_train, pred_svc_grid_train, average = \"micro\"))"
   ]
  },
  {
   "cell_type": "code",
   "execution_count": 22,
   "id": "d9cd8927",
   "metadata": {},
   "outputs": [
    {
     "name": "stdout",
     "output_type": "stream",
     "text": [
      "Training - Classification Report:\n",
      "\n",
      "              precision    recall  f1-score   support\n",
      "\n",
      "         00s       0.33      0.42      0.37       222\n",
      "         10s       0.57      0.53      0.55       247\n",
      "         60s       0.48      0.46      0.47       158\n",
      "         70s       0.27      0.29      0.28       163\n",
      "         80s       0.36      0.30      0.33       221\n",
      "         90s       0.41      0.39      0.40       239\n",
      "\n",
      "    accuracy                           0.40      1250\n",
      "   macro avg       0.40      0.40      0.40      1250\n",
      "weighted avg       0.41      0.40      0.41      1250\n",
      "\n",
      "F1 micro: 0.404\n"
     ]
    }
   ],
   "source": [
    "# DEV\n",
    "pred_svc_grid_dev = grid_svc.predict(X_base_dev)\n",
    "print(\"Dev - Classification Report:\")\n",
    "print()\n",
    "print(classification_report(y_dev, pred_svc_grid_dev))\n",
    "print(\"F1 micro:\", f1_score(y_dev, pred_svc_grid_dev, average = \"micro\"))"
   ]
  },
  {
   "cell_type": "markdown",
   "id": "98e3f34a",
   "metadata": {},
   "source": [
    "## v2 - SVC + FEATURE SELECTION EXPLORATION"
   ]
  },
  {
   "cell_type": "code",
   "execution_count": null,
   "id": "3384aee0",
   "metadata": {
    "collapsed": true
   },
   "outputs": [
    {
     "name": "stdout",
     "output_type": "stream",
     "text": [
      "Fitting 3 folds for each of 10 candidates, totalling 30 fits\n",
      "[CV 1/3] END classifier__C=1, classifier__gamma=20, classifier__kernel=linear, selection__k=7000;, score=0.346 total time= 1.1min\n",
      "[CV 2/3] END classifier__C=1, classifier__gamma=20, classifier__kernel=linear, selection__k=7000;, score=0.337 total time= 1.0min\n",
      "[CV 3/3] END classifier__C=1, classifier__gamma=20, classifier__kernel=linear, selection__k=7000;, score=0.331 total time= 1.2min\n",
      "[CV 1/3] END classifier__C=1, classifier__gamma=0.1, classifier__kernel=rbf, selection__k=70000;, score=0.205 total time= 4.8min\n",
      "[CV 2/3] END classifier__C=1, classifier__gamma=0.1, classifier__kernel=rbf, selection__k=70000;, score=0.212 total time= 5.2min\n",
      "[CV 3/3] END classifier__C=1, classifier__gamma=0.1, classifier__kernel=rbf, selection__k=70000;, score=0.222 total time= 5.1min\n",
      "[CV 1/3] END classifier__C=0.01, classifier__gamma=10, classifier__kernel=linear, selection__k=70000;, score=0.193 total time= 5.2min\n",
      "[CV 2/3] END classifier__C=0.01, classifier__gamma=10, classifier__kernel=linear, selection__k=70000;, score=0.193 total time= 4.9min\n",
      "[CV 3/3] END classifier__C=0.01, classifier__gamma=10, classifier__kernel=linear, selection__k=70000;, score=0.193 total time= 5.0min\n",
      "[CV 1/3] END classifier__C=0.01, classifier__gamma=0.01, classifier__kernel=linear, selection__k=7000;, score=0.193 total time= 1.1min\n",
      "[CV 2/3] END classifier__C=0.01, classifier__gamma=0.01, classifier__kernel=linear, selection__k=7000;, score=0.193 total time= 1.3min\n",
      "[CV 3/3] END classifier__C=0.01, classifier__gamma=0.01, classifier__kernel=linear, selection__k=7000;, score=0.193 total time= 1.3min\n",
      "[CV 1/3] END classifier__C=10, classifier__gamma=1, classifier__kernel=linear, selection__k=7000;, score=0.371 total time=  51.1s\n",
      "[CV 2/3] END classifier__C=10, classifier__gamma=1, classifier__kernel=linear, selection__k=7000;, score=0.360 total time= 1.2min\n",
      "[CV 3/3] END classifier__C=10, classifier__gamma=1, classifier__kernel=linear, selection__k=7000;, score=0.379 total time=  56.1s\n",
      "[CV 1/3] END classifier__C=10, classifier__gamma=10, classifier__kernel=linear, selection__k=70000;, score=0.388 total time= 5.5min\n",
      "[CV 2/3] END classifier__C=10, classifier__gamma=10, classifier__kernel=linear, selection__k=70000;, score=0.394 total time= 5.4min\n",
      "[CV 3/3] END classifier__C=10, classifier__gamma=10, classifier__kernel=linear, selection__k=70000;, score=0.375 total time= 5.1min\n",
      "[CV 1/3] END classifier__C=10, classifier__gamma=1, classifier__kernel=linear, selection__k=10000;, score=0.373 total time= 1.4min\n",
      "[CV 2/3] END classifier__C=10, classifier__gamma=1, classifier__kernel=linear, selection__k=10000;, score=0.361 total time= 1.4min\n",
      "[CV 3/3] END classifier__C=10, classifier__gamma=1, classifier__kernel=linear, selection__k=10000;, score=0.375 total time= 1.3min\n",
      "[CV 1/3] END classifier__C=1, classifier__gamma=0.01, classifier__kernel=linear, selection__k=5000;, score=0.315 total time= 1.0min\n",
      "[CV 2/3] END classifier__C=1, classifier__gamma=0.01, classifier__kernel=linear, selection__k=5000;, score=0.328 total time=  55.8s\n",
      "[CV 3/3] END classifier__C=1, classifier__gamma=0.01, classifier__kernel=linear, selection__k=5000;, score=0.314 total time= 1.0min\n",
      "[CV 1/3] END classifier__C=10, classifier__gamma=20, classifier__kernel=rbf, selection__k=7000;, score=0.372 total time= 1.3min\n",
      "[CV 2/3] END classifier__C=10, classifier__gamma=20, classifier__kernel=rbf, selection__k=7000;, score=0.357 total time= 2.3min\n",
      "[CV 3/3] END classifier__C=10, classifier__gamma=20, classifier__kernel=rbf, selection__k=7000;, score=0.375 total time= 2.4min\n",
      "[CV 1/3] END classifier__C=0.01, classifier__gamma=10, classifier__kernel=rbf, selection__k=7000;, score=0.193 total time= 2.2min\n",
      "[CV 2/3] END classifier__C=0.01, classifier__gamma=10, classifier__kernel=rbf, selection__k=7000;, score=0.193 total time= 2.3min\n",
      "[CV 3/3] END classifier__C=0.01, classifier__gamma=10, classifier__kernel=rbf, selection__k=7000;, score=0.193 total time= 2.4min\n"
     ]
    }
   ],
   "source": [
    "pipe_svc = Pipeline([(\"selection\", SelectKBest(chi2)),\n",
    "                       (\"classifier\", SVC())\n",
    "                   ])\n",
    "\n",
    "pipe_svc_param = [{\"selection__k\": [70000,50000,10000,7000,5000],\n",
    "                    \"classifier__C\": [0.01,0.1,1,10], \"classifier__kernel\": [\"linear\", \"rbf\"],\n",
    "                                                     \"classifier__gamma\": [0.01,0.1,1,10,20]}]\n",
    "\n",
    "grid_svc_v2 = RandomizedSearchCV(pipe_svc, pipe_svc_param, n_iter = 10, cv = 3, verbose = 5, scoring = \"f1_micro\")\n",
    "grid_svc_v2.fit(X_base_train, y_train)"
   ]
  },
  {
   "cell_type": "code",
   "execution_count": 4,
   "id": "5e048feb",
   "metadata": {},
   "outputs": [
    {
     "name": "stdout",
     "output_type": "stream",
     "text": [
      "Pipeline(steps=[('selection',\n",
      "                 SelectKBest(k=70000,\n",
      "                             score_func=<function chi2 at 0x0000022048120820>)),\n",
      "                ('classifier', SVC(C=10, gamma=10))])\n"
     ]
    }
   ],
   "source": [
    "print(grid_svc_v2.best_estimator_)"
   ]
  },
  {
   "cell_type": "code",
   "execution_count": 13,
   "id": "2969b6f1",
   "metadata": {},
   "outputs": [
    {
     "data": {
      "text/plain": [
       "Pipeline(steps=[('selection',\n",
       "                 SelectKBest(k=70000,\n",
       "                             score_func=<function chi2 at 0x00000252E59150D0>)),\n",
       "                ('classifier', SVC(C=10, gamma=10))])"
      ]
     },
     "execution_count": 13,
     "metadata": {},
     "output_type": "execute_result"
    }
   ],
   "source": [
    "# grid_svc_v2 = Pipeline([(\"selection\", SelectKBest(chi2, k = 70000)),\n",
    "#                       (\"classifier\", SVC(C = 10, gamma = 10))\n",
    "#                   ])\n",
    "# grid_svc_v2.fit(X_base_train, y_train)"
   ]
  },
  {
   "cell_type": "code",
   "execution_count": 14,
   "id": "74cf0241",
   "metadata": {},
   "outputs": [
    {
     "name": "stdout",
     "output_type": "stream",
     "text": [
      "Training - Classification Report:\n",
      "\n",
      "              precision    recall  f1-score   support\n",
      "\n",
      "         00s       1.00      1.00      1.00      1544\n",
      "         10s       1.00      1.00      1.00      1514\n",
      "         60s       1.00      1.00      1.00      1024\n",
      "         70s       1.00      1.00      1.00      1137\n",
      "         80s       1.00      1.00      1.00      1255\n",
      "         90s       1.00      1.00      1.00      1526\n",
      "\n",
      "    accuracy                           1.00      8000\n",
      "   macro avg       1.00      1.00      1.00      8000\n",
      "weighted avg       1.00      1.00      1.00      8000\n",
      "\n",
      "F1 micro: 0.999875\n"
     ]
    }
   ],
   "source": [
    "# TRAINING\n",
    "pred_svc_v2_grid_train = grid_svc_v2.predict(X_base_train)\n",
    "print(\"Training - Classification Report:\")\n",
    "print()\n",
    "print(classification_report(y_train, pred_svc_v2_grid_train))\n",
    "print(\"F1 micro:\", f1_score(y_train, pred_svc_v2_grid_train, average = \"micro\"))"
   ]
  },
  {
   "cell_type": "code",
   "execution_count": 15,
   "id": "1e32cc84",
   "metadata": {},
   "outputs": [
    {
     "name": "stdout",
     "output_type": "stream",
     "text": [
      "Dev - Classification Report:\n",
      "\n",
      "              precision    recall  f1-score   support\n",
      "\n",
      "         00s       0.18      0.92      0.30       222\n",
      "         10s       0.25      0.04      0.07       247\n",
      "         60s       0.64      0.06      0.10       158\n",
      "         70s       0.62      0.09      0.16       163\n",
      "         80s       0.62      0.07      0.12       221\n",
      "         90s       0.44      0.05      0.09       239\n",
      "\n",
      "    accuracy                           0.21      1250\n",
      "   macro avg       0.46      0.20      0.14      1250\n",
      "weighted avg       0.44      0.21      0.14      1250\n",
      "\n",
      "F1 micro: 0.212\n"
     ]
    }
   ],
   "source": [
    "# DEV\n",
    "pred_svc_v2_grid_dev = grid_svc_v2.predict(X_base_dev)\n",
    "print(\"Dev - Classification Report:\")\n",
    "print()\n",
    "print(classification_report(y_dev, pred_svc_v2_grid_dev))\n",
    "print(\"F1 micro:\", f1_score(y_dev, pred_svc_v2_grid_dev, average = \"micro\"))"
   ]
  },
  {
   "cell_type": "markdown",
   "id": "cfa118f4",
   "metadata": {},
   "source": [
    "## v3 - LINEAR KERNEL SVC FINE TUNING"
   ]
  },
  {
   "cell_type": "markdown",
   "id": "ee2d85a2",
   "metadata": {},
   "source": [
    "From the exploration phase it emerged that the linear kernel was performing considerably well, therefore I decided to tune more carefully its regularization parameter running a grid search with the faster LinearSVC function and increasing to a 5 fold cross validation. Indeed this reached a better performing model on the dev set, both in terms of f1 score and accuracy. "
   ]
  },
  {
   "cell_type": "code",
   "execution_count": 9,
   "id": "67930e29",
   "metadata": {
    "collapsed": true
   },
   "outputs": [
    {
     "name": "stdout",
     "output_type": "stream",
     "text": [
      "Fitting 5 folds for each of 5 candidates, totalling 25 fits\n",
      "[CV 1/5] END ...........................C=0.001;, score=0.247 total time=   4.3s\n",
      "[CV 2/5] END ...........................C=0.001;, score=0.239 total time=   3.2s\n",
      "[CV 3/5] END ...........................C=0.001;, score=0.253 total time=   4.1s\n",
      "[CV 4/5] END ...........................C=0.001;, score=0.251 total time=   3.3s\n",
      "[CV 5/5] END ...........................C=0.001;, score=0.240 total time=   3.8s\n",
      "[CV 1/5] END ............................C=0.01;, score=0.338 total time=   4.9s\n",
      "[CV 2/5] END ............................C=0.01;, score=0.361 total time=   5.1s\n",
      "[CV 3/5] END ............................C=0.01;, score=0.344 total time=   5.1s\n",
      "[CV 4/5] END ............................C=0.01;, score=0.349 total time=   4.7s\n",
      "[CV 5/5] END ............................C=0.01;, score=0.344 total time=   4.7s\n",
      "[CV 1/5] END .............................C=0.1;, score=0.417 total time=   6.4s\n",
      "[CV 2/5] END .............................C=0.1;, score=0.427 total time=   5.7s\n",
      "[CV 3/5] END .............................C=0.1;, score=0.422 total time=   6.0s\n",
      "[CV 4/5] END .............................C=0.1;, score=0.412 total time=   6.2s\n",
      "[CV 5/5] END .............................C=0.1;, score=0.405 total time=   6.4s\n",
      "[CV 1/5] END ...............................C=1;, score=0.400 total time=  16.3s\n",
      "[CV 2/5] END ...............................C=1;, score=0.426 total time=  15.4s\n",
      "[CV 3/5] END ...............................C=1;, score=0.398 total time=  16.5s\n",
      "[CV 4/5] END ...............................C=1;, score=0.401 total time=  15.3s\n",
      "[CV 5/5] END ...............................C=1;, score=0.398 total time=  14.6s\n",
      "[CV 1/5] END ..............................C=10;, score=0.376 total time= 1.5min\n",
      "[CV 2/5] END ..............................C=10;, score=0.397 total time= 1.7min\n",
      "[CV 3/5] END ..............................C=10;, score=0.372 total time= 1.6min\n",
      "[CV 4/5] END ..............................C=10;, score=0.388 total time= 1.6min\n",
      "[CV 5/5] END ..............................C=10;, score=0.372 total time= 1.7min\n"
     ]
    },
    {
     "data": {
      "text/plain": [
       "GridSearchCV(cv=5, estimator=LinearSVC(),\n",
       "             param_grid={'C': [0.001, 0.01, 0.1, 1, 10]}, scoring='f1_micro',\n",
       "             verbose=5)"
      ]
     },
     "execution_count": 9,
     "metadata": {},
     "output_type": "execute_result"
    }
   ],
   "source": [
    "param_grid_svc_v3 = {\"C\": [0.001,0.01,0.1,1,10]}\n",
    "\n",
    "grid_svc_v3 = GridSearchCV(LinearSVC(),param_grid_svc_v3, cv = 5, verbose = 5, scoring = \"f1_micro\")\n",
    "grid_svc_v3.fit(X_base_train, y_train)"
   ]
  },
  {
   "cell_type": "code",
   "execution_count": 10,
   "id": "ff2f1d21",
   "metadata": {},
   "outputs": [
    {
     "name": "stdout",
     "output_type": "stream",
     "text": [
      "LinearSVC(C=0.1)\n"
     ]
    }
   ],
   "source": [
    "print(grid_svc_v3.best_estimator_)"
   ]
  },
  {
   "cell_type": "code",
   "execution_count": 16,
   "id": "d744e95f",
   "metadata": {
    "collapsed": true
   },
   "outputs": [
    {
     "name": "stdout",
     "output_type": "stream",
     "text": [
      "Fitting 5 folds for each of 15 candidates, totalling 75 fits\n",
      "[CV 1/5] END ............................C=0.02;, score=0.383 total time=   4.6s\n",
      "[CV 2/5] END ............................C=0.02;, score=0.398 total time=   4.8s\n",
      "[CV 3/5] END ............................C=0.02;, score=0.379 total time=   4.6s\n",
      "[CV 4/5] END ............................C=0.02;, score=0.375 total time=   5.4s\n",
      "[CV 5/5] END ............................C=0.02;, score=0.381 total time=   4.5s\n",
      "[CV 1/5] END .............C=0.07571428571428572;, score=0.414 total time=   5.5s\n",
      "[CV 2/5] END .............C=0.07571428571428572;, score=0.417 total time=   5.7s\n",
      "[CV 3/5] END .............C=0.07571428571428572;, score=0.419 total time=   5.9s\n",
      "[CV 4/5] END .............C=0.07571428571428572;, score=0.406 total time=   5.2s\n",
      "[CV 5/5] END .............C=0.07571428571428572;, score=0.404 total time=   5.8s\n",
      "[CV 1/5] END .............C=0.13142857142857142;, score=0.421 total time=   6.2s\n",
      "[CV 2/5] END .............C=0.13142857142857142;, score=0.430 total time=   7.1s\n",
      "[CV 3/5] END .............C=0.13142857142857142;, score=0.419 total time=   6.6s\n",
      "[CV 4/5] END .............C=0.13142857142857142;, score=0.414 total time=   7.0s\n",
      "[CV 5/5] END .............C=0.13142857142857142;, score=0.407 total time=   6.6s\n",
      "[CV 1/5] END .............C=0.18714285714285714;, score=0.421 total time=   6.8s\n",
      "[CV 2/5] END .............C=0.18714285714285714;, score=0.432 total time=   6.7s\n",
      "[CV 3/5] END .............C=0.18714285714285714;, score=0.422 total time=   6.8s\n",
      "[CV 4/5] END .............C=0.18714285714285714;, score=0.414 total time=   6.9s\n",
      "[CV 5/5] END .............C=0.18714285714285714;, score=0.406 total time=   7.0s\n",
      "[CV 1/5] END .............C=0.24285714285714285;, score=0.420 total time=   7.1s\n",
      "[CV 2/5] END .............C=0.24285714285714285;, score=0.432 total time=   7.6s\n",
      "[CV 3/5] END .............C=0.24285714285714285;, score=0.422 total time=   7.9s\n",
      "[CV 4/5] END .............C=0.24285714285714285;, score=0.412 total time=   8.9s\n",
      "[CV 5/5] END .............C=0.24285714285714285;, score=0.407 total time=   8.5s\n",
      "[CV 1/5] END ..............C=0.2985714285714286;, score=0.418 total time=   8.6s\n",
      "[CV 2/5] END ..............C=0.2985714285714286;, score=0.435 total time=   8.8s\n",
      "[CV 3/5] END ..............C=0.2985714285714286;, score=0.419 total time=   9.2s\n",
      "[CV 4/5] END ..............C=0.2985714285714286;, score=0.409 total time=   8.6s\n",
      "[CV 5/5] END ..............C=0.2985714285714286;, score=0.406 total time=   9.1s\n",
      "[CV 1/5] END ..............C=0.3542857142857143;, score=0.415 total time=   9.1s\n",
      "[CV 2/5] END ..............C=0.3542857142857143;, score=0.430 total time=  10.0s\n",
      "[CV 3/5] END ..............C=0.3542857142857143;, score=0.415 total time=   9.8s\n",
      "[CV 4/5] END ..............C=0.3542857142857143;, score=0.407 total time=   9.3s\n",
      "[CV 5/5] END ..............C=0.3542857142857143;, score=0.406 total time=   9.4s\n",
      "[CV 1/5] END .............C=0.41000000000000003;, score=0.414 total time=   9.5s\n",
      "[CV 2/5] END .............C=0.41000000000000003;, score=0.431 total time=   9.5s\n",
      "[CV 3/5] END .............C=0.41000000000000003;, score=0.412 total time=   9.4s\n",
      "[CV 4/5] END .............C=0.41000000000000003;, score=0.410 total time=   9.2s\n",
      "[CV 5/5] END .............C=0.41000000000000003;, score=0.404 total time=   9.5s\n",
      "[CV 1/5] END .............C=0.46571428571428575;, score=0.412 total time=  10.8s\n",
      "[CV 2/5] END .............C=0.46571428571428575;, score=0.432 total time=  11.2s\n",
      "[CV 3/5] END .............C=0.46571428571428575;, score=0.414 total time=  10.6s\n",
      "[CV 4/5] END .............C=0.46571428571428575;, score=0.409 total time=  10.7s\n",
      "[CV 5/5] END .............C=0.46571428571428575;, score=0.406 total time=  10.1s\n",
      "[CV 1/5] END ..............C=0.5214285714285715;, score=0.414 total time=  10.3s\n",
      "[CV 2/5] END ..............C=0.5214285714285715;, score=0.434 total time=  10.6s\n",
      "[CV 3/5] END ..............C=0.5214285714285715;, score=0.413 total time=   9.7s\n",
      "[CV 4/5] END ..............C=0.5214285714285715;, score=0.409 total time=   9.8s\n",
      "[CV 5/5] END ..............C=0.5214285714285715;, score=0.405 total time=  10.9s\n",
      "[CV 1/5] END ..............C=0.5771428571428572;, score=0.411 total time=  11.2s\n",
      "[CV 2/5] END ..............C=0.5771428571428572;, score=0.433 total time=   9.9s\n",
      "[CV 3/5] END ..............C=0.5771428571428572;, score=0.412 total time=  11.8s\n",
      "[CV 4/5] END ..............C=0.5771428571428572;, score=0.409 total time=  11.5s\n",
      "[CV 5/5] END ..............C=0.5771428571428572;, score=0.406 total time=  11.7s\n",
      "[CV 1/5] END ..............C=0.6328571428571429;, score=0.409 total time=  12.4s\n",
      "[CV 2/5] END ..............C=0.6328571428571429;, score=0.433 total time=  12.1s\n",
      "[CV 3/5] END ..............C=0.6328571428571429;, score=0.409 total time=  11.6s\n",
      "[CV 4/5] END ..............C=0.6328571428571429;, score=0.406 total time=  11.5s\n",
      "[CV 5/5] END ..............C=0.6328571428571429;, score=0.403 total time=  12.5s\n",
      "[CV 1/5] END ..............C=0.6885714285714286;, score=0.406 total time=  13.7s\n",
      "[CV 2/5] END ..............C=0.6885714285714286;, score=0.432 total time=  13.7s\n",
      "[CV 3/5] END ..............C=0.6885714285714286;, score=0.407 total time=  12.5s\n",
      "[CV 4/5] END ..............C=0.6885714285714286;, score=0.405 total time=  13.3s\n",
      "[CV 5/5] END ..............C=0.6885714285714286;, score=0.404 total time=  13.7s\n",
      "[CV 1/5] END ..............C=0.7442857142857143;, score=0.405 total time=  13.2s\n",
      "[CV 2/5] END ..............C=0.7442857142857143;, score=0.431 total time=  13.7s\n",
      "[CV 3/5] END ..............C=0.7442857142857143;, score=0.407 total time=  12.4s\n",
      "[CV 4/5] END ..............C=0.7442857142857143;, score=0.405 total time=  13.1s\n",
      "[CV 5/5] END ..............C=0.7442857142857143;, score=0.403 total time=  12.5s\n",
      "[CV 1/5] END .............................C=0.8;, score=0.403 total time=  14.7s\n",
      "[CV 2/5] END .............................C=0.8;, score=0.430 total time=  14.3s\n",
      "[CV 3/5] END .............................C=0.8;, score=0.404 total time=  14.0s\n",
      "[CV 4/5] END .............................C=0.8;, score=0.404 total time=  13.9s\n",
      "[CV 5/5] END .............................C=0.8;, score=0.403 total time=  12.0s\n"
     ]
    },
    {
     "data": {
      "text/plain": [
       "GridSearchCV(cv=5, estimator=LinearSVC(),\n",
       "             param_grid={'C': array([0.02      , 0.07571429, 0.13142857, 0.18714286, 0.24285714,\n",
       "       0.29857143, 0.35428571, 0.41      , 0.46571429, 0.52142857,\n",
       "       0.57714286, 0.63285714, 0.68857143, 0.74428571, 0.8       ])},\n",
       "             scoring='f1_micro', verbose=5)"
      ]
     },
     "execution_count": 16,
     "metadata": {},
     "output_type": "execute_result"
    }
   ],
   "source": [
    "# further tuning\n",
    "param_grid_svc_v32 = {\"C\": np.linspace(0.02,0.8,15)}\n",
    "\n",
    "grid_svc_v32 = GridSearchCV(LinearSVC(),param_grid_svc_v32, cv = 5, verbose = 5, scoring = \"f1_micro\")\n",
    "grid_svc_v32.fit(X_base_train, y_train)"
   ]
  },
  {
   "cell_type": "code",
   "execution_count": 17,
   "id": "4613dcd7",
   "metadata": {},
   "outputs": [
    {
     "name": "stdout",
     "output_type": "stream",
     "text": [
      "LinearSVC(C=0.18714285714285714)\n"
     ]
    }
   ],
   "source": [
    "print(grid_svc_v32.best_estimator_)"
   ]
  },
  {
   "cell_type": "code",
   "execution_count": 10,
   "id": "f3c8021b",
   "metadata": {},
   "outputs": [
    {
     "data": {
      "text/plain": [
       "LinearSVC(C=0.18714285714285714)"
      ]
     },
     "execution_count": 10,
     "metadata": {},
     "output_type": "execute_result"
    }
   ],
   "source": [
    "#grid_svc_v32 = LinearSVC(C=0.18714285714285714)\n",
    "#grid_svc_v32.fit(X_base_train, y_train)"
   ]
  },
  {
   "cell_type": "code",
   "execution_count": 18,
   "id": "c939918b",
   "metadata": {},
   "outputs": [
    {
     "name": "stdout",
     "output_type": "stream",
     "text": [
      "Training - Classification Report:\n",
      "\n",
      "              precision    recall  f1-score   support\n",
      "\n",
      "         00s       0.94      0.90      0.92      1544\n",
      "         10s       0.93      0.96      0.94      1514\n",
      "         60s       0.90      0.96      0.93      1024\n",
      "         70s       0.95      0.93      0.94      1137\n",
      "         80s       0.94      0.91      0.93      1255\n",
      "         90s       0.94      0.92      0.93      1526\n",
      "\n",
      "    accuracy                           0.93      8000\n",
      "   macro avg       0.93      0.93      0.93      8000\n",
      "weighted avg       0.93      0.93      0.93      8000\n",
      "\n",
      "F1 micro: 0.931125\n"
     ]
    }
   ],
   "source": [
    "# TRAINING\n",
    "pred_svc_v32_grid_train = grid_svc_v32.predict(X_base_train)\n",
    "print(\"Training - Classification Report:\")\n",
    "print()\n",
    "print(classification_report(y_train, pred_svc_v32_grid_train))\n",
    "print(\"F1 micro:\", f1_score(y_train, pred_svc_v32_grid_train, average = \"micro\"))"
   ]
  },
  {
   "cell_type": "code",
   "execution_count": 24,
   "id": "da50a05c",
   "metadata": {},
   "outputs": [
    {
     "name": "stdout",
     "output_type": "stream",
     "text": [
      "Dev - Classification Report:\n",
      "\n",
      "              precision    recall  f1-score   support\n",
      "\n",
      "         00s       0.39      0.42      0.40       222\n",
      "         10s       0.55      0.66      0.60       247\n",
      "         60s       0.48      0.54      0.51       158\n",
      "         70s       0.32      0.28      0.30       163\n",
      "         80s       0.36      0.27      0.31       221\n",
      "         90s       0.45      0.42      0.43       239\n",
      "\n",
      "    accuracy                           0.44      1250\n",
      "   macro avg       0.42      0.43      0.42      1250\n",
      "weighted avg       0.43      0.44      0.43      1250\n",
      "\n",
      "F1 micro: 0.4368000000000001\n"
     ]
    }
   ],
   "source": [
    "# DEV\n",
    "pred_svc_v32_grid_dev = grid_svc_v32.predict(X_base_dev)\n",
    "print(\"Dev - Classification Report:\")\n",
    "print()\n",
    "print(classification_report(y_dev, pred_svc_v32_grid_dev))\n",
    "print(\"F1 micro:\", f1_score(y_dev, pred_svc_v32_grid_dev, average = \"micro\"))"
   ]
  },
  {
   "cell_type": "markdown",
   "id": "92de8cd4",
   "metadata": {},
   "source": [
    "Given the speed of the algorithm was noticeably higher than its broader SVC counterpart, I decided to also consider more hyperparameters and the feature selection in one same pipeline, although the best performing results mostly seem to be obtained keeping all of the features."
   ]
  },
  {
   "cell_type": "code",
   "execution_count": 11,
   "id": "7e101328",
   "metadata": {},
   "outputs": [
    {
     "data": {
      "text/plain": [
       "(8000, 149482)"
      ]
     },
     "execution_count": 11,
     "metadata": {},
     "output_type": "execute_result"
    }
   ],
   "source": [
    "X_base_train.shape"
   ]
  },
  {
   "cell_type": "code",
   "execution_count": 16,
   "id": "c99df8fb",
   "metadata": {
    "collapsed": true
   },
   "outputs": [
    {
     "name": "stdout",
     "output_type": "stream",
     "text": [
      "Fitting 5 folds for each of 56 candidates, totalling 280 fits\n",
      "[CV 1/5] END classifier__C=0.01, classifier__class_weight=None, selection__k=120000;, score=0.338 total time=   5.0s\n",
      "[CV 2/5] END classifier__C=0.01, classifier__class_weight=None, selection__k=120000;, score=0.371 total time=   4.3s\n",
      "[CV 3/5] END classifier__C=0.01, classifier__class_weight=None, selection__k=120000;, score=0.349 total time=   5.0s\n",
      "[CV 4/5] END classifier__C=0.01, classifier__class_weight=None, selection__k=120000;, score=0.349 total time=   5.0s\n",
      "[CV 5/5] END classifier__C=0.01, classifier__class_weight=None, selection__k=120000;, score=0.348 total time=   4.3s\n",
      "[CV 1/5] END classifier__C=0.01, classifier__class_weight=None, selection__k=100000;, score=0.336 total time=   3.8s\n",
      "[CV 2/5] END classifier__C=0.01, classifier__class_weight=None, selection__k=100000;, score=0.367 total time=   3.8s\n",
      "[CV 3/5] END classifier__C=0.01, classifier__class_weight=None, selection__k=100000;, score=0.352 total time=   4.1s\n",
      "[CV 4/5] END classifier__C=0.01, classifier__class_weight=None, selection__k=100000;, score=0.346 total time=   4.4s\n",
      "[CV 5/5] END classifier__C=0.01, classifier__class_weight=None, selection__k=100000;, score=0.340 total time=   4.6s\n",
      "[CV 1/5] END classifier__C=0.01, classifier__class_weight=None, selection__k=70000;, score=0.329 total time=   3.4s\n",
      "[CV 2/5] END classifier__C=0.01, classifier__class_weight=None, selection__k=70000;, score=0.368 total time=   2.9s\n",
      "[CV 3/5] END classifier__C=0.01, classifier__class_weight=None, selection__k=70000;, score=0.342 total time=   3.1s\n",
      "[CV 4/5] END classifier__C=0.01, classifier__class_weight=None, selection__k=70000;, score=0.341 total time=   3.2s\n",
      "[CV 5/5] END classifier__C=0.01, classifier__class_weight=None, selection__k=70000;, score=0.340 total time=   3.3s\n",
      "[CV 1/5] END classifier__C=0.01, classifier__class_weight=None, selection__k=50000;, score=0.331 total time=   2.6s\n",
      "[CV 2/5] END classifier__C=0.01, classifier__class_weight=None, selection__k=50000;, score=0.362 total time=   2.7s\n",
      "[CV 3/5] END classifier__C=0.01, classifier__class_weight=None, selection__k=50000;, score=0.336 total time=   2.5s\n",
      "[CV 4/5] END classifier__C=0.01, classifier__class_weight=None, selection__k=50000;, score=0.341 total time=   2.3s\n",
      "[CV 5/5] END classifier__C=0.01, classifier__class_weight=None, selection__k=50000;, score=0.336 total time=   2.9s\n",
      "[CV 1/5] END classifier__C=0.01, classifier__class_weight=None, selection__k=30000;, score=0.318 total time=   1.7s\n",
      "[CV 2/5] END classifier__C=0.01, classifier__class_weight=None, selection__k=30000;, score=0.352 total time=   2.2s\n",
      "[CV 3/5] END classifier__C=0.01, classifier__class_weight=None, selection__k=30000;, score=0.328 total time=   2.2s\n",
      "[CV 4/5] END classifier__C=0.01, classifier__class_weight=None, selection__k=30000;, score=0.332 total time=   2.0s\n",
      "[CV 5/5] END classifier__C=0.01, classifier__class_weight=None, selection__k=30000;, score=0.321 total time=   2.0s\n",
      "[CV 1/5] END classifier__C=0.01, classifier__class_weight=None, selection__k=10000;, score=0.294 total time=   1.2s\n",
      "[CV 2/5] END classifier__C=0.01, classifier__class_weight=None, selection__k=10000;, score=0.317 total time=   1.4s\n",
      "[CV 3/5] END classifier__C=0.01, classifier__class_weight=None, selection__k=10000;, score=0.306 total time=   1.5s\n",
      "[CV 4/5] END classifier__C=0.01, classifier__class_weight=None, selection__k=10000;, score=0.310 total time=   1.2s\n",
      "[CV 5/5] END classifier__C=0.01, classifier__class_weight=None, selection__k=10000;, score=0.299 total time=   1.0s\n",
      "[CV 1/5] END classifier__C=0.01, classifier__class_weight=None, selection__k=5000;, score=0.283 total time=   0.8s\n",
      "[CV 2/5] END classifier__C=0.01, classifier__class_weight=None, selection__k=5000;, score=0.297 total time=   1.3s\n",
      "[CV 3/5] END classifier__C=0.01, classifier__class_weight=None, selection__k=5000;, score=0.296 total time=   1.1s\n",
      "[CV 4/5] END classifier__C=0.01, classifier__class_weight=None, selection__k=5000;, score=0.292 total time=   1.3s\n",
      "[CV 5/5] END classifier__C=0.01, classifier__class_weight=None, selection__k=5000;, score=0.273 total time=   1.4s\n",
      "[CV 1/5] END classifier__C=0.01, classifier__class_weight=balanced, selection__k=120000;, score=0.378 total time=   5.2s\n",
      "[CV 2/5] END classifier__C=0.01, classifier__class_weight=balanced, selection__k=120000;, score=0.388 total time=   5.8s\n",
      "[CV 3/5] END classifier__C=0.01, classifier__class_weight=balanced, selection__k=120000;, score=0.372 total time=   4.8s\n",
      "[CV 4/5] END classifier__C=0.01, classifier__class_weight=balanced, selection__k=120000;, score=0.398 total time=   4.4s\n",
      "[CV 5/5] END classifier__C=0.01, classifier__class_weight=balanced, selection__k=120000;, score=0.368 total time=   4.6s\n",
      "[CV 1/5] END classifier__C=0.01, classifier__class_weight=balanced, selection__k=100000;, score=0.369 total time=   4.2s\n",
      "[CV 2/5] END classifier__C=0.01, classifier__class_weight=balanced, selection__k=100000;, score=0.391 total time=   4.1s\n",
      "[CV 3/5] END classifier__C=0.01, classifier__class_weight=balanced, selection__k=100000;, score=0.369 total time=   4.3s\n",
      "[CV 4/5] END classifier__C=0.01, classifier__class_weight=balanced, selection__k=100000;, score=0.399 total time=   4.3s\n",
      "[CV 5/5] END classifier__C=0.01, classifier__class_weight=balanced, selection__k=100000;, score=0.366 total time=   4.4s\n",
      "[CV 1/5] END classifier__C=0.01, classifier__class_weight=balanced, selection__k=70000;, score=0.363 total time=   3.4s\n",
      "[CV 2/5] END classifier__C=0.01, classifier__class_weight=balanced, selection__k=70000;, score=0.384 total time=   3.5s\n",
      "[CV 3/5] END classifier__C=0.01, classifier__class_weight=balanced, selection__k=70000;, score=0.369 total time=   3.7s\n",
      "[CV 4/5] END classifier__C=0.01, classifier__class_weight=balanced, selection__k=70000;, score=0.391 total time=   3.5s\n",
      "[CV 5/5] END classifier__C=0.01, classifier__class_weight=balanced, selection__k=70000;, score=0.370 total time=   3.0s\n",
      "[CV 1/5] END classifier__C=0.01, classifier__class_weight=balanced, selection__k=50000;, score=0.364 total time=   2.8s\n",
      "[CV 2/5] END classifier__C=0.01, classifier__class_weight=balanced, selection__k=50000;, score=0.381 total time=   3.0s\n",
      "[CV 3/5] END classifier__C=0.01, classifier__class_weight=balanced, selection__k=50000;, score=0.362 total time=   2.9s\n",
      "[CV 4/5] END classifier__C=0.01, classifier__class_weight=balanced, selection__k=50000;, score=0.384 total time=   2.7s\n",
      "[CV 5/5] END classifier__C=0.01, classifier__class_weight=balanced, selection__k=50000;, score=0.366 total time=   2.7s\n",
      "[CV 1/5] END classifier__C=0.01, classifier__class_weight=balanced, selection__k=30000;, score=0.362 total time=   2.1s\n",
      "[CV 2/5] END classifier__C=0.01, classifier__class_weight=balanced, selection__k=30000;, score=0.374 total time=   2.0s\n",
      "[CV 3/5] END classifier__C=0.01, classifier__class_weight=balanced, selection__k=30000;, score=0.356 total time=   2.3s\n",
      "[CV 4/5] END classifier__C=0.01, classifier__class_weight=balanced, selection__k=30000;, score=0.378 total time=   2.2s\n",
      "[CV 5/5] END classifier__C=0.01, classifier__class_weight=balanced, selection__k=30000;, score=0.363 total time=   2.2s\n",
      "[CV 1/5] END classifier__C=0.01, classifier__class_weight=balanced, selection__k=10000;, score=0.340 total time=   1.7s\n",
      "[CV 2/5] END classifier__C=0.01, classifier__class_weight=balanced, selection__k=10000;, score=0.357 total time=   1.6s\n",
      "[CV 3/5] END classifier__C=0.01, classifier__class_weight=balanced, selection__k=10000;, score=0.336 total time=   1.4s\n",
      "[CV 4/5] END classifier__C=0.01, classifier__class_weight=balanced, selection__k=10000;, score=0.354 total time=   1.6s\n",
      "[CV 5/5] END classifier__C=0.01, classifier__class_weight=balanced, selection__k=10000;, score=0.340 total time=   1.4s\n",
      "[CV 1/5] END classifier__C=0.01, classifier__class_weight=balanced, selection__k=5000;, score=0.329 total time=   1.4s\n",
      "[CV 2/5] END classifier__C=0.01, classifier__class_weight=balanced, selection__k=5000;, score=0.346 total time=   1.3s\n",
      "[CV 3/5] END classifier__C=0.01, classifier__class_weight=balanced, selection__k=5000;, score=0.326 total time=   1.2s\n",
      "[CV 4/5] END classifier__C=0.01, classifier__class_weight=balanced, selection__k=5000;, score=0.349 total time=   1.3s\n"
     ]
    },
    {
     "name": "stdout",
     "output_type": "stream",
     "text": [
      "[CV 5/5] END classifier__C=0.01, classifier__class_weight=balanced, selection__k=5000;, score=0.339 total time=   1.4s\n",
      "[CV 1/5] END classifier__C=0.1, classifier__class_weight=None, selection__k=120000;, score=0.412 total time=   6.8s\n",
      "[CV 2/5] END classifier__C=0.1, classifier__class_weight=None, selection__k=120000;, score=0.425 total time=   6.4s\n",
      "[CV 3/5] END classifier__C=0.1, classifier__class_weight=None, selection__k=120000;, score=0.424 total time=   6.9s\n",
      "[CV 4/5] END classifier__C=0.1, classifier__class_weight=None, selection__k=120000;, score=0.415 total time=   6.3s\n",
      "[CV 5/5] END classifier__C=0.1, classifier__class_weight=None, selection__k=120000;, score=0.407 total time=   6.2s\n",
      "[CV 1/5] END classifier__C=0.1, classifier__class_weight=None, selection__k=100000;, score=0.406 total time=   5.5s\n",
      "[CV 2/5] END classifier__C=0.1, classifier__class_weight=None, selection__k=100000;, score=0.422 total time=   4.2s\n",
      "[CV 3/5] END classifier__C=0.1, classifier__class_weight=None, selection__k=100000;, score=0.429 total time=   5.6s\n",
      "[CV 4/5] END classifier__C=0.1, classifier__class_weight=None, selection__k=100000;, score=0.411 total time=   5.4s\n",
      "[CV 5/5] END classifier__C=0.1, classifier__class_weight=None, selection__k=100000;, score=0.400 total time=   5.6s\n",
      "[CV 1/5] END classifier__C=0.1, classifier__class_weight=None, selection__k=70000;, score=0.405 total time=   4.1s\n",
      "[CV 2/5] END classifier__C=0.1, classifier__class_weight=None, selection__k=70000;, score=0.421 total time=   4.0s\n",
      "[CV 3/5] END classifier__C=0.1, classifier__class_weight=None, selection__k=70000;, score=0.416 total time=   3.5s\n",
      "[CV 4/5] END classifier__C=0.1, classifier__class_weight=None, selection__k=70000;, score=0.415 total time=   4.4s\n",
      "[CV 5/5] END classifier__C=0.1, classifier__class_weight=None, selection__k=70000;, score=0.407 total time=   3.7s\n",
      "[CV 1/5] END classifier__C=0.1, classifier__class_weight=None, selection__k=50000;, score=0.411 total time=   3.5s\n",
      "[CV 2/5] END classifier__C=0.1, classifier__class_weight=None, selection__k=50000;, score=0.417 total time=   3.4s\n",
      "[CV 3/5] END classifier__C=0.1, classifier__class_weight=None, selection__k=50000;, score=0.402 total time=   3.4s\n",
      "[CV 4/5] END classifier__C=0.1, classifier__class_weight=None, selection__k=50000;, score=0.410 total time=   3.8s\n",
      "[CV 5/5] END classifier__C=0.1, classifier__class_weight=None, selection__k=50000;, score=0.399 total time=   3.3s\n",
      "[CV 1/5] END classifier__C=0.1, classifier__class_weight=None, selection__k=30000;, score=0.401 total time=   2.6s\n",
      "[CV 2/5] END classifier__C=0.1, classifier__class_weight=None, selection__k=30000;, score=0.409 total time=   2.7s\n",
      "[CV 3/5] END classifier__C=0.1, classifier__class_weight=None, selection__k=30000;, score=0.394 total time=   2.6s\n",
      "[CV 4/5] END classifier__C=0.1, classifier__class_weight=None, selection__k=30000;, score=0.412 total time=   2.9s\n",
      "[CV 5/5] END classifier__C=0.1, classifier__class_weight=None, selection__k=30000;, score=0.398 total time=   2.8s\n",
      "[CV 1/5] END classifier__C=0.1, classifier__class_weight=None, selection__k=10000;, score=0.372 total time=   1.9s\n",
      "[CV 2/5] END classifier__C=0.1, classifier__class_weight=None, selection__k=10000;, score=0.388 total time=   1.9s\n",
      "[CV 3/5] END classifier__C=0.1, classifier__class_weight=None, selection__k=10000;, score=0.378 total time=   1.8s\n",
      "[CV 4/5] END classifier__C=0.1, classifier__class_weight=None, selection__k=10000;, score=0.383 total time=   1.8s\n",
      "[CV 5/5] END classifier__C=0.1, classifier__class_weight=None, selection__k=10000;, score=0.371 total time=   1.8s\n",
      "[CV 1/5] END classifier__C=0.1, classifier__class_weight=None, selection__k=5000;, score=0.363 total time=   1.4s\n",
      "[CV 2/5] END classifier__C=0.1, classifier__class_weight=None, selection__k=5000;, score=0.369 total time=   1.5s\n",
      "[CV 3/5] END classifier__C=0.1, classifier__class_weight=None, selection__k=5000;, score=0.366 total time=   1.6s\n",
      "[CV 4/5] END classifier__C=0.1, classifier__class_weight=None, selection__k=5000;, score=0.363 total time=   1.3s\n",
      "[CV 5/5] END classifier__C=0.1, classifier__class_weight=None, selection__k=5000;, score=0.358 total time=   1.5s\n",
      "[CV 1/5] END classifier__C=0.1, classifier__class_weight=balanced, selection__k=120000;, score=0.422 total time=   6.5s\n",
      "[CV 2/5] END classifier__C=0.1, classifier__class_weight=balanced, selection__k=120000;, score=0.422 total time=   6.2s\n",
      "[CV 3/5] END classifier__C=0.1, classifier__class_weight=balanced, selection__k=120000;, score=0.408 total time=   5.9s\n",
      "[CV 4/5] END classifier__C=0.1, classifier__class_weight=balanced, selection__k=120000;, score=0.424 total time=   6.0s\n",
      "[CV 5/5] END classifier__C=0.1, classifier__class_weight=balanced, selection__k=120000;, score=0.398 total time=   5.8s\n",
      "[CV 1/5] END classifier__C=0.1, classifier__class_weight=balanced, selection__k=100000;, score=0.419 total time=   5.0s\n",
      "[CV 2/5] END classifier__C=0.1, classifier__class_weight=balanced, selection__k=100000;, score=0.424 total time=   5.0s\n",
      "[CV 3/5] END classifier__C=0.1, classifier__class_weight=balanced, selection__k=100000;, score=0.414 total time=   5.3s\n",
      "[CV 4/5] END classifier__C=0.1, classifier__class_weight=balanced, selection__k=100000;, score=0.421 total time=   4.8s\n",
      "[CV 5/5] END classifier__C=0.1, classifier__class_weight=balanced, selection__k=100000;, score=0.391 total time=   4.8s\n",
      "[CV 1/5] END classifier__C=0.1, classifier__class_weight=balanced, selection__k=70000;, score=0.414 total time=   3.7s\n",
      "[CV 2/5] END classifier__C=0.1, classifier__class_weight=balanced, selection__k=70000;, score=0.425 total time=   4.3s\n",
      "[CV 3/5] END classifier__C=0.1, classifier__class_weight=balanced, selection__k=70000;, score=0.413 total time=   4.3s\n",
      "[CV 4/5] END classifier__C=0.1, classifier__class_weight=balanced, selection__k=70000;, score=0.432 total time=   4.2s\n",
      "[CV 5/5] END classifier__C=0.1, classifier__class_weight=balanced, selection__k=70000;, score=0.394 total time=   4.0s\n",
      "[CV 1/5] END classifier__C=0.1, classifier__class_weight=balanced, selection__k=50000;, score=0.406 total time=   3.5s\n",
      "[CV 2/5] END classifier__C=0.1, classifier__class_weight=balanced, selection__k=50000;, score=0.422 total time=   3.4s\n",
      "[CV 3/5] END classifier__C=0.1, classifier__class_weight=balanced, selection__k=50000;, score=0.408 total time=   3.3s\n",
      "[CV 4/5] END classifier__C=0.1, classifier__class_weight=balanced, selection__k=50000;, score=0.427 total time=   3.7s\n",
      "[CV 5/5] END classifier__C=0.1, classifier__class_weight=balanced, selection__k=50000;, score=0.386 total time=   3.5s\n",
      "[CV 1/5] END classifier__C=0.1, classifier__class_weight=balanced, selection__k=30000;, score=0.397 total time=   2.3s\n",
      "[CV 2/5] END classifier__C=0.1, classifier__class_weight=balanced, selection__k=30000;, score=0.410 total time=   2.7s\n",
      "[CV 3/5] END classifier__C=0.1, classifier__class_weight=balanced, selection__k=30000;, score=0.389 total time=   2.4s\n",
      "[CV 4/5] END classifier__C=0.1, classifier__class_weight=balanced, selection__k=30000;, score=0.420 total time=   2.7s\n",
      "[CV 5/5] END classifier__C=0.1, classifier__class_weight=balanced, selection__k=30000;, score=0.379 total time=   2.8s\n",
      "[CV 1/5] END classifier__C=0.1, classifier__class_weight=balanced, selection__k=10000;, score=0.364 total time=   1.9s\n",
      "[CV 2/5] END classifier__C=0.1, classifier__class_weight=balanced, selection__k=10000;, score=0.384 total time=   1.7s\n",
      "[CV 3/5] END classifier__C=0.1, classifier__class_weight=balanced, selection__k=10000;, score=0.371 total time=   1.7s\n",
      "[CV 4/5] END classifier__C=0.1, classifier__class_weight=balanced, selection__k=10000;, score=0.398 total time=   1.7s\n",
      "[CV 5/5] END classifier__C=0.1, classifier__class_weight=balanced, selection__k=10000;, score=0.376 total time=   1.8s\n",
      "[CV 1/5] END classifier__C=0.1, classifier__class_weight=balanced, selection__k=5000;, score=0.354 total time=   1.4s\n",
      "[CV 2/5] END classifier__C=0.1, classifier__class_weight=balanced, selection__k=5000;, score=0.365 total time=   1.4s\n",
      "[CV 3/5] END classifier__C=0.1, classifier__class_weight=balanced, selection__k=5000;, score=0.356 total time=   1.4s\n",
      "[CV 4/5] END classifier__C=0.1, classifier__class_weight=balanced, selection__k=5000;, score=0.380 total time=   1.4s\n"
     ]
    },
    {
     "name": "stdout",
     "output_type": "stream",
     "text": [
      "[CV 5/5] END classifier__C=0.1, classifier__class_weight=balanced, selection__k=5000;, score=0.354 total time=   1.3s\n",
      "[CV 1/5] END classifier__C=1, classifier__class_weight=None, selection__k=120000;, score=0.400 total time=  12.7s\n",
      "[CV 2/5] END classifier__C=1, classifier__class_weight=None, selection__k=120000;, score=0.426 total time=  12.2s\n",
      "[CV 3/5] END classifier__C=1, classifier__class_weight=None, selection__k=120000;, score=0.406 total time=  12.7s\n",
      "[CV 4/5] END classifier__C=1, classifier__class_weight=None, selection__k=120000;, score=0.409 total time=  12.4s\n",
      "[CV 5/5] END classifier__C=1, classifier__class_weight=None, selection__k=120000;, score=0.397 total time=  14.6s\n",
      "[CV 1/5] END classifier__C=1, classifier__class_weight=None, selection__k=100000;, score=0.399 total time=  12.3s\n",
      "[CV 2/5] END classifier__C=1, classifier__class_weight=None, selection__k=100000;, score=0.420 total time=  11.9s\n",
      "[CV 3/5] END classifier__C=1, classifier__class_weight=None, selection__k=100000;, score=0.406 total time=  12.3s\n",
      "[CV 4/5] END classifier__C=1, classifier__class_weight=None, selection__k=100000;, score=0.406 total time=  12.0s\n",
      "[CV 5/5] END classifier__C=1, classifier__class_weight=None, selection__k=100000;, score=0.396 total time=  12.3s\n",
      "[CV 1/5] END classifier__C=1, classifier__class_weight=None, selection__k=70000;, score=0.403 total time=   8.1s\n",
      "[CV 2/5] END classifier__C=1, classifier__class_weight=None, selection__k=70000;, score=0.429 total time=   7.1s\n",
      "[CV 3/5] END classifier__C=1, classifier__class_weight=None, selection__k=70000;, score=0.409 total time=   8.0s\n",
      "[CV 4/5] END classifier__C=1, classifier__class_weight=None, selection__k=70000;, score=0.405 total time=   8.5s\n",
      "[CV 5/5] END classifier__C=1, classifier__class_weight=None, selection__k=70000;, score=0.391 total time=   8.2s\n",
      "[CV 1/5] END classifier__C=1, classifier__class_weight=None, selection__k=50000;, score=0.407 total time=   6.3s\n",
      "[CV 2/5] END classifier__C=1, classifier__class_weight=None, selection__k=50000;, score=0.422 total time=   6.0s\n",
      "[CV 3/5] END classifier__C=1, classifier__class_weight=None, selection__k=50000;, score=0.405 total time=   6.2s\n",
      "[CV 4/5] END classifier__C=1, classifier__class_weight=None, selection__k=50000;, score=0.410 total time=   6.2s\n",
      "[CV 5/5] END classifier__C=1, classifier__class_weight=None, selection__k=50000;, score=0.393 total time=   6.1s\n",
      "[CV 1/5] END classifier__C=1, classifier__class_weight=None, selection__k=30000;, score=0.408 total time=   4.9s\n",
      "[CV 2/5] END classifier__C=1, classifier__class_weight=None, selection__k=30000;, score=0.423 total time=   5.1s\n",
      "[CV 3/5] END classifier__C=1, classifier__class_weight=None, selection__k=30000;, score=0.396 total time=   5.1s\n",
      "[CV 4/5] END classifier__C=1, classifier__class_weight=None, selection__k=30000;, score=0.421 total time=   5.1s\n",
      "[CV 5/5] END classifier__C=1, classifier__class_weight=None, selection__k=30000;, score=0.397 total time=   5.3s\n",
      "[CV 1/5] END classifier__C=1, classifier__class_weight=None, selection__k=10000;, score=0.391 total time=   3.1s\n",
      "[CV 2/5] END classifier__C=1, classifier__class_weight=None, selection__k=10000;, score=0.401 total time=   3.0s\n",
      "[CV 3/5] END classifier__C=1, classifier__class_weight=None, selection__k=10000;, score=0.384 total time=   3.1s\n",
      "[CV 4/5] END classifier__C=1, classifier__class_weight=None, selection__k=10000;, score=0.401 total time=   2.7s\n",
      "[CV 5/5] END classifier__C=1, classifier__class_weight=None, selection__k=10000;, score=0.382 total time=   3.0s\n",
      "[CV 1/5] END classifier__C=1, classifier__class_weight=None, selection__k=5000;, score=0.380 total time=   2.4s\n",
      "[CV 2/5] END classifier__C=1, classifier__class_weight=None, selection__k=5000;, score=0.393 total time=   2.4s\n",
      "[CV 3/5] END classifier__C=1, classifier__class_weight=None, selection__k=5000;, score=0.377 total time=   2.4s\n",
      "[CV 4/5] END classifier__C=1, classifier__class_weight=None, selection__k=5000;, score=0.378 total time=   2.4s\n",
      "[CV 5/5] END classifier__C=1, classifier__class_weight=None, selection__k=5000;, score=0.366 total time=   2.3s\n",
      "[CV 1/5] END classifier__C=1, classifier__class_weight=balanced, selection__k=120000;, score=0.401 total time=  13.8s\n",
      "[CV 2/5] END classifier__C=1, classifier__class_weight=balanced, selection__k=120000;, score=0.432 total time=  14.1s\n",
      "[CV 3/5] END classifier__C=1, classifier__class_weight=balanced, selection__k=120000;, score=0.402 total time=  13.9s\n",
      "[CV 4/5] END classifier__C=1, classifier__class_weight=balanced, selection__k=120000;, score=0.405 total time=  14.0s\n",
      "[CV 5/5] END classifier__C=1, classifier__class_weight=balanced, selection__k=120000;, score=0.395 total time=  13.5s\n",
      "[CV 1/5] END classifier__C=1, classifier__class_weight=balanced, selection__k=100000;, score=0.403 total time=  11.6s\n",
      "[CV 2/5] END classifier__C=1, classifier__class_weight=balanced, selection__k=100000;, score=0.428 total time=  11.3s\n",
      "[CV 3/5] END classifier__C=1, classifier__class_weight=balanced, selection__k=100000;, score=0.403 total time=  10.7s\n",
      "[CV 4/5] END classifier__C=1, classifier__class_weight=balanced, selection__k=100000;, score=0.407 total time=  11.6s\n",
      "[CV 5/5] END classifier__C=1, classifier__class_weight=balanced, selection__k=100000;, score=0.390 total time=  11.6s\n",
      "[CV 1/5] END classifier__C=1, classifier__class_weight=balanced, selection__k=70000;, score=0.407 total time=   9.0s\n",
      "[CV 2/5] END classifier__C=1, classifier__class_weight=balanced, selection__k=70000;, score=0.433 total time=   8.9s\n",
      "[CV 3/5] END classifier__C=1, classifier__class_weight=balanced, selection__k=70000;, score=0.409 total time=   8.3s\n",
      "[CV 4/5] END classifier__C=1, classifier__class_weight=balanced, selection__k=70000;, score=0.414 total time=   8.3s\n",
      "[CV 5/5] END classifier__C=1, classifier__class_weight=balanced, selection__k=70000;, score=0.391 total time=   7.6s\n",
      "[CV 1/5] END classifier__C=1, classifier__class_weight=balanced, selection__k=50000;, score=0.411 total time=   6.4s\n",
      "[CV 2/5] END classifier__C=1, classifier__class_weight=balanced, selection__k=50000;, score=0.422 total time=   6.2s\n",
      "[CV 3/5] END classifier__C=1, classifier__class_weight=balanced, selection__k=50000;, score=0.398 total time=   6.6s\n",
      "[CV 4/5] END classifier__C=1, classifier__class_weight=balanced, selection__k=50000;, score=0.414 total time=   6.6s\n",
      "[CV 5/5] END classifier__C=1, classifier__class_weight=balanced, selection__k=50000;, score=0.391 total time=   6.1s\n",
      "[CV 1/5] END classifier__C=1, classifier__class_weight=balanced, selection__k=30000;, score=0.399 total time=   4.6s\n",
      "[CV 2/5] END classifier__C=1, classifier__class_weight=balanced, selection__k=30000;, score=0.417 total time=   4.6s\n",
      "[CV 3/5] END classifier__C=1, classifier__class_weight=balanced, selection__k=30000;, score=0.401 total time=   4.9s\n",
      "[CV 4/5] END classifier__C=1, classifier__class_weight=balanced, selection__k=30000;, score=0.422 total time=   4.9s\n",
      "[CV 5/5] END classifier__C=1, classifier__class_weight=balanced, selection__k=30000;, score=0.400 total time=   4.6s\n",
      "[CV 1/5] END classifier__C=1, classifier__class_weight=balanced, selection__k=10000;, score=0.391 total time=   3.0s\n",
      "[CV 2/5] END classifier__C=1, classifier__class_weight=balanced, selection__k=10000;, score=0.394 total time=   2.9s\n",
      "[CV 3/5] END classifier__C=1, classifier__class_weight=balanced, selection__k=10000;, score=0.381 total time=   3.1s\n",
      "[CV 4/5] END classifier__C=1, classifier__class_weight=balanced, selection__k=10000;, score=0.407 total time=   2.7s\n",
      "[CV 5/5] END classifier__C=1, classifier__class_weight=balanced, selection__k=10000;, score=0.379 total time=   3.0s\n",
      "[CV 1/5] END classifier__C=1, classifier__class_weight=balanced, selection__k=5000;, score=0.381 total time=   2.4s\n",
      "[CV 2/5] END classifier__C=1, classifier__class_weight=balanced, selection__k=5000;, score=0.387 total time=   2.4s\n",
      "[CV 3/5] END classifier__C=1, classifier__class_weight=balanced, selection__k=5000;, score=0.376 total time=   2.3s\n",
      "[CV 4/5] END classifier__C=1, classifier__class_weight=balanced, selection__k=5000;, score=0.387 total time=   2.3s\n",
      "[CV 5/5] END classifier__C=1, classifier__class_weight=balanced, selection__k=5000;, score=0.373 total time=   2.3s\n",
      "[CV 1/5] END classifier__C=10, classifier__class_weight=None, selection__k=120000;, score=0.373 total time= 1.3min\n"
     ]
    },
    {
     "name": "stdout",
     "output_type": "stream",
     "text": [
      "[CV 2/5] END classifier__C=10, classifier__class_weight=None, selection__k=120000;, score=0.399 total time= 1.3min\n",
      "[CV 3/5] END classifier__C=10, classifier__class_weight=None, selection__k=120000;, score=0.378 total time= 1.3min\n",
      "[CV 4/5] END classifier__C=10, classifier__class_weight=None, selection__k=120000;, score=0.385 total time= 1.3min\n",
      "[CV 5/5] END classifier__C=10, classifier__class_weight=None, selection__k=120000;, score=0.385 total time= 1.3min\n",
      "[CV 1/5] END classifier__C=10, classifier__class_weight=None, selection__k=100000;, score=0.381 total time= 1.0min\n",
      "[CV 2/5] END classifier__C=10, classifier__class_weight=None, selection__k=100000;, score=0.391 total time= 1.1min\n",
      "[CV 3/5] END classifier__C=10, classifier__class_weight=None, selection__k=100000;, score=0.378 total time= 1.1min\n",
      "[CV 4/5] END classifier__C=10, classifier__class_weight=None, selection__k=100000;, score=0.383 total time= 1.0min\n",
      "[CV 5/5] END classifier__C=10, classifier__class_weight=None, selection__k=100000;, score=0.374 total time=  57.6s\n",
      "[CV 1/5] END classifier__C=10, classifier__class_weight=None, selection__k=70000;, score=0.378 total time=  39.5s\n",
      "[CV 2/5] END classifier__C=10, classifier__class_weight=None, selection__k=70000;, score=0.397 total time=  41.7s\n",
      "[CV 3/5] END classifier__C=10, classifier__class_weight=None, selection__k=70000;, score=0.372 total time=  45.1s\n",
      "[CV 4/5] END classifier__C=10, classifier__class_weight=None, selection__k=70000;, score=0.383 total time=  40.9s\n",
      "[CV 5/5] END classifier__C=10, classifier__class_weight=None, selection__k=70000;, score=0.365 total time=  41.2s\n",
      "[CV 1/5] END classifier__C=10, classifier__class_weight=None, selection__k=50000;, score=0.374 total time=  31.2s\n",
      "[CV 2/5] END classifier__C=10, classifier__class_weight=None, selection__k=50000;, score=0.384 total time=  34.1s\n",
      "[CV 3/5] END classifier__C=10, classifier__class_weight=None, selection__k=50000;, score=0.364 total time=  32.6s\n",
      "[CV 4/5] END classifier__C=10, classifier__class_weight=None, selection__k=50000;, score=0.377 total time=  30.6s\n",
      "[CV 5/5] END classifier__C=10, classifier__class_weight=None, selection__k=50000;, score=0.364 total time=  33.8s\n",
      "[CV 1/5] END classifier__C=10, classifier__class_weight=None, selection__k=30000;, score=0.361 total time=  20.2s\n",
      "[CV 2/5] END classifier__C=10, classifier__class_weight=None, selection__k=30000;, score=0.386 total time=  21.0s\n",
      "[CV 3/5] END classifier__C=10, classifier__class_weight=None, selection__k=30000;, score=0.367 total time=  22.4s\n",
      "[CV 4/5] END classifier__C=10, classifier__class_weight=None, selection__k=30000;, score=0.394 total time=  21.0s\n",
      "[CV 5/5] END classifier__C=10, classifier__class_weight=None, selection__k=30000;, score=0.370 total time=  21.4s\n",
      "[CV 1/5] END classifier__C=10, classifier__class_weight=None, selection__k=10000;, score=0.365 total time=  11.9s\n",
      "[CV 2/5] END classifier__C=10, classifier__class_weight=None, selection__k=10000;, score=0.381 total time=  11.4s\n",
      "[CV 3/5] END classifier__C=10, classifier__class_weight=None, selection__k=10000;, score=0.364 total time=  12.0s\n",
      "[CV 4/5] END classifier__C=10, classifier__class_weight=None, selection__k=10000;, score=0.375 total time=  11.2s\n",
      "[CV 5/5] END classifier__C=10, classifier__class_weight=None, selection__k=10000;, score=0.351 total time=  11.4s\n",
      "[CV 1/5] END classifier__C=10, classifier__class_weight=None, selection__k=5000;, score=0.355 total time=   8.7s\n",
      "[CV 2/5] END classifier__C=10, classifier__class_weight=None, selection__k=5000;, score=0.384 total time=  10.4s\n",
      "[CV 3/5] END classifier__C=10, classifier__class_weight=None, selection__k=5000;, score=0.358 total time=   8.0s\n",
      "[CV 4/5] END classifier__C=10, classifier__class_weight=None, selection__k=5000;, score=0.366 total time=   8.2s\n",
      "[CV 5/5] END classifier__C=10, classifier__class_weight=None, selection__k=5000;, score=0.349 total time=   9.1s\n",
      "[CV 1/5] END classifier__C=10, classifier__class_weight=balanced, selection__k=120000;, score=0.374 total time= 1.3min\n",
      "[CV 2/5] END classifier__C=10, classifier__class_weight=balanced, selection__k=120000;, score=0.400 total time= 1.3min\n",
      "[CV 3/5] END classifier__C=10, classifier__class_weight=balanced, selection__k=120000;, score=0.380 total time= 1.3min\n",
      "[CV 4/5] END classifier__C=10, classifier__class_weight=balanced, selection__k=120000;, score=0.388 total time= 1.2min\n",
      "[CV 5/5] END classifier__C=10, classifier__class_weight=balanced, selection__k=120000;, score=0.384 total time= 1.3min\n",
      "[CV 1/5] END classifier__C=10, classifier__class_weight=balanced, selection__k=100000;, score=0.381 total time= 1.0min\n",
      "[CV 2/5] END classifier__C=10, classifier__class_weight=balanced, selection__k=100000;, score=0.392 total time=  54.8s\n",
      "[CV 3/5] END classifier__C=10, classifier__class_weight=balanced, selection__k=100000;, score=0.377 total time= 1.1min\n",
      "[CV 4/5] END classifier__C=10, classifier__class_weight=balanced, selection__k=100000;, score=0.383 total time=  52.9s\n",
      "[CV 5/5] END classifier__C=10, classifier__class_weight=balanced, selection__k=100000;, score=0.376 total time=  56.2s\n",
      "[CV 1/5] END classifier__C=10, classifier__class_weight=balanced, selection__k=70000;, score=0.376 total time=  38.5s\n",
      "[CV 2/5] END classifier__C=10, classifier__class_weight=balanced, selection__k=70000;, score=0.401 total time=  41.9s\n",
      "[CV 3/5] END classifier__C=10, classifier__class_weight=balanced, selection__k=70000;, score=0.374 total time=  38.1s\n",
      "[CV 4/5] END classifier__C=10, classifier__class_weight=balanced, selection__k=70000;, score=0.381 total time=  40.8s\n",
      "[CV 5/5] END classifier__C=10, classifier__class_weight=balanced, selection__k=70000;, score=0.365 total time=  40.8s\n",
      "[CV 1/5] END classifier__C=10, classifier__class_weight=balanced, selection__k=50000;, score=0.375 total time=  27.6s\n",
      "[CV 2/5] END classifier__C=10, classifier__class_weight=balanced, selection__k=50000;, score=0.385 total time=  29.7s\n",
      "[CV 3/5] END classifier__C=10, classifier__class_weight=balanced, selection__k=50000;, score=0.366 total time=  23.0s\n",
      "[CV 4/5] END classifier__C=10, classifier__class_weight=balanced, selection__k=50000;, score=0.379 total time=  29.4s\n",
      "[CV 5/5] END classifier__C=10, classifier__class_weight=balanced, selection__k=50000;, score=0.366 total time=  30.9s\n",
      "[CV 1/5] END classifier__C=10, classifier__class_weight=balanced, selection__k=30000;, score=0.363 total time=  20.9s\n",
      "[CV 2/5] END classifier__C=10, classifier__class_weight=balanced, selection__k=30000;, score=0.389 total time=  20.9s\n",
      "[CV 3/5] END classifier__C=10, classifier__class_weight=balanced, selection__k=30000;, score=0.371 total time=  22.1s\n",
      "[CV 4/5] END classifier__C=10, classifier__class_weight=balanced, selection__k=30000;, score=0.398 total time=  19.5s\n",
      "[CV 5/5] END classifier__C=10, classifier__class_weight=balanced, selection__k=30000;, score=0.373 total time=  19.9s\n",
      "[CV 1/5] END classifier__C=10, classifier__class_weight=balanced, selection__k=10000;, score=0.365 total time=   5.6s\n",
      "[CV 2/5] END classifier__C=10, classifier__class_weight=balanced, selection__k=10000;, score=0.383 total time=   5.4s\n",
      "[CV 3/5] END classifier__C=10, classifier__class_weight=balanced, selection__k=10000;, score=0.361 total time=   5.2s\n",
      "[CV 4/5] END classifier__C=10, classifier__class_weight=balanced, selection__k=10000;, score=0.370 total time=   5.0s\n",
      "[CV 5/5] END classifier__C=10, classifier__class_weight=balanced, selection__k=10000;, score=0.354 total time=   5.6s\n",
      "[CV 1/5] END classifier__C=10, classifier__class_weight=balanced, selection__k=5000;, score=0.356 total time=   3.6s\n",
      "[CV 2/5] END classifier__C=10, classifier__class_weight=balanced, selection__k=5000;, score=0.388 total time=   4.1s\n",
      "[CV 3/5] END classifier__C=10, classifier__class_weight=balanced, selection__k=5000;, score=0.353 total time=   3.6s\n",
      "[CV 4/5] END classifier__C=10, classifier__class_weight=balanced, selection__k=5000;, score=0.369 total time=   4.2s\n",
      "[CV 5/5] END classifier__C=10, classifier__class_weight=balanced, selection__k=5000;, score=0.349 total time=   5.0s\n"
     ]
    },
    {
     "data": {
      "text/plain": [
       "GridSearchCV(cv=5,\n",
       "             estimator=Pipeline(steps=[('selection',\n",
       "                                        SelectKBest(score_func=<function chi2 at 0x00000252E59150D0>)),\n",
       "                                       ('classifier', LinearSVC())]),\n",
       "             param_grid=[{'classifier__C': [0.01, 0.1, 1, 10],\n",
       "                          'classifier__class_weight': [None, 'balanced'],\n",
       "                          'selection__k': [120000, 100000, 70000, 50000, 30000,\n",
       "                                           10000, 5000]}],\n",
       "             scoring='f1_micro', verbose=5)"
      ]
     },
     "execution_count": 16,
     "metadata": {},
     "output_type": "execute_result"
    }
   ],
   "source": [
    "pipe_svc_v4 = Pipeline([(\"selection\", SelectKBest(chi2)),\n",
    "                       (\"classifier\", LinearSVC())\n",
    "                   ])\n",
    "\n",
    "pipe_svc_param_v4 = [{\"selection__k\": [120000, 100000, 70000,50000,30000,10000,5000],\n",
    "                    \"classifier__C\": [0.01,0.1,1,10], \"classifier__class_weight\": [None, \"balanced\"]}]\n",
    "\n",
    "grid_svc_v4 = GridSearchCV(pipe_svc_v4, pipe_svc_param_v4, cv = 5, verbose = 5, scoring = \"f1_micro\")\n",
    "grid_svc_v4.fit(X_base_train, y_train)"
   ]
  },
  {
   "cell_type": "code",
   "execution_count": 17,
   "id": "511052c8",
   "metadata": {},
   "outputs": [
    {
     "name": "stdout",
     "output_type": "stream",
     "text": [
      "Pipeline(steps=[('selection',\n",
      "                 SelectKBest(k=120000,\n",
      "                             score_func=<function chi2 at 0x00000252E59150D0>)),\n",
      "                ('classifier', LinearSVC(C=0.1))])\n"
     ]
    }
   ],
   "source": [
    "print(grid_svc_v4.best_estimator_)"
   ]
  },
  {
   "cell_type": "code",
   "execution_count": null,
   "id": "32471eba",
   "metadata": {},
   "outputs": [],
   "source": [
    "# grid_svc_v4 = Pipeline([(\"selection\", SelectKBest(chi2, k = 120000)),\n",
    "#                        (\"classifier\", LinearSVC(C 0.1))\n",
    "#                    ])\n",
    "\n",
    "# grid_svc_v4.fit(X_base_train, y_train)"
   ]
  },
  {
   "cell_type": "code",
   "execution_count": 18,
   "id": "a9125714",
   "metadata": {},
   "outputs": [
    {
     "name": "stdout",
     "output_type": "stream",
     "text": [
      "Training - Classification Report:\n",
      "\n",
      "              precision    recall  f1-score   support\n",
      "\n",
      "         00s       0.86      0.81      0.83      1544\n",
      "         10s       0.82      0.92      0.87      1514\n",
      "         60s       0.80      0.88      0.84      1024\n",
      "         70s       0.87      0.82      0.84      1137\n",
      "         80s       0.87      0.80      0.84      1255\n",
      "         90s       0.86      0.84      0.85      1526\n",
      "\n",
      "    accuracy                           0.85      8000\n",
      "   macro avg       0.85      0.85      0.84      8000\n",
      "weighted avg       0.85      0.85      0.85      8000\n",
      "\n",
      "F1 micro: 0.845375\n"
     ]
    }
   ],
   "source": [
    "# TRAINING\n",
    "pred_svc_v4_pipe_train = grid_svc_v4.predict(X_base_train)\n",
    "print(\"Training - Classification Report:\")\n",
    "print()\n",
    "print(classification_report(y_train, pred_svc_v4_pipe_train))\n",
    "print(\"F1 micro:\", f1_score(y_train, pred_svc_v4_pipe_train, average = \"micro\"))"
   ]
  },
  {
   "cell_type": "code",
   "execution_count": 19,
   "id": "19da7825",
   "metadata": {},
   "outputs": [
    {
     "name": "stdout",
     "output_type": "stream",
     "text": [
      "Dev - Classification Report:\n",
      "\n",
      "              precision    recall  f1-score   support\n",
      "\n",
      "         00s       0.41      0.44      0.42       222\n",
      "         10s       0.54      0.65      0.59       247\n",
      "         60s       0.46      0.54      0.50       158\n",
      "         70s       0.32      0.26      0.29       163\n",
      "         80s       0.34      0.27      0.30       221\n",
      "         90s       0.45      0.42      0.43       239\n",
      "\n",
      "    accuracy                           0.44      1250\n",
      "   macro avg       0.42      0.43      0.42      1250\n",
      "weighted avg       0.43      0.44      0.43      1250\n",
      "\n",
      "F1 micro: 0.4368000000000001\n"
     ]
    }
   ],
   "source": [
    "# DEV\n",
    "pred_svc_v4_pipe_dev = grid_svc_v4.predict(X_base_dev)\n",
    "print(\"Dev - Classification Report:\")\n",
    "print()\n",
    "print(classification_report(y_dev, pred_svc_v4_pipe_dev))\n",
    "print(\"F1 micro:\", f1_score(y_dev, pred_svc_v4_pipe_dev, average = \"micro\"))"
   ]
  },
  {
   "cell_type": "markdown",
   "id": "4f10590b",
   "metadata": {},
   "source": [
    "Finally, I calibrated the probabilities of the best performing SVCs through CalibratedClassifierCV."
   ]
  },
  {
   "cell_type": "code",
   "execution_count": 12,
   "id": "1a1e22b3",
   "metadata": {},
   "outputs": [
    {
     "data": {
      "text/plain": [
       "CalibratedClassifierCV(base_estimator=LinearSVC(C=0.18714285714285714),\n",
       "                       cv='prefit')"
      ]
     },
     "execution_count": 12,
     "metadata": {},
     "output_type": "execute_result"
    }
   ],
   "source": [
    "calibrated_svm = CalibratedClassifierCV(grid_svc_v32, cv = \"prefit\")\n",
    "calibrated_svm.fit(X_base_dev, y_dev)"
   ]
  },
  {
   "cell_type": "code",
   "execution_count": 58,
   "id": "34708f92",
   "metadata": {
    "scrolled": true
   },
   "outputs": [
    {
     "name": "stdout",
     "output_type": "stream",
     "text": [
      "Dev - Classification Report:\n",
      "\n",
      "              precision    recall  f1-score   support\n",
      "\n",
      "         00s       0.41      0.36      0.38       222\n",
      "         10s       0.55      0.68      0.61       247\n",
      "         60s       0.50      0.54      0.52       158\n",
      "         70s       0.33      0.25      0.28       163\n",
      "         80s       0.31      0.32      0.32       221\n",
      "         90s       0.45      0.43      0.44       239\n",
      "\n",
      "    accuracy                           0.44      1250\n",
      "   macro avg       0.42      0.43      0.42      1250\n",
      "weighted avg       0.43      0.44      0.43      1250\n",
      "\n",
      "F1 micro: 0.4376\n"
     ]
    }
   ],
   "source": [
    "# DEV\n",
    "pred_calibrated_svc_dev = calibrated_svm.predict(X_base_dev)\n",
    "print(\"Dev - Classification Report:\")\n",
    "print()\n",
    "print(classification_report(y_dev, pred_calibrated_svc_dev))\n",
    "print(\"F1 micro:\", f1_score(y_dev, pred_calibrated_svc_dev, average = \"micro\"))"
   ]
  },
  {
   "cell_type": "code",
   "execution_count": 25,
   "id": "6543d1a3",
   "metadata": {},
   "outputs": [
    {
     "data": {
      "text/plain": [
       "CalibratedClassifierCV(base_estimator=GridSearchCV(cv=5,\n",
       "                                                   estimator=Pipeline(steps=[('selection',\n",
       "                                                                              SelectKBest(score_func=<function chi2 at 0x00000252E59150D0>)),\n",
       "                                                                             ('classifier',\n",
       "                                                                              LinearSVC())]),\n",
       "                                                   param_grid=[{'classifier__C': [0.01,\n",
       "                                                                                  0.1,\n",
       "                                                                                  1,\n",
       "                                                                                  10],\n",
       "                                                                'classifier__class_weight': [None,\n",
       "                                                                                             'balanced'],\n",
       "                                                                'selection__k': [120000,\n",
       "                                                                                 100000,\n",
       "                                                                                 70000,\n",
       "                                                                                 50000,\n",
       "                                                                                 30000,\n",
       "                                                                                 10000,\n",
       "                                                                                 5000]}],\n",
       "                                                   scoring='f1_micro',\n",
       "                                                   verbose=5),\n",
       "                       cv='prefit')"
      ]
     },
     "execution_count": 25,
     "metadata": {},
     "output_type": "execute_result"
    }
   ],
   "source": [
    "calibrated_svm_v4 = CalibratedClassifierCV(grid_svc_v4, cv = \"prefit\")\n",
    "calibrated_svm_v4.fit(X_base_dev, y_dev)"
   ]
  },
  {
   "cell_type": "code",
   "execution_count": 26,
   "id": "6cb7eabd",
   "metadata": {},
   "outputs": [
    {
     "name": "stdout",
     "output_type": "stream",
     "text": [
      "Dev - Classification Report:\n",
      "\n",
      "              precision    recall  f1-score   support\n",
      "\n",
      "         00s       0.42      0.31      0.36       222\n",
      "         10s       0.54      0.70      0.61       247\n",
      "         60s       0.47      0.52      0.49       158\n",
      "         70s       0.32      0.25      0.28       163\n",
      "         80s       0.32      0.33      0.33       221\n",
      "         90s       0.43      0.41      0.42       239\n",
      "\n",
      "    accuracy                           0.43      1250\n",
      "   macro avg       0.42      0.42      0.41      1250\n",
      "weighted avg       0.42      0.43      0.42      1250\n",
      "\n",
      "F1 micro: 0.42960000000000004\n"
     ]
    }
   ],
   "source": [
    "# DEV\n",
    "pred_calibrated_svc_v4_dev = calibrated_svm_v4.predict(X_base_dev)\n",
    "print(\"Dev - Classification Report:\")\n",
    "print()\n",
    "print(classification_report(y_dev, pred_calibrated_svc_v4_dev))\n",
    "print(\"F1 micro:\", f1_score(y_dev, pred_calibrated_svc_v4_dev, average = \"micro\"))"
   ]
  },
  {
   "cell_type": "markdown",
   "id": "e3de8a18",
   "metadata": {},
   "source": [
    "Finally, the calibrated and tune SVC with no feature selection was the best performing modelon the dev set."
   ]
  },
  {
   "cell_type": "code",
   "execution_count": 46,
   "id": "018074a7",
   "metadata": {},
   "outputs": [
    {
     "data": {
      "image/png": "[encoded data removed]",
      "text/plain": [
       "<Figure size 576x432 with 2 Axes>"
      ]
     },
     "metadata": {
      "needs_background": "light"
     },
     "output_type": "display_data"
    }
   ],
   "source": [
    "cm = confusion_matrix(y_dev, pred_calibrated_svc_dev)\n",
    "\n",
    "plot_confusion_matrix(cm = cm, target_names = [\"00s\", \"10s\", \"60s\", \"70s\", \"80s\", \"90s\"],\n",
    "                          title='Confusion matrix',\n",
    "                          cmap=None,\n",
    "                          normalize=False)"
   ]
  },
  {
   "cell_type": "markdown",
   "id": "243196fe",
   "metadata": {},
   "source": [
    "## SVC - CONCLUSIONS"
   ]
  },
  {
   "cell_type": "markdown",
   "id": "ad009d0e",
   "metadata": {},
   "source": [
    "Although the difference is not too impressive, this fine tuned and calibrated support vector classifier indeed outperforms the \"Hulk\" baseline on development set. The performance of all models on the test set will be reported in the summary section. Best model is reported below."
   ]
  },
  {
   "cell_type": "code",
   "execution_count": 14,
   "id": "23975235",
   "metadata": {},
   "outputs": [
    {
     "data": {
      "text/plain": [
       "CalibratedClassifierCV(base_estimator=LinearSVC(C=0.18714285714285714),\n",
       "                       cv='prefit')"
      ]
     },
     "execution_count": 14,
     "metadata": {},
     "output_type": "execute_result"
    }
   ],
   "source": [
    "# grid_svc_v32 = LinearSVC(C=0.18714285714285714)\n",
    "# grid_svc_v32.fit(X_base_train, y_train)\n",
    "\n",
    "# calibrated_svm = CalibratedClassifierCV(grid_svc_v32, cv = \"prefit\")\n",
    "# calibrated_svm.fit(X_base_dev, y_dev)"
   ]
  },
  {
   "cell_type": "markdown",
   "id": "52907678",
   "metadata": {},
   "source": [
    "## v1 - RANDOM FOREST <a name=\"rf\"></a>"
   ]
  },
  {
   "cell_type": "markdown",
   "id": "6499796d",
   "metadata": {},
   "source": [
    "Thirdly, I used a TFIDF vectorizer for words (unigrams, bigrams), and ran a simple random forest without any hyperparameters tuning. This was generating a excessively high f1 and accuracy scores: all labels were correctly predicted. Again, this was suggesting there might have been some overfitting problems, which was confirmed by the considerably lower dev accuracy score."
   ]
  },
  {
   "cell_type": "code",
   "execution_count": 19,
   "id": "77d1e35e",
   "metadata": {},
   "outputs": [],
   "source": [
    "# DESIGN MATRICES\n",
    "ngram_range = (1,2)\n",
    "min_df = 0.001\n",
    "max_df = 0.7\n",
    "analyzer = \"word\"\n",
    "\n",
    "tfidf_vectorizer_rf = TfidfVectorizer(analyzer= analyzer,\n",
    "                                   ngram_range= ngram_range, \n",
    "                                   min_df = min_df, \n",
    "                                   max_df = max_df, \n",
    "                                   stop_words= 'english', \n",
    "                                   sublinear_tf=True,\n",
    "                                   use_idf=True)\n",
    "\n",
    "X_rf_train = tfidf_vectorizer_rf.fit_transform(tokens_train)\n",
    "X_rf_dev = tfidf_vectorizer_rf.transform(tokens_dev)\n",
    "X_rf_test = tfidf_vectorizer_rf.transform(tokens_test)"
   ]
  },
  {
   "cell_type": "code",
   "execution_count": 7,
   "id": "72f93245",
   "metadata": {},
   "outputs": [
    {
     "data": {
      "text/plain": [
       "RandomForestClassifier(max_features='sqrt', random_state=42)"
      ]
     },
     "execution_count": 7,
     "metadata": {},
     "output_type": "execute_result"
    }
   ],
   "source": [
    "# RANDOM FOREST\n",
    "rf = RandomForestClassifier(n_estimators = 100, max_features = \"sqrt\", random_state = 42)\n",
    "rf.fit(X_rf_train, y_train)"
   ]
  },
  {
   "cell_type": "code",
   "execution_count": 8,
   "id": "2ec3f3d7",
   "metadata": {},
   "outputs": [
    {
     "name": "stdout",
     "output_type": "stream",
     "text": [
      "Training - Classification Report:\n",
      "\n",
      "              precision    recall  f1-score   support\n",
      "\n",
      "         00s       1.00      1.00      1.00      1544\n",
      "         10s       1.00      1.00      1.00      1514\n",
      "         60s       1.00      1.00      1.00      1024\n",
      "         70s       1.00      1.00      1.00      1137\n",
      "         80s       1.00      1.00      1.00      1255\n",
      "         90s       1.00      1.00      1.00      1526\n",
      "\n",
      "    accuracy                           1.00      8000\n",
      "   macro avg       1.00      1.00      1.00      8000\n",
      "weighted avg       1.00      1.00      1.00      8000\n",
      "\n"
     ]
    }
   ],
   "source": [
    "# TRAINING\n",
    "pred_rf_v1_train = rf.predict(X_rf_train)\n",
    "print(\"Training - Classification Report:\")\n",
    "print()\n",
    "print(classification_report(y_train, pred_rf_v1_train))\n",
    "print(\"F1 micro:\", f1_score(y_train, pred_rf_v1_train, average = \"micro\"))"
   ]
  },
  {
   "cell_type": "code",
   "execution_count": 9,
   "id": "93db849f",
   "metadata": {},
   "outputs": [
    {
     "name": "stdout",
     "output_type": "stream",
     "text": [
      "Dev - Classification Report:\n",
      "\n",
      "              precision    recall  f1-score   support\n",
      "\n",
      "         00s       0.35      0.36      0.36       222\n",
      "         10s       0.44      0.63      0.52       247\n",
      "         60s       0.41      0.51      0.46       158\n",
      "         70s       0.29      0.27      0.28       163\n",
      "         80s       0.33      0.19      0.24       221\n",
      "         90s       0.37      0.29      0.32       239\n",
      "\n",
      "    accuracy                           0.38      1250\n",
      "   macro avg       0.36      0.38      0.36      1250\n",
      "weighted avg       0.37      0.38      0.37      1250\n",
      "\n"
     ]
    }
   ],
   "source": [
    "# DEV\n",
    "pred_rf_v1_dev = rf.predict(X_rf_dev)\n",
    "print(\"Dev - Classification Report:\")\n",
    "print()\n",
    "print(classification_report(y_dev, pred_rf_v1_dev))\n",
    "print(\"F1 micro:\", f1_score(y_dev, pred_rf_v1_dev, average = \"micro\"))"
   ]
  },
  {
   "cell_type": "markdown",
   "id": "5b6f19a5",
   "metadata": {},
   "source": [
    "## v2 - RANDOM FOREST + HYPER PARAMETERS TUNING"
   ]
  },
  {
   "cell_type": "markdown",
   "id": "8218145b",
   "metadata": {},
   "source": [
    "To try and account for the overfitting risk some hyperparameter tuning was performed, again starting with a randomized search and following with a grid search in the neighborhood of the best performing parameters, which indeed allowed to reach results comparable to the baseline on the dev set, but still falling right behind it."
   ]
  },
  {
   "cell_type": "code",
   "execution_count": 10,
   "id": "bbf29897",
   "metadata": {
    "collapsed": true
   },
   "outputs": [
    {
     "name": "stdout",
     "output_type": "stream",
     "text": [
      "Fitting 3 folds for each of 50 candidates, totalling 150 fits\n",
      "[CV 1/3] END criterion=entropy, max_depth=500, max_features=sqrt, min_samples_leaf=20, min_samples_split=50, n_estimators=500;, score=0.347 total time=   9.7s\n",
      "[CV 2/3] END criterion=entropy, max_depth=500, max_features=sqrt, min_samples_leaf=20, min_samples_split=50, n_estimators=500;, score=0.336 total time=   8.3s\n",
      "[CV 3/3] END criterion=entropy, max_depth=500, max_features=sqrt, min_samples_leaf=20, min_samples_split=50, n_estimators=500;, score=0.343 total time=   8.3s\n",
      "[CV 1/3] END criterion=entropy, max_depth=100, max_features=sqrt, min_samples_leaf=2, min_samples_split=20, n_estimators=100;, score=0.362 total time=   7.0s\n",
      "[CV 2/3] END criterion=entropy, max_depth=100, max_features=sqrt, min_samples_leaf=2, min_samples_split=20, n_estimators=100;, score=0.359 total time=   6.8s\n",
      "[CV 3/3] END criterion=entropy, max_depth=100, max_features=sqrt, min_samples_leaf=2, min_samples_split=20, n_estimators=100;, score=0.367 total time=   7.0s\n",
      "[CV 1/3] END criterion=entropy, max_depth=1000, max_features=sqrt, min_samples_leaf=50, min_samples_split=8, n_estimators=100;, score=0.271 total time=   1.2s\n",
      "[CV 2/3] END criterion=entropy, max_depth=1000, max_features=sqrt, min_samples_leaf=50, min_samples_split=8, n_estimators=100;, score=0.286 total time=   1.2s\n",
      "[CV 3/3] END criterion=entropy, max_depth=1000, max_features=sqrt, min_samples_leaf=50, min_samples_split=8, n_estimators=100;, score=0.275 total time=   1.2s\n",
      "[CV 1/3] END criterion=gini, max_depth=1000, max_features=sqrt, min_samples_leaf=2, min_samples_split=20, n_estimators=100;, score=0.376 total time=   5.8s\n",
      "[CV 2/3] END criterion=gini, max_depth=1000, max_features=sqrt, min_samples_leaf=2, min_samples_split=20, n_estimators=100;, score=0.363 total time=   6.6s\n",
      "[CV 3/3] END criterion=gini, max_depth=1000, max_features=sqrt, min_samples_leaf=2, min_samples_split=20, n_estimators=100;, score=0.362 total time=   6.1s\n",
      "[CV 1/3] END criterion=gini, max_depth=100, max_features=sqrt, min_samples_leaf=4, min_samples_split=2, n_estimators=1000;, score=0.396 total time=  43.7s\n",
      "[CV 2/3] END criterion=gini, max_depth=100, max_features=sqrt, min_samples_leaf=4, min_samples_split=2, n_estimators=1000;, score=0.385 total time=  42.6s\n",
      "[CV 3/3] END criterion=gini, max_depth=100, max_features=sqrt, min_samples_leaf=4, min_samples_split=2, n_estimators=1000;, score=0.380 total time=  44.1s\n",
      "[CV 1/3] END criterion=gini, max_depth=1000, max_features=sqrt, min_samples_leaf=50, min_samples_split=20, n_estimators=1000;, score=0.287 total time=   9.6s\n",
      "[CV 2/3] END criterion=gini, max_depth=1000, max_features=sqrt, min_samples_leaf=50, min_samples_split=20, n_estimators=1000;, score=0.288 total time=   8.9s\n",
      "[CV 3/3] END criterion=gini, max_depth=1000, max_features=sqrt, min_samples_leaf=50, min_samples_split=20, n_estimators=1000;, score=0.275 total time=   8.6s\n",
      "[CV 1/3] END criterion=entropy, max_depth=100, max_features=sqrt, min_samples_leaf=20, min_samples_split=4, n_estimators=100;, score=0.331 total time=   2.1s\n",
      "[CV 2/3] END criterion=entropy, max_depth=100, max_features=sqrt, min_samples_leaf=20, min_samples_split=4, n_estimators=100;, score=0.323 total time=   2.1s\n",
      "[CV 3/3] END criterion=entropy, max_depth=100, max_features=sqrt, min_samples_leaf=20, min_samples_split=4, n_estimators=100;, score=0.318 total time=   1.9s\n",
      "[CV 1/3] END criterion=gini, max_depth=200, max_features=sqrt, min_samples_leaf=2, min_samples_split=4, n_estimators=1000;, score=0.403 total time= 1.3min\n",
      "[CV 2/3] END criterion=gini, max_depth=200, max_features=sqrt, min_samples_leaf=2, min_samples_split=4, n_estimators=1000;, score=0.393 total time= 1.3min\n",
      "[CV 3/3] END criterion=gini, max_depth=200, max_features=sqrt, min_samples_leaf=2, min_samples_split=4, n_estimators=1000;, score=0.395 total time= 1.3min\n",
      "[CV 1/3] END criterion=entropy, max_depth=1000, max_features=sqrt, min_samples_leaf=4, min_samples_split=8, n_estimators=500;, score=0.390 total time=  27.6s\n",
      "[CV 2/3] END criterion=entropy, max_depth=1000, max_features=sqrt, min_samples_leaf=4, min_samples_split=8, n_estimators=500;, score=0.376 total time=  27.0s\n",
      "[CV 3/3] END criterion=entropy, max_depth=1000, max_features=sqrt, min_samples_leaf=4, min_samples_split=8, n_estimators=500;, score=0.383 total time=  26.1s\n",
      "[CV 1/3] END criterion=gini, max_depth=500, max_features=sqrt, min_samples_leaf=2, min_samples_split=50, n_estimators=1000;, score=0.393 total time=  48.4s\n",
      "[CV 2/3] END criterion=gini, max_depth=500, max_features=sqrt, min_samples_leaf=2, min_samples_split=50, n_estimators=1000;, score=0.387 total time=  46.2s\n",
      "[CV 3/3] END criterion=gini, max_depth=500, max_features=sqrt, min_samples_leaf=2, min_samples_split=50, n_estimators=1000;, score=0.392 total time=  46.5s\n",
      "[CV 1/3] END criterion=entropy, max_depth=1000, max_features=sqrt, min_samples_leaf=2, min_samples_split=50, n_estimators=100;, score=0.380 total time=   5.8s\n",
      "[CV 2/3] END criterion=entropy, max_depth=1000, max_features=sqrt, min_samples_leaf=2, min_samples_split=50, n_estimators=100;, score=0.349 total time=   5.7s\n",
      "[CV 3/3] END criterion=entropy, max_depth=1000, max_features=sqrt, min_samples_leaf=2, min_samples_split=50, n_estimators=100;, score=0.373 total time=   6.0s\n",
      "[CV 1/3] END criterion=entropy, max_depth=100, max_features=sqrt, min_samples_leaf=4, min_samples_split=50, n_estimators=500;, score=0.385 total time=  19.9s\n",
      "[CV 2/3] END criterion=entropy, max_depth=100, max_features=sqrt, min_samples_leaf=4, min_samples_split=50, n_estimators=500;, score=0.363 total time=  21.3s\n",
      "[CV 3/3] END criterion=entropy, max_depth=100, max_features=sqrt, min_samples_leaf=4, min_samples_split=50, n_estimators=500;, score=0.372 total time=  24.3s\n",
      "[CV 1/3] END criterion=entropy, max_depth=200, max_features=sqrt, min_samples_leaf=8, min_samples_split=8, n_estimators=1000;, score=0.380 total time=  35.8s\n",
      "[CV 2/3] END criterion=entropy, max_depth=200, max_features=sqrt, min_samples_leaf=8, min_samples_split=8, n_estimators=1000;, score=0.368 total time=  34.2s\n",
      "[CV 3/3] END criterion=entropy, max_depth=200, max_features=sqrt, min_samples_leaf=8, min_samples_split=8, n_estimators=1000;, score=0.365 total time=  34.7s\n",
      "[CV 1/3] END criterion=gini, max_depth=1000, max_features=sqrt, min_samples_leaf=4, min_samples_split=2, n_estimators=1000;, score=0.398 total time=  44.9s\n",
      "[CV 2/3] END criterion=gini, max_depth=1000, max_features=sqrt, min_samples_leaf=4, min_samples_split=2, n_estimators=1000;, score=0.386 total time=  43.5s\n",
      "[CV 3/3] END criterion=gini, max_depth=1000, max_features=sqrt, min_samples_leaf=4, min_samples_split=2, n_estimators=1000;, score=0.381 total time=  43.4s\n",
      "[CV 1/3] END criterion=entropy, max_depth=200, max_features=sqrt, min_samples_leaf=20, min_samples_split=8, n_estimators=100;, score=0.331 total time=   2.2s\n",
      "[CV 2/3] END criterion=entropy, max_depth=200, max_features=sqrt, min_samples_leaf=20, min_samples_split=8, n_estimators=100;, score=0.323 total time=   2.0s\n",
      "[CV 3/3] END criterion=entropy, max_depth=200, max_features=sqrt, min_samples_leaf=20, min_samples_split=8, n_estimators=100;, score=0.318 total time=   2.0s\n",
      "[CV 1/3] END criterion=gini, max_depth=1000, max_features=sqrt, min_samples_leaf=50, min_samples_split=8, n_estimators=1000;, score=0.287 total time=  10.0s\n",
      "[CV 2/3] END criterion=gini, max_depth=1000, max_features=sqrt, min_samples_leaf=50, min_samples_split=8, n_estimators=1000;, score=0.288 total time=   9.6s\n",
      "[CV 3/3] END criterion=gini, max_depth=1000, max_features=sqrt, min_samples_leaf=50, min_samples_split=8, n_estimators=1000;, score=0.275 total time=   9.3s\n",
      "[CV 1/3] END criterion=entropy, max_depth=200, max_features=sqrt, min_samples_leaf=4, min_samples_split=2, n_estimators=100;, score=0.367 total time=   5.3s\n",
      "[CV 2/3] END criterion=entropy, max_depth=200, max_features=sqrt, min_samples_leaf=4, min_samples_split=2, n_estimators=100;, score=0.352 total time=   4.8s\n",
      "[CV 3/3] END criterion=entropy, max_depth=200, max_features=sqrt, min_samples_leaf=4, min_samples_split=2, n_estimators=100;, score=0.365 total time=   5.2s\n",
      "[CV 1/3] END criterion=gini, max_depth=200, max_features=sqrt, min_samples_leaf=2, min_samples_split=50, n_estimators=1000;, score=0.394 total time=  46.0s\n"
     ]
    },
    {
     "name": "stdout",
     "output_type": "stream",
     "text": [
      "[CV 2/3] END criterion=gini, max_depth=200, max_features=sqrt, min_samples_leaf=2, min_samples_split=50, n_estimators=1000;, score=0.388 total time=  46.1s\n",
      "[CV 3/3] END criterion=gini, max_depth=200, max_features=sqrt, min_samples_leaf=2, min_samples_split=50, n_estimators=1000;, score=0.392 total time=  47.0s\n",
      "[CV 1/3] END criterion=gini, max_depth=100, max_features=sqrt, min_samples_leaf=2, min_samples_split=20, n_estimators=1000;, score=0.403 total time=  55.6s\n",
      "[CV 2/3] END criterion=gini, max_depth=100, max_features=sqrt, min_samples_leaf=2, min_samples_split=20, n_estimators=1000;, score=0.389 total time=  56.4s\n",
      "[CV 3/3] END criterion=gini, max_depth=100, max_features=sqrt, min_samples_leaf=2, min_samples_split=20, n_estimators=1000;, score=0.387 total time=  56.7s\n",
      "[CV 1/3] END criterion=gini, max_depth=500, max_features=sqrt, min_samples_leaf=2, min_samples_split=4, n_estimators=1000;, score=0.404 total time= 1.3min\n",
      "[CV 2/3] END criterion=gini, max_depth=500, max_features=sqrt, min_samples_leaf=2, min_samples_split=4, n_estimators=1000;, score=0.394 total time= 1.3min\n",
      "[CV 3/3] END criterion=gini, max_depth=500, max_features=sqrt, min_samples_leaf=2, min_samples_split=4, n_estimators=1000;, score=0.397 total time= 1.3min\n",
      "[CV 1/3] END criterion=entropy, max_depth=100, max_features=sqrt, min_samples_leaf=2, min_samples_split=50, n_estimators=1000;, score=0.391 total time=  58.7s\n",
      "[CV 2/3] END criterion=entropy, max_depth=100, max_features=sqrt, min_samples_leaf=2, min_samples_split=50, n_estimators=1000;, score=0.369 total time=  57.6s\n",
      "[CV 3/3] END criterion=entropy, max_depth=100, max_features=sqrt, min_samples_leaf=2, min_samples_split=50, n_estimators=1000;, score=0.387 total time=  58.6s\n",
      "[CV 1/3] END criterion=entropy, max_depth=200, max_features=sqrt, min_samples_leaf=50, min_samples_split=20, n_estimators=1000;, score=0.288 total time=  11.7s\n",
      "[CV 2/3] END criterion=entropy, max_depth=200, max_features=sqrt, min_samples_leaf=50, min_samples_split=20, n_estimators=1000;, score=0.285 total time=  12.2s\n",
      "[CV 3/3] END criterion=entropy, max_depth=200, max_features=sqrt, min_samples_leaf=50, min_samples_split=20, n_estimators=1000;, score=0.278 total time=  11.2s\n",
      "[CV 1/3] END criterion=gini, max_depth=1000, max_features=sqrt, min_samples_leaf=20, min_samples_split=4, n_estimators=100;, score=0.327 total time=   1.3s\n",
      "[CV 2/3] END criterion=gini, max_depth=1000, max_features=sqrt, min_samples_leaf=20, min_samples_split=4, n_estimators=100;, score=0.327 total time=   1.5s\n",
      "[CV 3/3] END criterion=gini, max_depth=1000, max_features=sqrt, min_samples_leaf=20, min_samples_split=4, n_estimators=100;, score=0.324 total time=   1.4s\n",
      "[CV 1/3] END criterion=entropy, max_depth=200, max_features=sqrt, min_samples_leaf=2, min_samples_split=4, n_estimators=500;, score=0.386 total time=  46.7s\n",
      "[CV 2/3] END criterion=entropy, max_depth=200, max_features=sqrt, min_samples_leaf=2, min_samples_split=4, n_estimators=500;, score=0.372 total time=  45.6s\n",
      "[CV 3/3] END criterion=entropy, max_depth=200, max_features=sqrt, min_samples_leaf=2, min_samples_split=4, n_estimators=500;, score=0.386 total time=  43.9s\n",
      "[CV 1/3] END criterion=gini, max_depth=1000, max_features=sqrt, min_samples_leaf=4, min_samples_split=8, n_estimators=100;, score=0.361 total time=   4.1s\n",
      "[CV 2/3] END criterion=gini, max_depth=1000, max_features=sqrt, min_samples_leaf=4, min_samples_split=8, n_estimators=100;, score=0.359 total time=   4.3s\n",
      "[CV 3/3] END criterion=gini, max_depth=1000, max_features=sqrt, min_samples_leaf=4, min_samples_split=8, n_estimators=100;, score=0.360 total time=   4.5s\n",
      "[CV 1/3] END criterion=gini, max_depth=100, max_features=sqrt, min_samples_leaf=20, min_samples_split=20, n_estimators=1000;, score=0.342 total time=  15.0s\n",
      "[CV 2/3] END criterion=gini, max_depth=100, max_features=sqrt, min_samples_leaf=20, min_samples_split=20, n_estimators=1000;, score=0.335 total time=  15.0s\n",
      "[CV 3/3] END criterion=gini, max_depth=100, max_features=sqrt, min_samples_leaf=20, min_samples_split=20, n_estimators=1000;, score=0.338 total time=  15.3s\n",
      "[CV 1/3] END criterion=entropy, max_depth=100, max_features=sqrt, min_samples_leaf=2, min_samples_split=2, n_estimators=500;, score=0.390 total time=  44.7s\n",
      "[CV 2/3] END criterion=entropy, max_depth=100, max_features=sqrt, min_samples_leaf=2, min_samples_split=2, n_estimators=500;, score=0.378 total time=  43.7s\n",
      "[CV 3/3] END criterion=entropy, max_depth=100, max_features=sqrt, min_samples_leaf=2, min_samples_split=2, n_estimators=500;, score=0.381 total time=  45.9s\n",
      "[CV 1/3] END criterion=gini, max_depth=500, max_features=sqrt, min_samples_leaf=4, min_samples_split=50, n_estimators=500;, score=0.388 total time=  16.4s\n",
      "[CV 2/3] END criterion=gini, max_depth=500, max_features=sqrt, min_samples_leaf=4, min_samples_split=50, n_estimators=500;, score=0.379 total time=  16.2s\n",
      "[CV 3/3] END criterion=gini, max_depth=500, max_features=sqrt, min_samples_leaf=4, min_samples_split=50, n_estimators=500;, score=0.380 total time=  16.5s\n",
      "[CV 1/3] END criterion=entropy, max_depth=100, max_features=sqrt, min_samples_leaf=4, min_samples_split=20, n_estimators=500;, score=0.395 total time=  24.3s\n",
      "[CV 2/3] END criterion=entropy, max_depth=100, max_features=sqrt, min_samples_leaf=4, min_samples_split=20, n_estimators=500;, score=0.372 total time=  24.6s\n",
      "[CV 3/3] END criterion=entropy, max_depth=100, max_features=sqrt, min_samples_leaf=4, min_samples_split=20, n_estimators=500;, score=0.377 total time=  24.5s\n",
      "[CV 1/3] END criterion=gini, max_depth=1000, max_features=sqrt, min_samples_leaf=4, min_samples_split=50, n_estimators=1000;, score=0.396 total time=  33.2s\n",
      "[CV 2/3] END criterion=gini, max_depth=1000, max_features=sqrt, min_samples_leaf=4, min_samples_split=50, n_estimators=1000;, score=0.379 total time=  33.3s\n",
      "[CV 3/3] END criterion=gini, max_depth=1000, max_features=sqrt, min_samples_leaf=4, min_samples_split=50, n_estimators=1000;, score=0.388 total time=  34.6s\n",
      "[CV 1/3] END criterion=gini, max_depth=100, max_features=sqrt, min_samples_leaf=4, min_samples_split=50, n_estimators=100;, score=0.363 total time=   3.1s\n",
      "[CV 2/3] END criterion=gini, max_depth=100, max_features=sqrt, min_samples_leaf=4, min_samples_split=50, n_estimators=100;, score=0.354 total time=   3.1s\n",
      "[CV 3/3] END criterion=gini, max_depth=100, max_features=sqrt, min_samples_leaf=4, min_samples_split=50, n_estimators=100;, score=0.351 total time=   2.9s\n",
      "[CV 1/3] END criterion=gini, max_depth=200, max_features=sqrt, min_samples_leaf=4, min_samples_split=50, n_estimators=500;, score=0.388 total time=  16.2s\n",
      "[CV 2/3] END criterion=gini, max_depth=200, max_features=sqrt, min_samples_leaf=4, min_samples_split=50, n_estimators=500;, score=0.379 total time=  16.5s\n",
      "[CV 3/3] END criterion=gini, max_depth=200, max_features=sqrt, min_samples_leaf=4, min_samples_split=50, n_estimators=500;, score=0.380 total time=  17.1s\n",
      "[CV 1/3] END criterion=entropy, max_depth=200, max_features=sqrt, min_samples_leaf=8, min_samples_split=20, n_estimators=100;, score=0.354 total time=   3.4s\n",
      "[CV 2/3] END criterion=entropy, max_depth=200, max_features=sqrt, min_samples_leaf=8, min_samples_split=20, n_estimators=100;, score=0.351 total time=   3.2s\n",
      "[CV 3/3] END criterion=entropy, max_depth=200, max_features=sqrt, min_samples_leaf=8, min_samples_split=20, n_estimators=100;, score=0.354 total time=   3.5s\n",
      "[CV 1/3] END criterion=gini, max_depth=1000, max_features=sqrt, min_samples_leaf=20, min_samples_split=8, n_estimators=1000;, score=0.342 total time=  14.6s\n",
      "[CV 2/3] END criterion=gini, max_depth=1000, max_features=sqrt, min_samples_leaf=20, min_samples_split=8, n_estimators=1000;, score=0.335 total time=  14.9s\n",
      "[CV 3/3] END criterion=gini, max_depth=1000, max_features=sqrt, min_samples_leaf=20, min_samples_split=8, n_estimators=1000;, score=0.338 total time=  15.0s\n",
      "[CV 1/3] END criterion=gini, max_depth=1000, max_features=sqrt, min_samples_leaf=4, min_samples_split=8, n_estimators=500;, score=0.396 total time=  20.8s\n",
      "[CV 2/3] END criterion=gini, max_depth=1000, max_features=sqrt, min_samples_leaf=4, min_samples_split=8, n_estimators=500;, score=0.378 total time=  21.9s\n",
      "[CV 3/3] END criterion=gini, max_depth=1000, max_features=sqrt, min_samples_leaf=4, min_samples_split=8, n_estimators=500;, score=0.373 total time=  21.4s\n"
     ]
    },
    {
     "name": "stdout",
     "output_type": "stream",
     "text": [
      "[CV 1/3] END criterion=entropy, max_depth=1000, max_features=sqrt, min_samples_leaf=8, min_samples_split=8, n_estimators=1000;, score=0.380 total time=  36.4s\n",
      "[CV 2/3] END criterion=entropy, max_depth=1000, max_features=sqrt, min_samples_leaf=8, min_samples_split=8, n_estimators=1000;, score=0.368 total time=  34.7s\n",
      "[CV 3/3] END criterion=entropy, max_depth=1000, max_features=sqrt, min_samples_leaf=8, min_samples_split=8, n_estimators=1000;, score=0.365 total time=  35.2s\n",
      "[CV 1/3] END criterion=entropy, max_depth=500, max_features=sqrt, min_samples_leaf=2, min_samples_split=2, n_estimators=100;, score=0.374 total time=   8.6s\n",
      "[CV 2/3] END criterion=entropy, max_depth=500, max_features=sqrt, min_samples_leaf=2, min_samples_split=2, n_estimators=100;, score=0.360 total time=   9.0s\n",
      "[CV 3/3] END criterion=entropy, max_depth=500, max_features=sqrt, min_samples_leaf=2, min_samples_split=2, n_estimators=100;, score=0.369 total time=   9.8s\n",
      "[CV 1/3] END criterion=gini, max_depth=100, max_features=sqrt, min_samples_leaf=20, min_samples_split=2, n_estimators=500;, score=0.337 total time=   7.7s\n",
      "[CV 2/3] END criterion=gini, max_depth=100, max_features=sqrt, min_samples_leaf=20, min_samples_split=2, n_estimators=500;, score=0.335 total time=   7.2s\n",
      "[CV 3/3] END criterion=gini, max_depth=100, max_features=sqrt, min_samples_leaf=20, min_samples_split=2, n_estimators=500;, score=0.336 total time=   7.6s\n",
      "[CV 1/3] END criterion=entropy, max_depth=500, max_features=sqrt, min_samples_leaf=20, min_samples_split=4, n_estimators=1000;, score=0.346 total time=  19.8s\n",
      "[CV 2/3] END criterion=entropy, max_depth=500, max_features=sqrt, min_samples_leaf=20, min_samples_split=4, n_estimators=1000;, score=0.333 total time=  19.4s\n",
      "[CV 3/3] END criterion=entropy, max_depth=500, max_features=sqrt, min_samples_leaf=20, min_samples_split=4, n_estimators=1000;, score=0.334 total time=  20.6s\n",
      "[CV 1/3] END criterion=entropy, max_depth=500, max_features=sqrt, min_samples_leaf=50, min_samples_split=2, n_estimators=500;, score=0.288 total time=   5.4s\n",
      "[CV 2/3] END criterion=entropy, max_depth=500, max_features=sqrt, min_samples_leaf=50, min_samples_split=2, n_estimators=500;, score=0.289 total time=   5.8s\n",
      "[CV 3/3] END criterion=entropy, max_depth=500, max_features=sqrt, min_samples_leaf=50, min_samples_split=2, n_estimators=500;, score=0.268 total time=   5.7s\n",
      "[CV 1/3] END criterion=gini, max_depth=200, max_features=sqrt, min_samples_leaf=50, min_samples_split=2, n_estimators=500;, score=0.288 total time=   5.0s\n",
      "[CV 2/3] END criterion=gini, max_depth=200, max_features=sqrt, min_samples_leaf=50, min_samples_split=2, n_estimators=500;, score=0.290 total time=   4.5s\n",
      "[CV 3/3] END criterion=gini, max_depth=200, max_features=sqrt, min_samples_leaf=50, min_samples_split=2, n_estimators=500;, score=0.279 total time=   4.6s\n",
      "[CV 1/3] END criterion=gini, max_depth=500, max_features=sqrt, min_samples_leaf=50, min_samples_split=20, n_estimators=500;, score=0.288 total time=   5.1s\n",
      "[CV 2/3] END criterion=gini, max_depth=500, max_features=sqrt, min_samples_leaf=50, min_samples_split=20, n_estimators=500;, score=0.290 total time=   4.9s\n",
      "[CV 3/3] END criterion=gini, max_depth=500, max_features=sqrt, min_samples_leaf=50, min_samples_split=20, n_estimators=500;, score=0.279 total time=   5.1s\n",
      "[CV 1/3] END criterion=gini, max_depth=1000, max_features=sqrt, min_samples_leaf=20, min_samples_split=50, n_estimators=100;, score=0.327 total time=   1.5s\n",
      "[CV 2/3] END criterion=gini, max_depth=1000, max_features=sqrt, min_samples_leaf=20, min_samples_split=50, n_estimators=100;, score=0.328 total time=   1.4s\n",
      "[CV 3/3] END criterion=gini, max_depth=1000, max_features=sqrt, min_samples_leaf=20, min_samples_split=50, n_estimators=100;, score=0.333 total time=   1.3s\n",
      "[CV 1/3] END criterion=gini, max_depth=1000, max_features=sqrt, min_samples_leaf=8, min_samples_split=20, n_estimators=500;, score=0.382 total time=  12.3s\n",
      "[CV 2/3] END criterion=gini, max_depth=1000, max_features=sqrt, min_samples_leaf=8, min_samples_split=20, n_estimators=500;, score=0.360 total time=  12.3s\n",
      "[CV 3/3] END criterion=gini, max_depth=1000, max_features=sqrt, min_samples_leaf=8, min_samples_split=20, n_estimators=500;, score=0.366 total time=  12.8s\n",
      "[CV 1/3] END criterion=gini, max_depth=500, max_features=sqrt, min_samples_leaf=2, min_samples_split=4, n_estimators=500;, score=0.399 total time=  38.1s\n",
      "[CV 2/3] END criterion=gini, max_depth=500, max_features=sqrt, min_samples_leaf=2, min_samples_split=4, n_estimators=500;, score=0.392 total time=  39.3s\n",
      "[CV 3/3] END criterion=gini, max_depth=500, max_features=sqrt, min_samples_leaf=2, min_samples_split=4, n_estimators=500;, score=0.395 total time=  39.9s\n",
      "[CV 1/3] END criterion=entropy, max_depth=200, max_features=sqrt, min_samples_leaf=2, min_samples_split=50, n_estimators=1000;, score=0.393 total time=  55.4s\n",
      "[CV 2/3] END criterion=entropy, max_depth=200, max_features=sqrt, min_samples_leaf=2, min_samples_split=50, n_estimators=1000;, score=0.368 total time=  58.6s\n",
      "[CV 3/3] END criterion=entropy, max_depth=200, max_features=sqrt, min_samples_leaf=2, min_samples_split=50, n_estimators=1000;, score=0.383 total time=  53.4s\n",
      "[CV 1/3] END criterion=gini, max_depth=500, max_features=sqrt, min_samples_leaf=20, min_samples_split=2, n_estimators=500;, score=0.337 total time=   7.3s\n",
      "[CV 2/3] END criterion=gini, max_depth=500, max_features=sqrt, min_samples_leaf=20, min_samples_split=2, n_estimators=500;, score=0.335 total time=   7.5s\n",
      "[CV 3/3] END criterion=gini, max_depth=500, max_features=sqrt, min_samples_leaf=20, min_samples_split=2, n_estimators=500;, score=0.336 total time=   7.5s\n",
      "[CV 1/3] END criterion=entropy, max_depth=500, max_features=sqrt, min_samples_leaf=4, min_samples_split=8, n_estimators=1000;, score=0.395 total time=  55.2s\n",
      "[CV 2/3] END criterion=entropy, max_depth=500, max_features=sqrt, min_samples_leaf=4, min_samples_split=8, n_estimators=1000;, score=0.374 total time=  51.0s\n",
      "[CV 3/3] END criterion=entropy, max_depth=500, max_features=sqrt, min_samples_leaf=4, min_samples_split=8, n_estimators=1000;, score=0.383 total time=  55.0s\n",
      "[CV 1/3] END criterion=entropy, max_depth=500, max_features=sqrt, min_samples_leaf=2, min_samples_split=50, n_estimators=100;, score=0.380 total time=   6.0s\n",
      "[CV 2/3] END criterion=entropy, max_depth=500, max_features=sqrt, min_samples_leaf=2, min_samples_split=50, n_estimators=100;, score=0.349 total time=   5.8s\n",
      "[CV 3/3] END criterion=entropy, max_depth=500, max_features=sqrt, min_samples_leaf=2, min_samples_split=50, n_estimators=100;, score=0.373 total time=   6.0s\n",
      "[CV 1/3] END criterion=entropy, max_depth=100, max_features=sqrt, min_samples_leaf=4, min_samples_split=20, n_estimators=1000;, score=0.394 total time=  46.4s\n",
      "[CV 2/3] END criterion=entropy, max_depth=100, max_features=sqrt, min_samples_leaf=4, min_samples_split=20, n_estimators=1000;, score=0.379 total time=  49.2s\n",
      "[CV 3/3] END criterion=entropy, max_depth=100, max_features=sqrt, min_samples_leaf=4, min_samples_split=20, n_estimators=1000;, score=0.384 total time=  51.0s\n"
     ]
    },
    {
     "data": {
      "text/plain": [
       "RandomizedSearchCV(cv=3, estimator=RandomForestClassifier(random_state=42),\n",
       "                   n_iter=50,\n",
       "                   param_distributions={'criterion': ['gini', 'entropy'],\n",
       "                                        'max_depth': [100, 200, 500, 1000],\n",
       "                                        'max_features': ['sqrt'],\n",
       "                                        'min_samples_leaf': [2, 4, 8, 20, 50],\n",
       "                                        'min_samples_split': [2, 4, 8, 20, 50],\n",
       "                                        'n_estimators': [100, 500, 1000]},\n",
       "                   scoring='f1_micro', verbose=5)"
      ]
     },
     "execution_count": 10,
     "metadata": {},
     "output_type": "execute_result"
    }
   ],
   "source": [
    "r_grid_param = {\"n_estimators\": [100, 500, 1000],\n",
    "                \"max_features\": [\"sqrt\"],\n",
    "                \"criterion\" :[\"gini\", \"entropy\"],\n",
    "                \"max_depth\": [100, 200, 500,1000],\n",
    "                \"min_samples_leaf\": [2,4,8,20,50],\n",
    "                \"min_samples_split\": [2, 4,8,20,50]}\n",
    "\n",
    "grid_rf_v2 = RandomizedSearchCV(RandomForestClassifier(random_state = 42), n_iter = 50, param_distributions = r_grid_param,\n",
    "                                cv = 3, verbose = 5, scoring = \"f1_micro\")\n",
    "\n",
    "grid_rf_v2.fit(X_rf_train, y_train)"
   ]
  },
  {
   "cell_type": "code",
   "execution_count": 6,
   "id": "25284650",
   "metadata": {
    "scrolled": true
   },
   "outputs": [
    {
     "data": {
      "text/plain": [
       "RandomForestClassifier(max_depth=500, max_features='sqrt', min_samples_leaf=2,\n",
       "                       min_samples_split=4, n_estimators=500, random_state=42)"
      ]
     },
     "execution_count": 6,
     "metadata": {},
     "output_type": "execute_result"
    }
   ],
   "source": [
    "print(grid_rf_v2.best_estimator_)"
   ]
  },
  {
   "cell_type": "code",
   "execution_count": null,
   "id": "04852bc4",
   "metadata": {},
   "outputs": [],
   "source": [
    "# grid_rf_v2 = RandomForestClassifier(max_depth=500, max_features='sqrt', min_samples_leaf=2,\n",
    "#                       min_samples_split=4, n_estimators=500, random_state=42)\n",
    "#grid_rf_v2.fit(X_rf_train, y_train)"
   ]
  },
  {
   "cell_type": "code",
   "execution_count": 7,
   "id": "f9172c43",
   "metadata": {},
   "outputs": [
    {
     "name": "stdout",
     "output_type": "stream",
     "text": [
      "Training - Classification Report:\n",
      "\n",
      "              precision    recall  f1-score   support\n",
      "\n",
      "         00s       1.00      0.99      1.00      1544\n",
      "         10s       0.99      1.00      0.99      1514\n",
      "         60s       0.98      0.99      0.99      1024\n",
      "         70s       1.00      0.99      0.99      1137\n",
      "         80s       1.00      1.00      1.00      1255\n",
      "         90s       1.00      0.99      1.00      1526\n",
      "\n",
      "    accuracy                           0.99      8000\n",
      "   macro avg       0.99      0.99      0.99      8000\n",
      "weighted avg       0.99      0.99      0.99      8000\n",
      "\n",
      "F1 micro: 0.993625\n"
     ]
    }
   ],
   "source": [
    "# TRAINING\n",
    "pred_rf_v2_train = grid_rf_v2.predict(X_rf_train)\n",
    "print(\"Training - Classification Report:\")\n",
    "print()\n",
    "print(classification_report(y_train, pred_rf_v2_train))\n",
    "print(\"F1 micro:\", f1_score(y_train, pred_rf_v2_train, average = \"micro\"))"
   ]
  },
  {
   "cell_type": "code",
   "execution_count": 8,
   "id": "ca5f8401",
   "metadata": {
    "scrolled": true
   },
   "outputs": [
    {
     "name": "stdout",
     "output_type": "stream",
     "text": [
      "Dev - Classification Report:\n",
      "\n",
      "              precision    recall  f1-score   support\n",
      "\n",
      "         00s       0.42      0.46      0.44       222\n",
      "         10s       0.50      0.68      0.58       247\n",
      "         60s       0.46      0.49      0.47       158\n",
      "         70s       0.30      0.28      0.29       163\n",
      "         80s       0.36      0.29      0.32       221\n",
      "         90s       0.41      0.30      0.34       239\n",
      "\n",
      "    accuracy                           0.42      1250\n",
      "   macro avg       0.41      0.42      0.41      1250\n",
      "weighted avg       0.41      0.42      0.41      1250\n",
      "\n",
      "F1 micro: 0.4232\n"
     ]
    }
   ],
   "source": [
    "# DEV\n",
    "pred_rf_v2_dev = grid_rf_v2.predict(X_rf_dev)\n",
    "print(\"Dev - Classification Report:\")\n",
    "print()\n",
    "print(classification_report(y_dev, pred_rf_v2_dev))\n",
    "print(\"F1 micro:\", f1_score(y_dev, pred_rf_v2_dev, average = \"micro\"))"
   ]
  },
  {
   "cell_type": "markdown",
   "id": "a37907fc",
   "metadata": {},
   "source": [
    "## v3 - TUNED RF ADDING A FEATURE SELECTION STEP"
   ]
  },
  {
   "cell_type": "markdown",
   "id": "f56d9f97",
   "metadata": {},
   "source": [
    "Although results are slightly better, there is a very strong difference between the training and the development results, and as half of the times in machine learning, the problem is overfitting. One other way to counteract this issue is to limit the number of features, hence introduce some feature selection procedure, which, however, yet again failed to yield improvements."
   ]
  },
  {
   "cell_type": "code",
   "execution_count": 10,
   "id": "197b623e",
   "metadata": {},
   "outputs": [
    {
     "data": {
      "text/plain": [
       "(8000, 11687)"
      ]
     },
     "execution_count": 10,
     "metadata": {},
     "output_type": "execute_result"
    }
   ],
   "source": [
    "X_rf_train.shape"
   ]
  },
  {
   "cell_type": "code",
   "execution_count": 11,
   "id": "908e7526",
   "metadata": {
    "collapsed": true
   },
   "outputs": [
    {
     "name": "stdout",
     "output_type": "stream",
     "text": [
      "Fitting 3 folds for each of 100 candidates, totalling 300 fits\n",
      "[CV 1/3] END classifier__max_depth=100, classifier__min_samples_leaf=2, selection__k=10000;, score=0.393 total time=  15.3s\n",
      "[CV 2/3] END classifier__max_depth=100, classifier__min_samples_leaf=2, selection__k=10000;, score=0.391 total time=  11.5s\n",
      "[CV 3/3] END classifier__max_depth=100, classifier__min_samples_leaf=2, selection__k=10000;, score=0.372 total time=  13.6s\n",
      "[CV 1/3] END classifier__max_depth=100, classifier__min_samples_leaf=2, selection__k=7000;, score=0.394 total time=  13.0s\n",
      "[CV 2/3] END classifier__max_depth=100, classifier__min_samples_leaf=2, selection__k=7000;, score=0.388 total time=   9.9s\n",
      "[CV 3/3] END classifier__max_depth=100, classifier__min_samples_leaf=2, selection__k=7000;, score=0.390 total time=  10.6s\n",
      "[CV 1/3] END classifier__max_depth=100, classifier__min_samples_leaf=2, selection__k=5000;, score=0.394 total time=  10.1s\n",
      "[CV 2/3] END classifier__max_depth=100, classifier__min_samples_leaf=2, selection__k=5000;, score=0.374 total time=   9.7s\n",
      "[CV 3/3] END classifier__max_depth=100, classifier__min_samples_leaf=2, selection__k=5000;, score=0.387 total time=  10.6s\n",
      "[CV 1/3] END classifier__max_depth=100, classifier__min_samples_leaf=2, selection__k=3000;, score=0.393 total time=  10.6s\n",
      "[CV 2/3] END classifier__max_depth=100, classifier__min_samples_leaf=2, selection__k=3000;, score=0.368 total time=  10.4s\n",
      "[CV 3/3] END classifier__max_depth=100, classifier__min_samples_leaf=2, selection__k=3000;, score=0.380 total time=  10.0s\n",
      "[CV 1/3] END classifier__max_depth=100, classifier__min_samples_leaf=2, selection__k=1000;, score=0.367 total time=   6.5s\n",
      "[CV 2/3] END classifier__max_depth=100, classifier__min_samples_leaf=2, selection__k=1000;, score=0.354 total time=   7.9s\n",
      "[CV 3/3] END classifier__max_depth=100, classifier__min_samples_leaf=2, selection__k=1000;, score=0.366 total time=   7.7s\n",
      "[CV 1/3] END classifier__max_depth=100, classifier__min_samples_leaf=4, selection__k=10000;, score=0.391 total time=   7.7s\n",
      "[CV 2/3] END classifier__max_depth=100, classifier__min_samples_leaf=4, selection__k=10000;, score=0.373 total time=   6.8s\n",
      "[CV 3/3] END classifier__max_depth=100, classifier__min_samples_leaf=4, selection__k=10000;, score=0.385 total time=   7.0s\n",
      "[CV 1/3] END classifier__max_depth=100, classifier__min_samples_leaf=4, selection__k=7000;, score=0.386 total time=   6.7s\n",
      "[CV 2/3] END classifier__max_depth=100, classifier__min_samples_leaf=4, selection__k=7000;, score=0.378 total time=   6.4s\n",
      "[CV 3/3] END classifier__max_depth=100, classifier__min_samples_leaf=4, selection__k=7000;, score=0.378 total time=   6.7s\n",
      "[CV 1/3] END classifier__max_depth=100, classifier__min_samples_leaf=4, selection__k=5000;, score=0.388 total time=   6.4s\n",
      "[CV 2/3] END classifier__max_depth=100, classifier__min_samples_leaf=4, selection__k=5000;, score=0.373 total time=   6.4s\n",
      "[CV 3/3] END classifier__max_depth=100, classifier__min_samples_leaf=4, selection__k=5000;, score=0.377 total time=   6.4s\n",
      "[CV 1/3] END classifier__max_depth=100, classifier__min_samples_leaf=4, selection__k=3000;, score=0.388 total time=   5.8s\n",
      "[CV 2/3] END classifier__max_depth=100, classifier__min_samples_leaf=4, selection__k=3000;, score=0.378 total time=   6.8s\n",
      "[CV 3/3] END classifier__max_depth=100, classifier__min_samples_leaf=4, selection__k=3000;, score=0.371 total time=   7.3s\n",
      "[CV 1/3] END classifier__max_depth=100, classifier__min_samples_leaf=4, selection__k=1000;, score=0.365 total time=   5.5s\n",
      "[CV 2/3] END classifier__max_depth=100, classifier__min_samples_leaf=4, selection__k=1000;, score=0.344 total time=   6.5s\n",
      "[CV 3/3] END classifier__max_depth=100, classifier__min_samples_leaf=4, selection__k=1000;, score=0.362 total time=   4.7s\n",
      "[CV 1/3] END classifier__max_depth=100, classifier__min_samples_leaf=8, selection__k=10000;, score=0.376 total time=   4.4s\n",
      "[CV 2/3] END classifier__max_depth=100, classifier__min_samples_leaf=8, selection__k=10000;, score=0.368 total time=   4.5s\n",
      "[CV 3/3] END classifier__max_depth=100, classifier__min_samples_leaf=8, selection__k=10000;, score=0.358 total time=   4.5s\n",
      "[CV 1/3] END classifier__max_depth=100, classifier__min_samples_leaf=8, selection__k=7000;, score=0.380 total time=   4.2s\n",
      "[CV 2/3] END classifier__max_depth=100, classifier__min_samples_leaf=8, selection__k=7000;, score=0.364 total time=   3.7s\n",
      "[CV 3/3] END classifier__max_depth=100, classifier__min_samples_leaf=8, selection__k=7000;, score=0.362 total time=   4.0s\n",
      "[CV 1/3] END classifier__max_depth=100, classifier__min_samples_leaf=8, selection__k=5000;, score=0.370 total time=   4.1s\n",
      "[CV 2/3] END classifier__max_depth=100, classifier__min_samples_leaf=8, selection__k=5000;, score=0.369 total time=   3.8s\n",
      "[CV 3/3] END classifier__max_depth=100, classifier__min_samples_leaf=8, selection__k=5000;, score=0.355 total time=   3.9s\n",
      "[CV 1/3] END classifier__max_depth=100, classifier__min_samples_leaf=8, selection__k=3000;, score=0.375 total time=   3.5s\n",
      "[CV 2/3] END classifier__max_depth=100, classifier__min_samples_leaf=8, selection__k=3000;, score=0.358 total time=   5.5s\n",
      "[CV 3/3] END classifier__max_depth=100, classifier__min_samples_leaf=8, selection__k=3000;, score=0.351 total time=   8.8s\n",
      "[CV 1/3] END classifier__max_depth=100, classifier__min_samples_leaf=8, selection__k=1000;, score=0.357 total time=   6.3s\n",
      "[CV 2/3] END classifier__max_depth=100, classifier__min_samples_leaf=8, selection__k=1000;, score=0.337 total time=   7.8s\n",
      "[CV 3/3] END classifier__max_depth=100, classifier__min_samples_leaf=8, selection__k=1000;, score=0.345 total time=   7.5s\n",
      "[CV 1/3] END classifier__max_depth=100, classifier__min_samples_leaf=20, selection__k=10000;, score=0.351 total time=   6.9s\n",
      "[CV 2/3] END classifier__max_depth=100, classifier__min_samples_leaf=20, selection__k=10000;, score=0.339 total time=   6.9s\n",
      "[CV 3/3] END classifier__max_depth=100, classifier__min_samples_leaf=20, selection__k=10000;, score=0.338 total time=   7.2s\n",
      "[CV 1/3] END classifier__max_depth=100, classifier__min_samples_leaf=20, selection__k=7000;, score=0.349 total time=   7.0s\n",
      "[CV 2/3] END classifier__max_depth=100, classifier__min_samples_leaf=20, selection__k=7000;, score=0.334 total time=   6.4s\n",
      "[CV 3/3] END classifier__max_depth=100, classifier__min_samples_leaf=20, selection__k=7000;, score=0.331 total time=   6.4s\n",
      "[CV 1/3] END classifier__max_depth=100, classifier__min_samples_leaf=20, selection__k=5000;, score=0.354 total time=   5.5s\n",
      "[CV 2/3] END classifier__max_depth=100, classifier__min_samples_leaf=20, selection__k=5000;, score=0.328 total time=   5.7s\n",
      "[CV 3/3] END classifier__max_depth=100, classifier__min_samples_leaf=20, selection__k=5000;, score=0.342 total time=   6.3s\n",
      "[CV 1/3] END classifier__max_depth=100, classifier__min_samples_leaf=20, selection__k=3000;, score=0.357 total time=   5.7s\n",
      "[CV 2/3] END classifier__max_depth=100, classifier__min_samples_leaf=20, selection__k=3000;, score=0.340 total time=   5.5s\n",
      "[CV 3/3] END classifier__max_depth=100, classifier__min_samples_leaf=20, selection__k=3000;, score=0.335 total time=   5.3s\n",
      "[CV 1/3] END classifier__max_depth=100, classifier__min_samples_leaf=20, selection__k=1000;, score=0.333 total time=   4.7s\n",
      "[CV 2/3] END classifier__max_depth=100, classifier__min_samples_leaf=20, selection__k=1000;, score=0.322 total time=   5.3s\n",
      "[CV 3/3] END classifier__max_depth=100, classifier__min_samples_leaf=20, selection__k=1000;, score=0.331 total time=   4.9s\n",
      "[CV 1/3] END classifier__max_depth=100, classifier__min_samples_leaf=50, selection__k=10000;, score=0.290 total time=   4.4s\n",
      "[CV 2/3] END classifier__max_depth=100, classifier__min_samples_leaf=50, selection__k=10000;, score=0.288 total time=   4.2s\n",
      "[CV 3/3] END classifier__max_depth=100, classifier__min_samples_leaf=50, selection__k=10000;, score=0.270 total time=   3.9s\n",
      "[CV 1/3] END classifier__max_depth=100, classifier__min_samples_leaf=50, selection__k=7000;, score=0.291 total time=   4.6s\n",
      "[CV 2/3] END classifier__max_depth=100, classifier__min_samples_leaf=50, selection__k=7000;, score=0.284 total time=   4.2s\n",
      "[CV 3/3] END classifier__max_depth=100, classifier__min_samples_leaf=50, selection__k=7000;, score=0.281 total time=   4.0s\n"
     ]
    },
    {
     "name": "stdout",
     "output_type": "stream",
     "text": [
      "[CV 1/3] END classifier__max_depth=100, classifier__min_samples_leaf=50, selection__k=5000;, score=0.301 total time=   4.3s\n",
      "[CV 2/3] END classifier__max_depth=100, classifier__min_samples_leaf=50, selection__k=5000;, score=0.291 total time=   3.9s\n",
      "[CV 3/3] END classifier__max_depth=100, classifier__min_samples_leaf=50, selection__k=5000;, score=0.292 total time=   4.2s\n",
      "[CV 1/3] END classifier__max_depth=100, classifier__min_samples_leaf=50, selection__k=3000;, score=0.315 total time=   4.3s\n",
      "[CV 2/3] END classifier__max_depth=100, classifier__min_samples_leaf=50, selection__k=3000;, score=0.289 total time=   3.8s\n",
      "[CV 3/3] END classifier__max_depth=100, classifier__min_samples_leaf=50, selection__k=3000;, score=0.301 total time=   4.3s\n",
      "[CV 1/3] END classifier__max_depth=100, classifier__min_samples_leaf=50, selection__k=1000;, score=0.298 total time=   3.6s\n",
      "[CV 2/3] END classifier__max_depth=100, classifier__min_samples_leaf=50, selection__k=1000;, score=0.288 total time=   3.8s\n",
      "[CV 3/3] END classifier__max_depth=100, classifier__min_samples_leaf=50, selection__k=1000;, score=0.305 total time=   3.7s\n",
      "[CV 1/3] END classifier__max_depth=200, classifier__min_samples_leaf=2, selection__k=10000;, score=0.388 total time=  35.1s\n",
      "[CV 2/3] END classifier__max_depth=200, classifier__min_samples_leaf=2, selection__k=10000;, score=0.377 total time=  34.5s\n",
      "[CV 3/3] END classifier__max_depth=200, classifier__min_samples_leaf=2, selection__k=10000;, score=0.392 total time=  34.4s\n",
      "[CV 1/3] END classifier__max_depth=200, classifier__min_samples_leaf=2, selection__k=7000;, score=0.395 total time=  31.9s\n",
      "[CV 2/3] END classifier__max_depth=200, classifier__min_samples_leaf=2, selection__k=7000;, score=0.385 total time=  27.6s\n",
      "[CV 3/3] END classifier__max_depth=200, classifier__min_samples_leaf=2, selection__k=7000;, score=0.390 total time=  29.6s\n",
      "[CV 1/3] END classifier__max_depth=200, classifier__min_samples_leaf=2, selection__k=5000;, score=0.384 total time=  26.3s\n",
      "[CV 2/3] END classifier__max_depth=200, classifier__min_samples_leaf=2, selection__k=5000;, score=0.382 total time=  27.0s\n",
      "[CV 3/3] END classifier__max_depth=200, classifier__min_samples_leaf=2, selection__k=5000;, score=0.387 total time=  27.6s\n",
      "[CV 1/3] END classifier__max_depth=200, classifier__min_samples_leaf=2, selection__k=3000;, score=0.393 total time=  24.0s\n",
      "[CV 2/3] END classifier__max_depth=200, classifier__min_samples_leaf=2, selection__k=3000;, score=0.372 total time=  22.1s\n",
      "[CV 3/3] END classifier__max_depth=200, classifier__min_samples_leaf=2, selection__k=3000;, score=0.387 total time=  24.1s\n",
      "[CV 1/3] END classifier__max_depth=200, classifier__min_samples_leaf=2, selection__k=1000;, score=0.372 total time=  17.7s\n",
      "[CV 2/3] END classifier__max_depth=200, classifier__min_samples_leaf=2, selection__k=1000;, score=0.352 total time=  19.5s\n",
      "[CV 3/3] END classifier__max_depth=200, classifier__min_samples_leaf=2, selection__k=1000;, score=0.363 total time=  18.1s\n",
      "[CV 1/3] END classifier__max_depth=200, classifier__min_samples_leaf=4, selection__k=10000;, score=0.399 total time=  18.4s\n",
      "[CV 2/3] END classifier__max_depth=200, classifier__min_samples_leaf=4, selection__k=10000;, score=0.373 total time=  18.3s\n",
      "[CV 3/3] END classifier__max_depth=200, classifier__min_samples_leaf=4, selection__k=10000;, score=0.375 total time=  18.7s\n",
      "[CV 1/3] END classifier__max_depth=200, classifier__min_samples_leaf=4, selection__k=7000;, score=0.385 total time=  19.1s\n",
      "[CV 2/3] END classifier__max_depth=200, classifier__min_samples_leaf=4, selection__k=7000;, score=0.380 total time=  16.7s\n",
      "[CV 3/3] END classifier__max_depth=200, classifier__min_samples_leaf=4, selection__k=7000;, score=0.380 total time=  16.5s\n",
      "[CV 1/3] END classifier__max_depth=200, classifier__min_samples_leaf=4, selection__k=5000;, score=0.386 total time=  15.7s\n",
      "[CV 2/3] END classifier__max_depth=200, classifier__min_samples_leaf=4, selection__k=5000;, score=0.374 total time=  15.2s\n",
      "[CV 3/3] END classifier__max_depth=200, classifier__min_samples_leaf=4, selection__k=5000;, score=0.378 total time=  15.4s\n",
      "[CV 1/3] END classifier__max_depth=200, classifier__min_samples_leaf=4, selection__k=3000;, score=0.389 total time=  13.0s\n",
      "[CV 2/3] END classifier__max_depth=200, classifier__min_samples_leaf=4, selection__k=3000;, score=0.371 total time=  13.3s\n",
      "[CV 3/3] END classifier__max_depth=200, classifier__min_samples_leaf=4, selection__k=3000;, score=0.371 total time=  14.1s\n",
      "[CV 1/3] END classifier__max_depth=200, classifier__min_samples_leaf=4, selection__k=1000;, score=0.363 total time=  10.5s\n",
      "[CV 2/3] END classifier__max_depth=200, classifier__min_samples_leaf=4, selection__k=1000;, score=0.345 total time=  11.8s\n",
      "[CV 3/3] END classifier__max_depth=200, classifier__min_samples_leaf=4, selection__k=1000;, score=0.360 total time=  11.0s\n",
      "[CV 1/3] END classifier__max_depth=200, classifier__min_samples_leaf=8, selection__k=10000;, score=0.376 total time=  11.4s\n",
      "[CV 2/3] END classifier__max_depth=200, classifier__min_samples_leaf=8, selection__k=10000;, score=0.368 total time=  11.3s\n",
      "[CV 3/3] END classifier__max_depth=200, classifier__min_samples_leaf=8, selection__k=10000;, score=0.358 total time=  11.4s\n",
      "[CV 1/3] END classifier__max_depth=200, classifier__min_samples_leaf=8, selection__k=7000;, score=0.380 total time=  10.0s\n",
      "[CV 2/3] END classifier__max_depth=200, classifier__min_samples_leaf=8, selection__k=7000;, score=0.364 total time=  10.0s\n",
      "[CV 3/3] END classifier__max_depth=200, classifier__min_samples_leaf=8, selection__k=7000;, score=0.362 total time=  10.3s\n",
      "[CV 1/3] END classifier__max_depth=200, classifier__min_samples_leaf=8, selection__k=5000;, score=0.370 total time=  10.9s\n",
      "[CV 2/3] END classifier__max_depth=200, classifier__min_samples_leaf=8, selection__k=5000;, score=0.369 total time=  10.6s\n",
      "[CV 3/3] END classifier__max_depth=200, classifier__min_samples_leaf=8, selection__k=5000;, score=0.355 total time=  10.1s\n",
      "[CV 1/3] END classifier__max_depth=200, classifier__min_samples_leaf=8, selection__k=3000;, score=0.375 total time=   9.0s\n",
      "[CV 2/3] END classifier__max_depth=200, classifier__min_samples_leaf=8, selection__k=3000;, score=0.358 total time=   9.1s\n",
      "[CV 3/3] END classifier__max_depth=200, classifier__min_samples_leaf=8, selection__k=3000;, score=0.351 total time=   9.4s\n",
      "[CV 1/3] END classifier__max_depth=200, classifier__min_samples_leaf=8, selection__k=1000;, score=0.357 total time=   7.4s\n",
      "[CV 2/3] END classifier__max_depth=200, classifier__min_samples_leaf=8, selection__k=1000;, score=0.337 total time=   7.9s\n",
      "[CV 3/3] END classifier__max_depth=200, classifier__min_samples_leaf=8, selection__k=1000;, score=0.345 total time=   7.5s\n",
      "[CV 1/3] END classifier__max_depth=200, classifier__min_samples_leaf=20, selection__k=10000;, score=0.351 total time=   7.5s\n",
      "[CV 2/3] END classifier__max_depth=200, classifier__min_samples_leaf=20, selection__k=10000;, score=0.339 total time=   7.2s\n",
      "[CV 3/3] END classifier__max_depth=200, classifier__min_samples_leaf=20, selection__k=10000;, score=0.338 total time=   7.1s\n",
      "[CV 1/3] END classifier__max_depth=200, classifier__min_samples_leaf=20, selection__k=7000;, score=0.349 total time=   6.9s\n",
      "[CV 2/3] END classifier__max_depth=200, classifier__min_samples_leaf=20, selection__k=7000;, score=0.334 total time=   6.5s\n",
      "[CV 3/3] END classifier__max_depth=200, classifier__min_samples_leaf=20, selection__k=7000;, score=0.331 total time=   6.5s\n",
      "[CV 1/3] END classifier__max_depth=200, classifier__min_samples_leaf=20, selection__k=5000;, score=0.354 total time=   6.7s\n",
      "[CV 2/3] END classifier__max_depth=200, classifier__min_samples_leaf=20, selection__k=5000;, score=0.328 total time=   6.6s\n",
      "[CV 3/3] END classifier__max_depth=200, classifier__min_samples_leaf=20, selection__k=5000;, score=0.342 total time=   6.8s\n",
      "[CV 1/3] END classifier__max_depth=200, classifier__min_samples_leaf=20, selection__k=3000;, score=0.357 total time=   5.7s\n",
      "[CV 2/3] END classifier__max_depth=200, classifier__min_samples_leaf=20, selection__k=3000;, score=0.340 total time=   5.7s\n",
      "[CV 3/3] END classifier__max_depth=200, classifier__min_samples_leaf=20, selection__k=3000;, score=0.335 total time=   6.2s\n",
      "[CV 1/3] END classifier__max_depth=200, classifier__min_samples_leaf=20, selection__k=1000;, score=0.333 total time=   5.1s\n"
     ]
    },
    {
     "name": "stdout",
     "output_type": "stream",
     "text": [
      "[CV 2/3] END classifier__max_depth=200, classifier__min_samples_leaf=20, selection__k=1000;, score=0.322 total time=   5.5s\n",
      "[CV 3/3] END classifier__max_depth=200, classifier__min_samples_leaf=20, selection__k=1000;, score=0.331 total time=   5.2s\n",
      "[CV 1/3] END classifier__max_depth=200, classifier__min_samples_leaf=50, selection__k=10000;, score=0.290 total time=   4.8s\n",
      "[CV 2/3] END classifier__max_depth=200, classifier__min_samples_leaf=50, selection__k=10000;, score=0.288 total time=   4.9s\n",
      "[CV 3/3] END classifier__max_depth=200, classifier__min_samples_leaf=50, selection__k=10000;, score=0.270 total time=   4.6s\n",
      "[CV 1/3] END classifier__max_depth=200, classifier__min_samples_leaf=50, selection__k=7000;, score=0.291 total time=   4.5s\n",
      "[CV 2/3] END classifier__max_depth=200, classifier__min_samples_leaf=50, selection__k=7000;, score=0.284 total time=   4.4s\n",
      "[CV 3/3] END classifier__max_depth=200, classifier__min_samples_leaf=50, selection__k=7000;, score=0.281 total time=   4.6s\n",
      "[CV 1/3] END classifier__max_depth=200, classifier__min_samples_leaf=50, selection__k=5000;, score=0.301 total time=   4.6s\n",
      "[CV 2/3] END classifier__max_depth=200, classifier__min_samples_leaf=50, selection__k=5000;, score=0.291 total time=   3.9s\n",
      "[CV 3/3] END classifier__max_depth=200, classifier__min_samples_leaf=50, selection__k=5000;, score=0.292 total time=   4.6s\n",
      "[CV 1/3] END classifier__max_depth=200, classifier__min_samples_leaf=50, selection__k=3000;, score=0.315 total time=   4.0s\n",
      "[CV 2/3] END classifier__max_depth=200, classifier__min_samples_leaf=50, selection__k=3000;, score=0.289 total time=   4.0s\n",
      "[CV 3/3] END classifier__max_depth=200, classifier__min_samples_leaf=50, selection__k=3000;, score=0.301 total time=   4.3s\n",
      "[CV 1/3] END classifier__max_depth=200, classifier__min_samples_leaf=50, selection__k=1000;, score=0.298 total time=   3.5s\n",
      "[CV 2/3] END classifier__max_depth=200, classifier__min_samples_leaf=50, selection__k=1000;, score=0.288 total time=   4.1s\n",
      "[CV 3/3] END classifier__max_depth=200, classifier__min_samples_leaf=50, selection__k=1000;, score=0.305 total time=   3.8s\n",
      "[CV 1/3] END classifier__max_depth=500, classifier__min_samples_leaf=2, selection__k=10000;, score=0.388 total time=  35.4s\n",
      "[CV 2/3] END classifier__max_depth=500, classifier__min_samples_leaf=2, selection__k=10000;, score=0.376 total time=  34.8s\n",
      "[CV 3/3] END classifier__max_depth=500, classifier__min_samples_leaf=2, selection__k=10000;, score=0.392 total time=  34.5s\n",
      "[CV 1/3] END classifier__max_depth=500, classifier__min_samples_leaf=2, selection__k=7000;, score=0.395 total time=  32.1s\n",
      "[CV 2/3] END classifier__max_depth=500, classifier__min_samples_leaf=2, selection__k=7000;, score=0.384 total time=  30.4s\n",
      "[CV 3/3] END classifier__max_depth=500, classifier__min_samples_leaf=2, selection__k=7000;, score=0.391 total time=  25.3s\n",
      "[CV 1/3] END classifier__max_depth=500, classifier__min_samples_leaf=2, selection__k=5000;, score=0.384 total time=  26.6s\n",
      "[CV 2/3] END classifier__max_depth=500, classifier__min_samples_leaf=2, selection__k=5000;, score=0.381 total time=  27.9s\n",
      "[CV 3/3] END classifier__max_depth=500, classifier__min_samples_leaf=2, selection__k=5000;, score=0.386 total time=  26.9s\n",
      "[CV 1/3] END classifier__max_depth=500, classifier__min_samples_leaf=2, selection__k=3000;, score=0.394 total time=  24.3s\n",
      "[CV 2/3] END classifier__max_depth=500, classifier__min_samples_leaf=2, selection__k=3000;, score=0.372 total time=  23.4s\n",
      "[CV 3/3] END classifier__max_depth=500, classifier__min_samples_leaf=2, selection__k=3000;, score=0.387 total time=  23.2s\n",
      "[CV 1/3] END classifier__max_depth=500, classifier__min_samples_leaf=2, selection__k=1000;, score=0.372 total time=  17.2s\n",
      "[CV 2/3] END classifier__max_depth=500, classifier__min_samples_leaf=2, selection__k=1000;, score=0.352 total time=  19.3s\n",
      "[CV 3/3] END classifier__max_depth=500, classifier__min_samples_leaf=2, selection__k=1000;, score=0.363 total time=  18.7s\n",
      "[CV 1/3] END classifier__max_depth=500, classifier__min_samples_leaf=4, selection__k=10000;, score=0.399 total time=  19.0s\n",
      "[CV 2/3] END classifier__max_depth=500, classifier__min_samples_leaf=4, selection__k=10000;, score=0.373 total time=  18.4s\n",
      "[CV 3/3] END classifier__max_depth=500, classifier__min_samples_leaf=4, selection__k=10000;, score=0.375 total time=  19.5s\n",
      "[CV 1/3] END classifier__max_depth=500, classifier__min_samples_leaf=4, selection__k=7000;, score=0.385 total time=  17.8s\n",
      "[CV 2/3] END classifier__max_depth=500, classifier__min_samples_leaf=4, selection__k=7000;, score=0.380 total time=  16.9s\n",
      "[CV 3/3] END classifier__max_depth=500, classifier__min_samples_leaf=4, selection__k=7000;, score=0.380 total time=  17.4s\n",
      "[CV 1/3] END classifier__max_depth=500, classifier__min_samples_leaf=4, selection__k=5000;, score=0.386 total time=  16.1s\n",
      "[CV 2/3] END classifier__max_depth=500, classifier__min_samples_leaf=4, selection__k=5000;, score=0.374 total time=  13.6s\n",
      "[CV 3/3] END classifier__max_depth=500, classifier__min_samples_leaf=4, selection__k=5000;, score=0.378 total time=  16.0s\n",
      "[CV 1/3] END classifier__max_depth=500, classifier__min_samples_leaf=4, selection__k=3000;, score=0.389 total time=  14.4s\n",
      "[CV 2/3] END classifier__max_depth=500, classifier__min_samples_leaf=4, selection__k=3000;, score=0.371 total time=  14.0s\n",
      "[CV 3/3] END classifier__max_depth=500, classifier__min_samples_leaf=4, selection__k=3000;, score=0.371 total time=  14.6s\n",
      "[CV 1/3] END classifier__max_depth=500, classifier__min_samples_leaf=4, selection__k=1000;, score=0.363 total time=  11.0s\n",
      "[CV 2/3] END classifier__max_depth=500, classifier__min_samples_leaf=4, selection__k=1000;, score=0.345 total time=  11.8s\n",
      "[CV 3/3] END classifier__max_depth=500, classifier__min_samples_leaf=4, selection__k=1000;, score=0.360 total time=  10.5s\n",
      "[CV 1/3] END classifier__max_depth=500, classifier__min_samples_leaf=8, selection__k=10000;, score=0.376 total time=  11.7s\n",
      "[CV 2/3] END classifier__max_depth=500, classifier__min_samples_leaf=8, selection__k=10000;, score=0.368 total time=  11.6s\n",
      "[CV 3/3] END classifier__max_depth=500, classifier__min_samples_leaf=8, selection__k=10000;, score=0.358 total time=  11.7s\n",
      "[CV 1/3] END classifier__max_depth=500, classifier__min_samples_leaf=8, selection__k=7000;, score=0.380 total time=   9.5s\n",
      "[CV 2/3] END classifier__max_depth=500, classifier__min_samples_leaf=8, selection__k=7000;, score=0.364 total time=  10.5s\n",
      "[CV 3/3] END classifier__max_depth=500, classifier__min_samples_leaf=8, selection__k=7000;, score=0.362 total time=  10.4s\n",
      "[CV 1/3] END classifier__max_depth=500, classifier__min_samples_leaf=8, selection__k=5000;, score=0.370 total time=  10.3s\n",
      "[CV 2/3] END classifier__max_depth=500, classifier__min_samples_leaf=8, selection__k=5000;, score=0.369 total time=   9.9s\n",
      "[CV 3/3] END classifier__max_depth=500, classifier__min_samples_leaf=8, selection__k=5000;, score=0.355 total time=  10.4s\n",
      "[CV 1/3] END classifier__max_depth=500, classifier__min_samples_leaf=8, selection__k=3000;, score=0.375 total time=   9.8s\n",
      "[CV 2/3] END classifier__max_depth=500, classifier__min_samples_leaf=8, selection__k=3000;, score=0.358 total time=   8.7s\n",
      "[CV 3/3] END classifier__max_depth=500, classifier__min_samples_leaf=8, selection__k=3000;, score=0.351 total time=   9.3s\n",
      "[CV 1/3] END classifier__max_depth=500, classifier__min_samples_leaf=8, selection__k=1000;, score=0.357 total time=   7.0s\n",
      "[CV 2/3] END classifier__max_depth=500, classifier__min_samples_leaf=8, selection__k=1000;, score=0.337 total time=   8.3s\n",
      "[CV 3/3] END classifier__max_depth=500, classifier__min_samples_leaf=8, selection__k=1000;, score=0.345 total time=   7.2s\n",
      "[CV 1/3] END classifier__max_depth=500, classifier__min_samples_leaf=20, selection__k=10000;, score=0.351 total time=   7.2s\n",
      "[CV 2/3] END classifier__max_depth=500, classifier__min_samples_leaf=20, selection__k=10000;, score=0.339 total time=   6.9s\n",
      "[CV 3/3] END classifier__max_depth=500, classifier__min_samples_leaf=20, selection__k=10000;, score=0.338 total time=   7.0s\n",
      "[CV 1/3] END classifier__max_depth=500, classifier__min_samples_leaf=20, selection__k=7000;, score=0.349 total time=   5.7s\n",
      "[CV 2/3] END classifier__max_depth=500, classifier__min_samples_leaf=20, selection__k=7000;, score=0.334 total time=   6.0s\n"
     ]
    },
    {
     "name": "stdout",
     "output_type": "stream",
     "text": [
      "[CV 3/3] END classifier__max_depth=500, classifier__min_samples_leaf=20, selection__k=7000;, score=0.331 total time=   6.1s\n",
      "[CV 1/3] END classifier__max_depth=500, classifier__min_samples_leaf=20, selection__k=5000;, score=0.354 total time=   6.5s\n",
      "[CV 2/3] END classifier__max_depth=500, classifier__min_samples_leaf=20, selection__k=5000;, score=0.328 total time=   5.7s\n",
      "[CV 3/3] END classifier__max_depth=500, classifier__min_samples_leaf=20, selection__k=5000;, score=0.342 total time=   6.4s\n",
      "[CV 1/3] END classifier__max_depth=500, classifier__min_samples_leaf=20, selection__k=3000;, score=0.357 total time=   6.2s\n",
      "[CV 2/3] END classifier__max_depth=500, classifier__min_samples_leaf=20, selection__k=3000;, score=0.340 total time=   5.9s\n",
      "[CV 3/3] END classifier__max_depth=500, classifier__min_samples_leaf=20, selection__k=3000;, score=0.335 total time=   5.6s\n",
      "[CV 1/3] END classifier__max_depth=500, classifier__min_samples_leaf=20, selection__k=1000;, score=0.333 total time=   4.6s\n",
      "[CV 2/3] END classifier__max_depth=500, classifier__min_samples_leaf=20, selection__k=1000;, score=0.322 total time=   5.2s\n",
      "[CV 3/3] END classifier__max_depth=500, classifier__min_samples_leaf=20, selection__k=1000;, score=0.331 total time=   5.2s\n",
      "[CV 1/3] END classifier__max_depth=500, classifier__min_samples_leaf=50, selection__k=10000;, score=0.290 total time=   4.8s\n",
      "[CV 2/3] END classifier__max_depth=500, classifier__min_samples_leaf=50, selection__k=10000;, score=0.288 total time=   4.9s\n",
      "[CV 3/3] END classifier__max_depth=500, classifier__min_samples_leaf=50, selection__k=10000;, score=0.270 total time=   4.6s\n",
      "[CV 1/3] END classifier__max_depth=500, classifier__min_samples_leaf=50, selection__k=7000;, score=0.291 total time=   4.4s\n",
      "[CV 2/3] END classifier__max_depth=500, classifier__min_samples_leaf=50, selection__k=7000;, score=0.284 total time=   4.0s\n",
      "[CV 3/3] END classifier__max_depth=500, classifier__min_samples_leaf=50, selection__k=7000;, score=0.281 total time=   4.3s\n",
      "[CV 1/3] END classifier__max_depth=500, classifier__min_samples_leaf=50, selection__k=5000;, score=0.301 total time=   4.4s\n",
      "[CV 2/3] END classifier__max_depth=500, classifier__min_samples_leaf=50, selection__k=5000;, score=0.291 total time=   4.5s\n",
      "[CV 3/3] END classifier__max_depth=500, classifier__min_samples_leaf=50, selection__k=5000;, score=0.292 total time=   3.9s\n",
      "[CV 1/3] END classifier__max_depth=500, classifier__min_samples_leaf=50, selection__k=3000;, score=0.315 total time=   3.5s\n",
      "[CV 2/3] END classifier__max_depth=500, classifier__min_samples_leaf=50, selection__k=3000;, score=0.289 total time=   3.6s\n",
      "[CV 3/3] END classifier__max_depth=500, classifier__min_samples_leaf=50, selection__k=3000;, score=0.301 total time=   4.1s\n",
      "[CV 1/3] END classifier__max_depth=500, classifier__min_samples_leaf=50, selection__k=1000;, score=0.298 total time=   3.1s\n",
      "[CV 2/3] END classifier__max_depth=500, classifier__min_samples_leaf=50, selection__k=1000;, score=0.288 total time=   3.8s\n",
      "[CV 3/3] END classifier__max_depth=500, classifier__min_samples_leaf=50, selection__k=1000;, score=0.305 total time=   3.7s\n",
      "[CV 1/3] END classifier__max_depth=800, classifier__min_samples_leaf=2, selection__k=10000;, score=0.388 total time=  35.7s\n",
      "[CV 2/3] END classifier__max_depth=800, classifier__min_samples_leaf=2, selection__k=10000;, score=0.376 total time=  35.0s\n",
      "[CV 3/3] END classifier__max_depth=800, classifier__min_samples_leaf=2, selection__k=10000;, score=0.392 total time=  35.2s\n",
      "[CV 1/3] END classifier__max_depth=800, classifier__min_samples_leaf=2, selection__k=7000;, score=0.395 total time=  31.0s\n",
      "[CV 2/3] END classifier__max_depth=800, classifier__min_samples_leaf=2, selection__k=7000;, score=0.384 total time=  31.1s\n",
      "[CV 3/3] END classifier__max_depth=800, classifier__min_samples_leaf=2, selection__k=7000;, score=0.391 total time=  31.2s\n",
      "[CV 1/3] END classifier__max_depth=800, classifier__min_samples_leaf=2, selection__k=5000;, score=0.384 total time=  26.8s\n",
      "[CV 2/3] END classifier__max_depth=800, classifier__min_samples_leaf=2, selection__k=5000;, score=0.381 total time=  26.1s\n",
      "[CV 3/3] END classifier__max_depth=800, classifier__min_samples_leaf=2, selection__k=5000;, score=0.386 total time=  28.0s\n",
      "[CV 1/3] END classifier__max_depth=800, classifier__min_samples_leaf=2, selection__k=3000;, score=0.394 total time=  24.3s\n",
      "[CV 2/3] END classifier__max_depth=800, classifier__min_samples_leaf=2, selection__k=3000;, score=0.372 total time=  23.7s\n",
      "[CV 3/3] END classifier__max_depth=800, classifier__min_samples_leaf=2, selection__k=3000;, score=0.387 total time=  23.9s\n",
      "[CV 1/3] END classifier__max_depth=800, classifier__min_samples_leaf=2, selection__k=1000;, score=0.372 total time=  16.5s\n",
      "[CV 2/3] END classifier__max_depth=800, classifier__min_samples_leaf=2, selection__k=1000;, score=0.352 total time=  19.6s\n",
      "[CV 3/3] END classifier__max_depth=800, classifier__min_samples_leaf=2, selection__k=1000;, score=0.363 total time=  18.7s\n",
      "[CV 1/3] END classifier__max_depth=800, classifier__min_samples_leaf=4, selection__k=10000;, score=0.399 total time=  19.5s\n",
      "[CV 2/3] END classifier__max_depth=800, classifier__min_samples_leaf=4, selection__k=10000;, score=0.373 total time=  18.7s\n",
      "[CV 3/3] END classifier__max_depth=800, classifier__min_samples_leaf=4, selection__k=10000;, score=0.375 total time=  18.9s\n",
      "[CV 1/3] END classifier__max_depth=800, classifier__min_samples_leaf=4, selection__k=7000;, score=0.385 total time=  17.9s\n",
      "[CV 2/3] END classifier__max_depth=800, classifier__min_samples_leaf=4, selection__k=7000;, score=0.380 total time=  16.7s\n",
      "[CV 3/3] END classifier__max_depth=800, classifier__min_samples_leaf=4, selection__k=7000;, score=0.380 total time=  17.3s\n",
      "[CV 1/3] END classifier__max_depth=800, classifier__min_samples_leaf=4, selection__k=5000;, score=0.386 total time=  16.7s\n",
      "[CV 2/3] END classifier__max_depth=800, classifier__min_samples_leaf=4, selection__k=5000;, score=0.374 total time=  15.0s\n",
      "[CV 3/3] END classifier__max_depth=800, classifier__min_samples_leaf=4, selection__k=5000;, score=0.378 total time=  14.9s\n",
      "[CV 1/3] END classifier__max_depth=800, classifier__min_samples_leaf=4, selection__k=3000;, score=0.389 total time=  12.3s\n",
      "[CV 2/3] END classifier__max_depth=800, classifier__min_samples_leaf=4, selection__k=3000;, score=0.371 total time=  13.8s\n",
      "[CV 3/3] END classifier__max_depth=800, classifier__min_samples_leaf=4, selection__k=3000;, score=0.371 total time=  12.4s\n",
      "[CV 1/3] END classifier__max_depth=800, classifier__min_samples_leaf=4, selection__k=1000;, score=0.363 total time=  10.1s\n",
      "[CV 2/3] END classifier__max_depth=800, classifier__min_samples_leaf=4, selection__k=1000;, score=0.345 total time=  12.3s\n",
      "[CV 3/3] END classifier__max_depth=800, classifier__min_samples_leaf=4, selection__k=1000;, score=0.360 total time=  11.7s\n",
      "[CV 1/3] END classifier__max_depth=800, classifier__min_samples_leaf=8, selection__k=10000;, score=0.376 total time=  11.8s\n",
      "[CV 2/3] END classifier__max_depth=800, classifier__min_samples_leaf=8, selection__k=10000;, score=0.368 total time=  11.6s\n",
      "[CV 3/3] END classifier__max_depth=800, classifier__min_samples_leaf=8, selection__k=10000;, score=0.358 total time=  11.2s\n",
      "[CV 1/3] END classifier__max_depth=800, classifier__min_samples_leaf=8, selection__k=7000;, score=0.380 total time=  10.4s\n",
      "[CV 2/3] END classifier__max_depth=800, classifier__min_samples_leaf=8, selection__k=7000;, score=0.364 total time=  10.3s\n",
      "[CV 3/3] END classifier__max_depth=800, classifier__min_samples_leaf=8, selection__k=7000;, score=0.362 total time=  10.2s\n",
      "[CV 1/3] END classifier__max_depth=800, classifier__min_samples_leaf=8, selection__k=5000;, score=0.370 total time=  10.2s\n",
      "[CV 2/3] END classifier__max_depth=800, classifier__min_samples_leaf=8, selection__k=5000;, score=0.369 total time=   9.1s\n",
      "[CV 3/3] END classifier__max_depth=800, classifier__min_samples_leaf=8, selection__k=5000;, score=0.355 total time=   9.7s\n",
      "[CV 1/3] END classifier__max_depth=800, classifier__min_samples_leaf=8, selection__k=3000;, score=0.375 total time=   8.9s\n",
      "[CV 2/3] END classifier__max_depth=800, classifier__min_samples_leaf=8, selection__k=3000;, score=0.358 total time=   8.9s\n",
      "[CV 3/3] END classifier__max_depth=800, classifier__min_samples_leaf=8, selection__k=3000;, score=0.351 total time=   9.1s\n"
     ]
    },
    {
     "name": "stdout",
     "output_type": "stream",
     "text": [
      "[CV 1/3] END classifier__max_depth=800, classifier__min_samples_leaf=8, selection__k=1000;, score=0.357 total time=   7.3s\n",
      "[CV 2/3] END classifier__max_depth=800, classifier__min_samples_leaf=8, selection__k=1000;, score=0.337 total time=   7.8s\n",
      "[CV 3/3] END classifier__max_depth=800, classifier__min_samples_leaf=8, selection__k=1000;, score=0.345 total time=   7.9s\n",
      "[CV 1/3] END classifier__max_depth=800, classifier__min_samples_leaf=20, selection__k=10000;, score=0.351 total time=   7.0s\n",
      "[CV 2/3] END classifier__max_depth=800, classifier__min_samples_leaf=20, selection__k=10000;, score=0.339 total time=   7.2s\n",
      "[CV 3/3] END classifier__max_depth=800, classifier__min_samples_leaf=20, selection__k=10000;, score=0.338 total time=   7.2s\n",
      "[CV 1/3] END classifier__max_depth=800, classifier__min_samples_leaf=20, selection__k=7000;, score=0.349 total time=   6.6s\n",
      "[CV 2/3] END classifier__max_depth=800, classifier__min_samples_leaf=20, selection__k=7000;, score=0.334 total time=   6.4s\n",
      "[CV 3/3] END classifier__max_depth=800, classifier__min_samples_leaf=20, selection__k=7000;, score=0.331 total time=   6.4s\n",
      "[CV 1/3] END classifier__max_depth=800, classifier__min_samples_leaf=20, selection__k=5000;, score=0.354 total time=   6.1s\n",
      "[CV 2/3] END classifier__max_depth=800, classifier__min_samples_leaf=20, selection__k=5000;, score=0.328 total time=   5.9s\n",
      "[CV 3/3] END classifier__max_depth=800, classifier__min_samples_leaf=20, selection__k=5000;, score=0.342 total time=   6.0s\n",
      "[CV 1/3] END classifier__max_depth=800, classifier__min_samples_leaf=20, selection__k=3000;, score=0.357 total time=   5.9s\n",
      "[CV 2/3] END classifier__max_depth=800, classifier__min_samples_leaf=20, selection__k=3000;, score=0.340 total time=   5.7s\n",
      "[CV 3/3] END classifier__max_depth=800, classifier__min_samples_leaf=20, selection__k=3000;, score=0.335 total time=   6.0s\n",
      "[CV 1/3] END classifier__max_depth=800, classifier__min_samples_leaf=20, selection__k=1000;, score=0.333 total time=   4.7s\n",
      "[CV 2/3] END classifier__max_depth=800, classifier__min_samples_leaf=20, selection__k=1000;, score=0.322 total time=   4.6s\n",
      "[CV 3/3] END classifier__max_depth=800, classifier__min_samples_leaf=20, selection__k=1000;, score=0.331 total time=   5.1s\n",
      "[CV 1/3] END classifier__max_depth=800, classifier__min_samples_leaf=50, selection__k=10000;, score=0.290 total time=   4.9s\n",
      "[CV 2/3] END classifier__max_depth=800, classifier__min_samples_leaf=50, selection__k=10000;, score=0.288 total time=   4.3s\n",
      "[CV 3/3] END classifier__max_depth=800, classifier__min_samples_leaf=50, selection__k=10000;, score=0.270 total time=   4.4s\n",
      "[CV 1/3] END classifier__max_depth=800, classifier__min_samples_leaf=50, selection__k=7000;, score=0.291 total time=   4.5s\n",
      "[CV 2/3] END classifier__max_depth=800, classifier__min_samples_leaf=50, selection__k=7000;, score=0.284 total time=   4.5s\n",
      "[CV 3/3] END classifier__max_depth=800, classifier__min_samples_leaf=50, selection__k=7000;, score=0.281 total time=   4.2s\n",
      "[CV 1/3] END classifier__max_depth=800, classifier__min_samples_leaf=50, selection__k=5000;, score=0.301 total time=   4.4s\n",
      "[CV 2/3] END classifier__max_depth=800, classifier__min_samples_leaf=50, selection__k=5000;, score=0.291 total time=   4.3s\n",
      "[CV 3/3] END classifier__max_depth=800, classifier__min_samples_leaf=50, selection__k=5000;, score=0.292 total time=   4.3s\n",
      "[CV 1/3] END classifier__max_depth=800, classifier__min_samples_leaf=50, selection__k=3000;, score=0.315 total time=   4.0s\n",
      "[CV 2/3] END classifier__max_depth=800, classifier__min_samples_leaf=50, selection__k=3000;, score=0.289 total time=   4.0s\n",
      "[CV 3/3] END classifier__max_depth=800, classifier__min_samples_leaf=50, selection__k=3000;, score=0.301 total time=   4.1s\n",
      "[CV 1/3] END classifier__max_depth=800, classifier__min_samples_leaf=50, selection__k=1000;, score=0.298 total time=   2.7s\n",
      "[CV 2/3] END classifier__max_depth=800, classifier__min_samples_leaf=50, selection__k=1000;, score=0.288 total time=   3.7s\n",
      "[CV 3/3] END classifier__max_depth=800, classifier__min_samples_leaf=50, selection__k=1000;, score=0.305 total time=   3.2s\n"
     ]
    },
    {
     "data": {
      "text/plain": [
       "RandomizedSearchCV(cv=3,\n",
       "                   estimator=Pipeline(steps=[('selection',\n",
       "                                              SelectKBest(score_func=<function chi2 at 0x00000217E9437D30>)),\n",
       "                                             ('classifier',\n",
       "                                              RandomForestClassifier(max_features='sqrt',\n",
       "                                                                     n_estimators=500,\n",
       "                                                                     random_state=42))]),\n",
       "                   n_iter=100,\n",
       "                   param_distributions=[{'classifier__max_depth': [100, 200,\n",
       "                                                                   500, 800],\n",
       "                                         'classifier__min_samples_leaf': [2, 4,\n",
       "                                                                          8, 20,\n",
       "                                                                          50],\n",
       "                                         'selection__k': [10000, 7000, 5000,\n",
       "                                                          3000, 1000]}],\n",
       "                   scoring='f1_micro', verbose=5)"
      ]
     },
     "execution_count": 11,
     "metadata": {},
     "output_type": "execute_result"
    }
   ],
   "source": [
    "pipe_rf_v3 = Pipeline([(\"selection\", SelectKBest(chi2)),\n",
    "                  (\"classifier\", RandomForestClassifier(random_state = 42,max_features= \"sqrt\", n_estimators = 500))\n",
    "                   ])\n",
    "\n",
    "pipe_rf_v3_grid = [{\n",
    "    \"selection__k\": [10000, 7000, 5000, 3000, 1000],\n",
    "    \"classifier__max_depth\": [100, 200, 500, 800],\n",
    "    \"classifier__min_samples_leaf\": [2,4,8,20,50],\n",
    "    \"classifier__min_samples_leaf\": [2,4,8,20,50]\n",
    "    \n",
    "}]\n",
    "\n",
    "grid_rf_v3 = RandomizedSearchCV(pipe_rf_v3, pipe_rf_v3_grid, n_iter = 100, scoring = \"f1_micro\", verbose = 5, cv = 3)\n",
    "grid_rf_v3.fit(X_rf_train, y_train)"
   ]
  },
  {
   "cell_type": "code",
   "execution_count": 16,
   "id": "b19160cd",
   "metadata": {},
   "outputs": [
    {
     "name": "stdout",
     "output_type": "stream",
     "text": [
      "Pipeline(steps=[('selection',\n",
      "                 SelectKBest(k=7000,\n",
      "                             score_func=<function chi2 at 0x00000217E9437D30>)),\n",
      "                ('classifier',\n",
      "                 RandomForestClassifier(max_depth=100, max_features='sqrt',\n",
      "                                        min_samples_leaf=2, n_estimators=500,\n",
      "                                        random_state=42))])\n"
     ]
    }
   ],
   "source": [
    "print(grid_rf_v3.best_estimator_)"
   ]
  },
  {
   "cell_type": "code",
   "execution_count": null,
   "id": "a406f61a",
   "metadata": {},
   "outputs": [],
   "source": [
    "#grid_rf_v3 = Pipeline([(\"selection\", SelectKBest(chi2, k = 7000)),\n",
    "#                  (\"classifier\", RandomForestClassifier(max_depth=100, max_features='sqrt',\n",
    "#                                         min_samples_leaf=2, n_estimators=500,\n",
    "#                                         random_state=42))\n",
    "#                   ])\n",
    "# grid_rf_v3.fit(X_rf_train, y_train)"
   ]
  },
  {
   "cell_type": "code",
   "execution_count": 13,
   "id": "7aa46b55",
   "metadata": {
    "scrolled": true
   },
   "outputs": [
    {
     "name": "stdout",
     "output_type": "stream",
     "text": [
      "Training - Classification Report:\n",
      "\n",
      "              precision    recall  f1-score   support\n",
      "\n",
      "         00s       1.00      0.98      0.99      1544\n",
      "         10s       0.98      0.99      0.99      1514\n",
      "         60s       0.96      0.99      0.97      1024\n",
      "         70s       1.00      0.98      0.99      1137\n",
      "         80s       0.99      0.99      0.99      1255\n",
      "         90s       1.00      0.99      0.99      1526\n",
      "\n",
      "    accuracy                           0.99      8000\n",
      "   macro avg       0.99      0.99      0.99      8000\n",
      "weighted avg       0.99      0.99      0.99      8000\n",
      "\n",
      "F1 micro: 0.98925\n"
     ]
    }
   ],
   "source": [
    "# TRAINING\n",
    "pred_rf_v3_train = grid_rf_v3.predict(X_rf_train)\n",
    "print(\"Training - Classification Report:\")\n",
    "print()\n",
    "print(classification_report(y_train, pred_rf_v3_train))\n",
    "print(\"F1 micro:\", f1_score(y_train, pred_rf_v3_train, average = \"micro\"))"
   ]
  },
  {
   "cell_type": "code",
   "execution_count": 14,
   "id": "a1d64fb0",
   "metadata": {
    "scrolled": true
   },
   "outputs": [
    {
     "name": "stdout",
     "output_type": "stream",
     "text": [
      "Dev - Classification Report:\n",
      "\n",
      "              precision    recall  f1-score   support\n",
      "\n",
      "         00s       0.42      0.45      0.43       222\n",
      "         10s       0.53      0.66      0.59       247\n",
      "         60s       0.48      0.51      0.50       158\n",
      "         70s       0.34      0.34      0.34       163\n",
      "         80s       0.40      0.34      0.37       221\n",
      "         90s       0.41      0.32      0.36       239\n",
      "\n",
      "    accuracy                           0.44      1250\n",
      "   macro avg       0.43      0.44      0.43      1250\n",
      "weighted avg       0.43      0.44      0.43      1250\n",
      "\n",
      "F1 micro: 0.4408\n"
     ]
    }
   ],
   "source": [
    "# DEV\n",
    "pred_rf_v3_dev = grid_rf_v3.predict(X_rf_dev)\n",
    "print(\"Dev - Classification Report:\")\n",
    "print()\n",
    "print(classification_report(y_dev, pred_rf_v3_dev))\n",
    "print(\"F1 micro:\", f1_score(y_dev, pred_rf_v3_dev, average = \"micro\"))"
   ]
  },
  {
   "cell_type": "code",
   "execution_count": 45,
   "id": "bff1c753",
   "metadata": {},
   "outputs": [
    {
     "data": {
      "image/png": "[encoded data removed]",
      "text/plain": [
       "<Figure size 576x432 with 2 Axes>"
      ]
     },
     "metadata": {
      "needs_background": "light"
     },
     "output_type": "display_data"
    }
   ],
   "source": [
    "cm = confusion_matrix(y_dev, pred_rf_v3_dev)\n",
    "\n",
    "plot_confusion_matrix(cm = cm, target_names = [\"00s\", \"10s\", \"60s\", \"70s\", \"80s\", \"90s\"],\n",
    "                          title='Confusion matrix',\n",
    "                          cmap=None,\n",
    "                          normalize=False)"
   ]
  },
  {
   "cell_type": "markdown",
   "id": "08c3540b",
   "metadata": {},
   "source": [
    "## RANDOM FOREST - CONCLUSIONS"
   ]
  },
  {
   "cell_type": "markdown",
   "id": "0fb309f8",
   "metadata": {},
   "source": [
    "This seemed like a good result and it didn't look like further tuning could improve the model even more, so I proceeded to evaluate the test performance of the two obtained models. Best model is reported below."
   ]
  },
  {
   "cell_type": "code",
   "execution_count": 20,
   "id": "d89946ca",
   "metadata": {},
   "outputs": [
    {
     "data": {
      "text/plain": [
       "Pipeline(steps=[('selection',\n",
       "                 SelectKBest(k=7000,\n",
       "                             score_func=<function chi2 at 0x00000274C3B46D30>)),\n",
       "                ('classifier',\n",
       "                 RandomForestClassifier(max_depth=100, max_features='sqrt',\n",
       "                                        min_samples_leaf=2, n_estimators=500,\n",
       "                                        random_state=42))])"
      ]
     },
     "execution_count": 20,
     "metadata": {},
     "output_type": "execute_result"
    }
   ],
   "source": [
    "# grid_rf_v3 = Pipeline([(\"selection\", SelectKBest(chi2, k = 7000)),\n",
    "#                   (\"classifier\", RandomForestClassifier(max_depth=100, max_features='sqrt',\n",
    "#                                          min_samples_leaf=2, n_estimators=500,\n",
    "#                                          random_state=42))\n",
    "#                    ])\n",
    "\n",
    "# grid_rf_v3.fit(X_rf_train, y_train)"
   ]
  },
  {
   "cell_type": "markdown",
   "id": "85307d00",
   "metadata": {},
   "source": [
    "## TEST PERFORMANCE AND SUMMARY <a name=\"test\"></a>"
   ]
  },
  {
   "cell_type": "markdown",
   "id": "cc44af56",
   "metadata": {},
   "source": [
    " We can finally predict the test observations and compare the 2 models with the baselines. Firstly, the testing classification reports will be shown, then bootstrap sampling will be carried out to see significance of results."
   ]
  },
  {
   "cell_type": "markdown",
   "id": "f0e15171",
   "metadata": {},
   "source": [
    "### 1st BASELINE - MOST FREQUENT PREDICTOR"
   ]
  },
  {
   "cell_type": "code",
   "execution_count": 29,
   "id": "b8789978",
   "metadata": {},
   "outputs": [
    {
     "name": "stdout",
     "output_type": "stream",
     "text": [
      "Test - Classification Report\n",
      "              precision    recall  f1-score   support\n",
      "\n",
      "         00s       0.19      1.00      0.32       234\n",
      "         10s       0.00      0.00      0.00       239\n",
      "         60s       0.00      0.00      0.00       133\n",
      "         70s       0.00      0.00      0.00       186\n",
      "         80s       0.00      0.00      0.00       182\n",
      "         90s       0.00      0.00      0.00       235\n",
      "\n",
      "    accuracy                           0.19      1209\n",
      "   macro avg       0.03      0.17      0.05      1209\n",
      "weighted avg       0.04      0.19      0.06      1209\n",
      "\n",
      "F1 micro: 0.1935483870967742\n"
     ]
    }
   ],
   "source": [
    "# TEST\n",
    "dumb_predictions_test = most_frequent.predict(X_base_test)\n",
    "\n",
    "print(\"Test - Classification Report\")\n",
    "print(classification_report(y_test, dumb_predictions_test))\n",
    "print(\"F1 micro:\", f1_score(y_test, dumb_predictions_test, average = \"micro\"))"
   ]
  },
  {
   "cell_type": "code",
   "execution_count": 47,
   "id": "8e087ffb",
   "metadata": {},
   "outputs": [
    {
     "data": {
      "image/png": "[encoded data removed]",
      "text/plain": [
       "<Figure size 576x432 with 2 Axes>"
      ]
     },
     "metadata": {
      "needs_background": "light"
     },
     "output_type": "display_data"
    }
   ],
   "source": [
    "cm = confusion_matrix(y_test, dumb_predictions_test)\n",
    "\n",
    "plot_confusion_matrix(cm = cm, target_names = [\"00s\", \"10s\", \"60s\", \"70s\", \"80s\", \"90s\"],\n",
    "                          title='Confusion matrix',\n",
    "                          cmap=None,\n",
    "                          normalize=False)"
   ]
  },
  {
   "cell_type": "markdown",
   "id": "d2af34f1",
   "metadata": {},
   "source": [
    "### 2nd BASELINE - THE HULK"
   ]
  },
  {
   "cell_type": "code",
   "execution_count": 36,
   "id": "6591bcda",
   "metadata": {},
   "outputs": [
    {
     "name": "stdout",
     "output_type": "stream",
     "text": [
      "Testing - Classification Report:\n",
      "\n",
      "              precision    recall  f1-score   support\n",
      "\n",
      "         00s       0.37      0.39      0.38       234\n",
      "         10s       0.51      0.59      0.54       239\n",
      "         60s       0.43      0.47      0.45       133\n",
      "         70s       0.43      0.34      0.38       186\n",
      "         80s       0.32      0.27      0.29       182\n",
      "         90s       0.39      0.38      0.38       235\n",
      "\n",
      "    accuracy                           0.41      1209\n",
      "   macro avg       0.41      0.41      0.41      1209\n",
      "weighted avg       0.41      0.41      0.41      1209\n",
      "\n",
      "F1 micro: 0.41191066997518605\n"
     ]
    }
   ],
   "source": [
    "# TEST\n",
    "pred_base_test = lr_base.predict(X_base_test)\n",
    "print(\"Testing - Classification Report:\")\n",
    "print()\n",
    "print(classification_report(y_test, pred_base_test))\n",
    "print(\"F1 micro:\", f1_score(y_test, pred_base_test, average = \"micro\"))"
   ]
  },
  {
   "cell_type": "code",
   "execution_count": 48,
   "id": "5a30a005",
   "metadata": {},
   "outputs": [
    {
     "data": {
      "image/png": "[encoded data removed]",
      "text/plain": [
       "<Figure size 576x432 with 2 Axes>"
      ]
     },
     "metadata": {
      "needs_background": "light"
     },
     "output_type": "display_data"
    }
   ],
   "source": [
    "cm = confusion_matrix(y_test, pred_base_test)\n",
    "\n",
    "plot_confusion_matrix(cm = cm, target_names = [\"00s\", \"10s\", \"60s\", \"70s\", \"80s\", \"90s\"],\n",
    "                          title='Confusion matrix',\n",
    "                          cmap=None,\n",
    "                          normalize=False)"
   ]
  },
  {
   "cell_type": "markdown",
   "id": "fd641d79",
   "metadata": {},
   "source": [
    "### CALIBRATED AND REGULARIZED LINEAR SVC"
   ]
  },
  {
   "cell_type": "code",
   "execution_count": 64,
   "id": "00bc4b53",
   "metadata": {},
   "outputs": [
    {
     "name": "stdout",
     "output_type": "stream",
     "text": [
      "Test - Classification Report:\n",
      "\n",
      "              precision    recall  f1-score   support\n",
      "\n",
      "         00s       0.41      0.32      0.36       234\n",
      "         10s       0.50      0.67      0.58       239\n",
      "         60s       0.41      0.52      0.46       133\n",
      "         70s       0.42      0.28      0.34       186\n",
      "         80s       0.32      0.34      0.33       182\n",
      "         90s       0.43      0.41      0.42       235\n",
      "\n",
      "    accuracy                           0.43      1209\n",
      "   macro avg       0.42      0.42      0.41      1209\n",
      "weighted avg       0.42      0.43      0.42      1209\n",
      "\n",
      "F1 micro: 0.4251447477253929\n"
     ]
    }
   ],
   "source": [
    "# TEST\n",
    "pred_calibrated_svc_test = calibrated_svm.predict(X_base_test)\n",
    "print(\"Test - Classification Report:\")\n",
    "print()\n",
    "print(classification_report(y_test, pred_calibrated_svc_test))\n",
    "print(\"F1 micro:\", f1_score(y_test, pred_calibrated_svc_test, average = \"micro\"))"
   ]
  },
  {
   "cell_type": "code",
   "execution_count": 49,
   "id": "c8142379",
   "metadata": {},
   "outputs": [
    {
     "data": {
      "image/png": "[encoded data removed]",
      "text/plain": [
       "<Figure size 576x432 with 2 Axes>"
      ]
     },
     "metadata": {
      "needs_background": "light"
     },
     "output_type": "display_data"
    }
   ],
   "source": [
    "cm = confusion_matrix(y_test, pred_calibrated_svc_test)\n",
    "\n",
    "plot_confusion_matrix(cm = cm, target_names = [\"00s\", \"10s\", \"60s\", \"70s\", \"80s\", \"90s\"],\n",
    "                          title='Confusion matrix',\n",
    "                          cmap=None,\n",
    "                          normalize=False)"
   ]
  },
  {
   "cell_type": "markdown",
   "id": "99a7d25e",
   "metadata": {},
   "source": [
    "The SVC indeed has a F1 score micro higher than both baselines. Through bootstrap sampling we can see the statistical significance of the results, and it turns out the model is outperforming both baselines with a confidence level of 5%. "
   ]
  },
  {
   "cell_type": "code",
   "execution_count": 33,
   "id": "fbf1d32b",
   "metadata": {},
   "outputs": [
    {
     "name": "stdout",
     "output_type": "stream",
     "text": [
      "Base difference: 0.4251447477253929 vs. 0.1935483870967742\n",
      "0.0 True\n"
     ]
    }
   ],
   "source": [
    "# MOST FREQUENT PREDICTOR\n",
    "p_value, deltas = bootstrap_sample(pred_calibrated_svc_test, dumb_predictions_test, y_test, average = \"micro\")\n",
    "print(p_value, p_value < 0.05)"
   ]
  },
  {
   "cell_type": "code",
   "execution_count": 63,
   "id": "4a7212f1",
   "metadata": {},
   "outputs": [
    {
     "name": "stdout",
     "output_type": "stream",
     "text": [
      "Base difference: 0.4251447477253929 vs. 0.41191066997518605\n",
      "0.048 True\n"
     ]
    }
   ],
   "source": [
    "# HULK\n",
    "p_value, deltas = bootstrap_sample(pred_calibrated_svc_test, pred_base_test, y_test, average = \"micro\")\n",
    "print(p_value, p_value < 0.05)"
   ]
  },
  {
   "cell_type": "markdown",
   "id": "9ec3541c",
   "metadata": {},
   "source": [
    "### TUNED RANDOM FOREST"
   ]
  },
  {
   "cell_type": "markdown",
   "id": "7808e009",
   "metadata": {},
   "source": [
    "Surprisingly, the model yielded far worse results on the testing set, implying it was not able to beat the Hulk baseline."
   ]
  },
  {
   "cell_type": "code",
   "execution_count": 22,
   "id": "51d10b40",
   "metadata": {},
   "outputs": [
    {
     "name": "stdout",
     "output_type": "stream",
     "text": [
      "Test - Classification Report:\n",
      "\n",
      "              precision    recall  f1-score   support\n",
      "\n",
      "         00s       0.35      0.38      0.36       234\n",
      "         10s       0.48      0.62      0.54       239\n",
      "         60s       0.36      0.43      0.39       133\n",
      "         70s       0.38      0.29      0.33       186\n",
      "         80s       0.27      0.28      0.28       182\n",
      "         90s       0.44      0.30      0.36       235\n",
      "\n",
      "    accuracy                           0.39      1209\n",
      "   macro avg       0.38      0.38      0.37      1209\n",
      "weighted avg       0.39      0.39      0.38      1209\n",
      "\n",
      "F1 micro: 0.3862696443341604\n"
     ]
    }
   ],
   "source": [
    "# TEST\n",
    "pred_rf_v3_test = grid_rf_v3.predict(X_rf_test)\n",
    "print(\"Test - Classification Report:\")\n",
    "print()\n",
    "print(classification_report(y_test, pred_rf_v3_test))\n",
    "print(\"F1 micro:\", f1_score(y_test, pred_rf_v3_test, average = \"micro\"))"
   ]
  },
  {
   "cell_type": "code",
   "execution_count": 50,
   "id": "71d09775",
   "metadata": {},
   "outputs": [
    {
     "data": {
      "image/png": "[encoded data removed]",
      "text/plain": [
       "<Figure size 576x432 with 2 Axes>"
      ]
     },
     "metadata": {
      "needs_background": "light"
     },
     "output_type": "display_data"
    }
   ],
   "source": [
    "cm = confusion_matrix(y_test, pred_rf_v3_test)\n",
    "\n",
    "plot_confusion_matrix(cm = cm, target_names = [\"00s\", \"10s\", \"60s\", \"70s\", \"80s\", \"90s\"],\n",
    "                          title='Confusion matrix',\n",
    "                          cmap=None,\n",
    "                          normalize=False)"
   ]
  },
  {
   "cell_type": "markdown",
   "id": "1ae97695",
   "metadata": {},
   "source": [
    "On the other hand, the random forest model still outperforms the most frequent predictor baseline."
   ]
  },
  {
   "cell_type": "code",
   "execution_count": 32,
   "id": "1b2efb74",
   "metadata": {},
   "outputs": [
    {
     "name": "stdout",
     "output_type": "stream",
     "text": [
      "Base difference: 0.3862696443341604 vs. 0.1935483870967742\n",
      "0.0 True\n"
     ]
    }
   ],
   "source": [
    "pvalue, delta = bootstrap_sample(pred_rf_v3_test, dumb_predictions_test, y_test)\n",
    "print(pvalue, pvalue < 0.05)"
   ]
  },
  {
   "cell_type": "markdown",
   "id": "73db999e",
   "metadata": {},
   "source": [
    "Interestingly, the 10s label is always the most correctly predicted on the test set, which could indeed mean that songs from that time are the most \"different\" or recognizeable.\n",
    "\n",
    "Finally, below is a summary table of the models."
   ]
  },
  {
   "cell_type": "code",
   "execution_count": 44,
   "id": "a866b9b4",
   "metadata": {},
   "outputs": [
    {
     "data": {
      "text/html": [
       "<div>\n",
       "<style scoped>\n",
       "    .dataframe tbody tr th:only-of-type {\n",
       "        vertical-align: middle;\n",
       "    }\n",
       "\n",
       "    .dataframe tbody tr th {\n",
       "        vertical-align: top;\n",
       "    }\n",
       "\n",
       "    .dataframe thead th {\n",
       "        text-align: right;\n",
       "    }\n",
       "</style>\n",
       "<table border=\"1\" class=\"dataframe\">\n",
       "  <thead>\n",
       "    <tr style=\"text-align: right;\">\n",
       "      <th></th>\n",
       "      <th>Model</th>\n",
       "      <th>F1 Micro DEV</th>\n",
       "      <th>F1 Micro TEST</th>\n",
       "      <th>Baselines Beaten</th>\n",
       "    </tr>\n",
       "  </thead>\n",
       "  <tbody>\n",
       "    <tr>\n",
       "      <th>0</th>\n",
       "      <td>Most Frequent Predictor</td>\n",
       "      <td>0.1776</td>\n",
       "      <td>0.193548</td>\n",
       "      <td></td>\n",
       "    </tr>\n",
       "    <tr>\n",
       "      <th>1</th>\n",
       "      <td>Hulk</td>\n",
       "      <td>0.4272</td>\n",
       "      <td>0.411911</td>\n",
       "      <td></td>\n",
       "    </tr>\n",
       "    <tr>\n",
       "      <th>2</th>\n",
       "      <td>SVC</td>\n",
       "      <td>0.4376</td>\n",
       "      <td>0.425145</td>\n",
       "      <td>Most Frequent Predictor &amp; Hulk</td>\n",
       "    </tr>\n",
       "    <tr>\n",
       "      <th>3</th>\n",
       "      <td>Random Forest</td>\n",
       "      <td>0.4408</td>\n",
       "      <td>0.386270</td>\n",
       "      <td>Most Frequent Predictor</td>\n",
       "    </tr>\n",
       "  </tbody>\n",
       "</table>\n",
       "</div>"
      ],
      "text/plain": [
       "                     Model  F1 Micro DEV  F1 Micro TEST  \\\n",
       "0  Most Frequent Predictor        0.1776       0.193548   \n",
       "1                     Hulk        0.4272       0.411911   \n",
       "2                      SVC        0.4376       0.425145   \n",
       "3            Random Forest        0.4408       0.386270   \n",
       "\n",
       "                 Baselines Beaten  \n",
       "0                                  \n",
       "1                                  \n",
       "2  Most Frequent Predictor & Hulk  \n",
       "3         Most Frequent Predictor  "
      ]
     },
     "execution_count": 44,
     "metadata": {},
     "output_type": "execute_result"
    }
   ],
   "source": [
    "#create data\n",
    "summary_data = [[\"Most Frequent Predictor\",f1_score(y_dev, dumb_predictions_dev, average = \"micro\"),\n",
    "                 f1_score(y_test, dumb_predictions_test, average = \"micro\"),\"\"], \n",
    "        [\"Hulk\", f1_score(y_dev, pred_base_dev, average = \"micro\"),f1_score(y_test, pred_base_test, average = \"micro\"),\n",
    "        \"\"], \n",
    "        [\"SVC\",f1_score(y_dev, pred_calibrated_svc_dev, average = \"micro\"),\n",
    "         f1_score(y_test, pred_calibrated_svc_test, average = \"micro\"), \"Most Frequent Predictor & Hulk\"], \n",
    "        [\"Random Forest\", f1_score(y_dev, pred_rf_v3_dev, average = \"micro\"),\n",
    "         f1_score(y_test, pred_rf_v3_test, average = \"micro\"), \"Most Frequent Predictor\"]]\n",
    "  \n",
    "#define header names\n",
    "summary_col_names = [\"Model\", \"F1 Micro DEV\", \"F1 Micro TEST\",\"Baselines Beaten\"]\n",
    "  \n",
    "#display table\n",
    "pd.DataFrame(summary_data, columns=summary_col_names)"
   ]
  },
  {
   "cell_type": "markdown",
   "id": "36b15941",
   "metadata": {},
   "source": [
    "# GENDER CLASSIFICATION <a name=\"gender\"></a>"
   ]
  },
  {
   "cell_type": "markdown",
   "id": "cf745b5e",
   "metadata": {},
   "source": [
    "As an \"extra\" task in this classification part, I was wondering how different songs can be across male solo artists, female solo artists and groups. As previously anticipated, this information regarding the songs' artists were not available in the original dataset, therefore I personally retrieved it through the MusicBrainz API. Again, I split the data in train, dev and test with a 80%, 10%, 10% ratio. The two baselines were defined exactly as previously shown, but this time I will focus on the accuracy score instead."
   ]
  },
  {
   "cell_type": "code",
   "execution_count": 61,
   "id": "07fcb2b5",
   "metadata": {},
   "outputs": [],
   "source": [
    "data = pd.read_csv(\"data/song_gender\").iloc[:,1:]\n",
    "data = data[(data[\"gender\"] == \"male\") | (data[\"gender\"] == \"female\") | (data[\"gender\"] == \"group\")].sample(frac = 1)\n",
    "\n",
    "train_gender = data.iloc[:13000,:]\n",
    "dev_gender = data.iloc[13000:14800,:]\n",
    "test_gender = data.iloc[14800:,:]\n",
    "\n",
    "# train_gender.to_csv(\"train_gender.csv\", index = False)\n",
    "# dev_gender.to_csv(\"dev_gender.csv\", index = False)\n",
    "# test_gender.to_csv(\"test_gender.csv\", index = False)"
   ]
  },
  {
   "cell_type": "markdown",
   "id": "683959eb",
   "metadata": {},
   "source": [
    "## BASELINES AND DESIGN MATRIX"
   ]
  },
  {
   "cell_type": "code",
   "execution_count": 62,
   "id": "9b9cf5df",
   "metadata": {},
   "outputs": [],
   "source": [
    "train_data = pd.read_csv(\"data/train_gender.csv\")\n",
    "dev_data = pd.read_csv(\"data/dev_gender.csv\")\n",
    "test_data = pd.read_csv(\"data/test_gender.csv\")"
   ]
  },
  {
   "cell_type": "code",
   "execution_count": 63,
   "id": "edb3ebc6",
   "metadata": {},
   "outputs": [],
   "source": [
    "g_y_train = train_data.gender\n",
    "g_y_dev = dev_data.gender\n",
    "g_y_test = test_data.gender\n",
    "\n",
    "g_tokens_train = train_data.lemma\n",
    "g_tokens_dev = dev_data.lemma\n",
    "g_tokens_test = test_data.lemma"
   ]
  },
  {
   "cell_type": "code",
   "execution_count": 64,
   "id": "70be4504",
   "metadata": {},
   "outputs": [],
   "source": [
    "# DEFINING THE DESIGN MATRIX\n",
    "ngram_range = (2,6)\n",
    "min_df = 0.001\n",
    "max_df = 0.75\n",
    "analyzer = \"char\"\n",
    "\n",
    "g_tfidf_vectorizer_base = TfidfVectorizer(analyzer= analyzer,\n",
    "                                   ngram_range= ngram_range, \n",
    "                                   min_df = min_df, \n",
    "                                   max_df = max_df, \n",
    "                                   stop_words= 'english', \n",
    "                                   sublinear_tf=True)\n",
    "\n",
    "g_X_base_train = g_tfidf_vectorizer_base.fit_transform(g_tokens_train)\n",
    "g_X_base_dev = g_tfidf_vectorizer_base.transform(g_tokens_dev)\n",
    "g_X_base_test = g_tfidf_vectorizer_base.transform(g_tokens_test)"
   ]
  },
  {
   "cell_type": "markdown",
   "id": "0443bd70",
   "metadata": {},
   "source": [
    "### 1st BASELINE - MOST FREQUENT PREDICTOR <a name=\"most2\"></a>"
   ]
  },
  {
   "cell_type": "code",
   "execution_count": 68,
   "id": "c7425333",
   "metadata": {
    "scrolled": false
   },
   "outputs": [
    {
     "name": "stdout",
     "output_type": "stream",
     "text": [
      "              precision    recall  f1-score   support\n",
      "\n",
      "      female       0.00      0.00      0.00      1704\n",
      "       group       0.47      1.00      0.64      6072\n",
      "        male       0.00      0.00      0.00      5224\n",
      "\n",
      "    accuracy                           0.47     13000\n",
      "   macro avg       0.16      0.33      0.21     13000\n",
      "weighted avg       0.22      0.47      0.30     13000\n",
      "\n",
      "F1 micro: 0.467076923076923\n"
     ]
    }
   ],
   "source": [
    "g_most_frequent = DummyClassifier(strategy='most_frequent')\n",
    "g_most_frequent.fit(g_X_base_train, g_y_train)\n",
    "\n",
    "# get the performance on the development set\n",
    "g_dumb_predictions_train = g_most_frequent.predict(g_X_base_train)\n",
    "\n",
    "print(classification_report(g_y_train,g_dumb_predictions_train))\n",
    "print(\"F1 micro:\", f1_score(g_y_train, g_dumb_predictions_train, average = \"micro\"))"
   ]
  },
  {
   "cell_type": "code",
   "execution_count": 69,
   "id": "e1957ce2",
   "metadata": {},
   "outputs": [
    {
     "name": "stdout",
     "output_type": "stream",
     "text": [
      "              precision    recall  f1-score   support\n",
      "\n",
      "      female       0.00      0.00      0.00       230\n",
      "       group       0.46      1.00      0.63       828\n",
      "        male       0.00      0.00      0.00       742\n",
      "\n",
      "    accuracy                           0.46      1800\n",
      "   macro avg       0.15      0.33      0.21      1800\n",
      "weighted avg       0.21      0.46      0.29      1800\n",
      "\n",
      "F1 micro: 0.46\n"
     ]
    }
   ],
   "source": [
    "# get the performance on the development set\n",
    "g_dumb_predictions_dev = g_most_frequent.predict(g_X_base_dev)\n",
    "\n",
    "print(classification_report(g_y_dev,g_dumb_predictions_dev))\n",
    "print(\"F1 micro:\", f1_score(g_y_dev, g_dumb_predictions_dev, average = \"micro\"))"
   ]
  },
  {
   "cell_type": "code",
   "execution_count": 79,
   "id": "53fe7c5e",
   "metadata": {},
   "outputs": [
    {
     "data": {
      "image/png": "[encoded data removed]",
      "text/plain": [
       "<Figure size 576x432 with 2 Axes>"
      ]
     },
     "metadata": {
      "needs_background": "light"
     },
     "output_type": "display_data"
    }
   ],
   "source": [
    "cm = confusion_matrix(g_y_dev, g_dumb_predictions_dev)\n",
    "\n",
    "plot_confusion_matrix(cm = cm, target_names = [\"female\",\"group\",\"male\"],\n",
    "                          title='Confusion matrix',\n",
    "                          cmap=None,\n",
    "                          normalize=False)"
   ]
  },
  {
   "cell_type": "code",
   "execution_count": 80,
   "id": "d401fc0b",
   "metadata": {},
   "outputs": [
    {
     "name": "stdout",
     "output_type": "stream",
     "text": [
      "              precision    recall  f1-score   support\n",
      "\n",
      "      female       0.00      0.00      0.00       272\n",
      "       group       0.47      1.00      0.64       855\n",
      "        male       0.00      0.00      0.00       691\n",
      "\n",
      "    accuracy                           0.47      1818\n",
      "   macro avg       0.16      0.33      0.21      1818\n",
      "weighted avg       0.22      0.47      0.30      1818\n",
      "\n",
      "F1 micro: 0.47029702970297027\n"
     ]
    }
   ],
   "source": [
    "# get the performance on the testing set\n",
    "g_dumb_predictions_test = g_most_frequent.predict(g_X_base_test)\n",
    "\n",
    "print(classification_report(g_y_test,g_dumb_predictions_test))\n",
    "print(\"F1 micro:\", f1_score(g_y_test, g_dumb_predictions_test, average = \"micro\"))"
   ]
  },
  {
   "cell_type": "code",
   "execution_count": 81,
   "id": "7bdf8385",
   "metadata": {},
   "outputs": [
    {
     "data": {
      "image/png": "[encoded data removed]",
      "text/plain": [
       "<Figure size 576x432 with 2 Axes>"
      ]
     },
     "metadata": {
      "needs_background": "light"
     },
     "output_type": "display_data"
    }
   ],
   "source": [
    "cm = confusion_matrix(g_y_test, g_dumb_predictions_test)\n",
    "\n",
    "plot_confusion_matrix(cm = cm, target_names = [\"female\",\"group\",\"male\"],\n",
    "                          title='Confusion matrix',\n",
    "                          cmap=None,\n",
    "                          normalize=False)"
   ]
  },
  {
   "cell_type": "markdown",
   "id": "9736233c",
   "metadata": {},
   "source": [
    "### 2nd BASELINE - THE HULK <a name=\"hulk2\"></a>"
   ]
  },
  {
   "cell_type": "code",
   "execution_count": 82,
   "id": "9f63e32e",
   "metadata": {},
   "outputs": [
    {
     "data": {
      "text/plain": [
       "LogisticRegression(max_iter=150, random_state=1, solver='sag')"
      ]
     },
     "execution_count": 82,
     "metadata": {},
     "output_type": "execute_result"
    }
   ],
   "source": [
    "# FIT BASELINE\n",
    "g_lr_base = LogisticRegression(max_iter = 150, solver = \"sag\", random_state = 1)\n",
    "g_lr_base.fit(g_X_base_train, g_y_train)"
   ]
  },
  {
   "cell_type": "code",
   "execution_count": 83,
   "id": "9b5f981d",
   "metadata": {},
   "outputs": [
    {
     "name": "stdout",
     "output_type": "stream",
     "text": [
      "Training - Classification Report:\n",
      "\n",
      "              precision    recall  f1-score   support\n",
      "\n",
      "      female       0.96      0.29      0.44      1704\n",
      "       group       0.77      0.93      0.85      6072\n",
      "        male       0.83      0.83      0.83      5224\n",
      "\n",
      "    accuracy                           0.80     13000\n",
      "   macro avg       0.85      0.68      0.71     13000\n",
      "weighted avg       0.82      0.80      0.79     13000\n",
      "\n",
      "F1 micro: 0.8045384615384615\n"
     ]
    }
   ],
   "source": [
    "# TRAINING\n",
    "g_pred_base_train = g_lr_base.predict(g_X_base_train)\n",
    "print(\"Training - Classification Report:\")\n",
    "print()\n",
    "print(classification_report(g_y_train, g_pred_base_train))\n",
    "print(\"F1 micro:\", f1_score(g_y_train, g_pred_base_train, average = \"micro\"))"
   ]
  },
  {
   "cell_type": "code",
   "execution_count": 84,
   "id": "f108f8b5",
   "metadata": {},
   "outputs": [
    {
     "name": "stdout",
     "output_type": "stream",
     "text": [
      "Dev - Classification Report:\n",
      "\n",
      "              precision    recall  f1-score   support\n",
      "\n",
      "      female       0.41      0.04      0.07       230\n",
      "       group       0.55      0.75      0.64       828\n",
      "        male       0.58      0.51      0.54       742\n",
      "\n",
      "    accuracy                           0.56      1800\n",
      "   macro avg       0.51      0.43      0.42      1800\n",
      "weighted avg       0.54      0.56      0.52      1800\n",
      "\n",
      "F1 micro: 0.5594444444444444\n"
     ]
    }
   ],
   "source": [
    "# DEV\n",
    "g_pred_base_dev = g_lr_base.predict(g_X_base_dev)\n",
    "print(\"Dev - Classification Report:\")\n",
    "print()\n",
    "print(classification_report(g_y_dev, g_pred_base_dev))\n",
    "print(\"F1 micro:\", f1_score(g_y_dev, g_pred_base_dev, average = \"micro\"))"
   ]
  },
  {
   "cell_type": "code",
   "execution_count": 85,
   "id": "52ea4b0d",
   "metadata": {},
   "outputs": [
    {
     "data": {
      "image/png": "[encoded data removed]",
      "text/plain": [
       "<Figure size 576x432 with 2 Axes>"
      ]
     },
     "metadata": {
      "needs_background": "light"
     },
     "output_type": "display_data"
    }
   ],
   "source": [
    "cm = confusion_matrix(g_y_dev, g_pred_base_dev)\n",
    "\n",
    "plot_confusion_matrix(cm = cm, target_names = [\"female\",\"group\",\"male\"],\n",
    "                          title='Confusion matrix',\n",
    "                          cmap=None,\n",
    "                          normalize=False)"
   ]
  },
  {
   "cell_type": "code",
   "execution_count": 87,
   "id": "d9bcd873",
   "metadata": {},
   "outputs": [
    {
     "name": "stdout",
     "output_type": "stream",
     "text": [
      "Testing - Classification Report:\n",
      "\n",
      "              precision    recall  f1-score   support\n",
      "\n",
      "      female       0.45      0.05      0.09       272\n",
      "       group       0.58      0.77      0.66       855\n",
      "        male       0.55      0.53      0.54       691\n",
      "\n",
      "    accuracy                           0.57      1818\n",
      "   macro avg       0.53      0.45      0.43      1818\n",
      "weighted avg       0.55      0.57      0.53      1818\n",
      "\n",
      "F1 micro: 0.5693069306930693\n"
     ]
    }
   ],
   "source": [
    "# TEST\n",
    "g_pred_base_test = g_lr_base.predict(g_X_base_test)\n",
    "print(\"Testing - Classification Report:\")\n",
    "print()\n",
    "print(classification_report(g_y_test, g_pred_base_test))\n",
    "print(\"F1 micro:\", f1_score(g_y_test, g_pred_base_test, average = \"micro\"))"
   ]
  },
  {
   "cell_type": "code",
   "execution_count": 88,
   "id": "c19879b4",
   "metadata": {},
   "outputs": [
    {
     "data": {
      "image/png": "[encoded data removed]",
      "text/plain": [
       "<Figure size 576x432 with 2 Axes>"
      ]
     },
     "metadata": {
      "needs_background": "light"
     },
     "output_type": "display_data"
    }
   ],
   "source": [
    "cm = confusion_matrix(g_y_test, g_pred_base_test)\n",
    "\n",
    "plot_confusion_matrix(cm = cm, target_names = [\"female\",\"group\",\"male\"],\n",
    "                          title='Confusion matrix',\n",
    "                          cmap=None,\n",
    "                          normalize=False)"
   ]
  },
  {
   "cell_type": "markdown",
   "id": "a6e22f37",
   "metadata": {},
   "source": [
    "## CONVOLUTIONAL NEURAL NETWORK <a name=\"cnn\"></a>"
   ]
  },
  {
   "cell_type": "markdown",
   "id": "74f042ff",
   "metadata": {},
   "source": [
    "For this task I decided to experiment with convolutional neural networks, mainly tweaking batch size, number of epochs as well as some other factors like embeddings dimensions, hidden imensions, number of convolutional layers and activation functions. Best results were obtained with 3 epochs, and a batch size of 62.  "
   ]
  },
  {
   "cell_type": "code",
   "execution_count": 1,
   "id": "54f1bcae",
   "metadata": {},
   "outputs": [],
   "source": [
    "import pandas as pd\n",
    "import numpy as np\n",
    "from tensorflow.keras.utils import to_categorical\n",
    "from tensorflow.keras.models import Model\n",
    "from tensorflow.keras.layers import Input\n",
    "from tensorflow.keras.layers import Embedding\n",
    "from keras.layers.convolutional import Conv1D\n",
    "from keras.layers import GlobalMaxPooling1D, Dropout\n",
    "from keras.layers.core import Dense, Activation"
   ]
  },
  {
   "cell_type": "code",
   "execution_count": 2,
   "id": "b3649002",
   "metadata": {},
   "outputs": [],
   "source": [
    "# train_data = pd.read_csv(\"data/train_decade.csv\").iloc[:,1:]\n",
    "# dev_data = pd.read_csv(\"data/dev_decade.csv\").iloc[:,1:]\n",
    "# test_data = pd.read_csv(\"data/test_decade.csv\").iloc[:,1:]\n",
    "\n",
    "# data = pd.concat([train_data,dev_data,test_data])\n",
    "\n",
    "train_data = pd.read_csv(\"data/train_gender.csv\").iloc[:,1:]\n",
    "dev_data = pd.read_csv(\"data/dev_gender.csv\").iloc[:,1:]\n",
    "test_data = pd.read_csv(\"data/test_gender.csv\").iloc[:,1:]\n",
    "\n",
    "data = pd.concat([train_data,dev_data,test_data])"
   ]
  },
  {
   "cell_type": "markdown",
   "id": "f21162d2",
   "metadata": {},
   "source": [
    "When working with a convolutional neural network, after specifying target and input column, we need to map each label and token to an integer, and can do so through the following function."
   ]
  },
  {
   "cell_type": "code",
   "execution_count": 3,
   "id": "7823b584",
   "metadata": {},
   "outputs": [],
   "source": [
    "def convert2ints(instances):\n",
    "    \"\"\"\n",
    "    function to apply the mapping to all words\n",
    "    \"\"\"\n",
    "    result = []\n",
    "    for words in instances:\n",
    "        # replace words with int, 1 for unknown words\n",
    "        word_ints = [word2int.get(word, 1) for word in words] \n",
    "        result.append(word_ints)\n",
    "    return result"
   ]
  },
  {
   "cell_type": "markdown",
   "id": "8572e506",
   "metadata": {},
   "source": [
    "Naturally, we'll need to also store some dictionaries mapping each word to their respective integer and viceversa. There are also 2 special integer for padding and unknown words (0 and 1 respectively)."
   ]
  },
  {
   "cell_type": "code",
   "execution_count": 4,
   "id": "4acec4cf",
   "metadata": {},
   "outputs": [],
   "source": [
    "target = 'gender'\n",
    "input_column = 'lemma'\n",
    "\n",
    "train_instances = train_data[input_column].apply(str).apply(str.split)\n",
    "train_labels = train_data[target]\n",
    "\n",
    "# collect known word tokens and tags\n",
    "wordset, labelset = set(), set()\n",
    "\n",
    "# collect tags from all data, to prevent unseen labels\n",
    "labelset.update(set(data[target]))\n",
    "\n",
    "# get the vocabulary\n",
    "for words in train_instances:\n",
    "    wordset.update(set(words))\n",
    "\n",
    "# map words and tags into ints\n",
    "PAD = '-PAD-'\n",
    "UNK = '-UNK-'\n",
    "word2int = {word: i + 2 for i, word in enumerate(sorted(wordset))}\n",
    "word2int[PAD] = 0  # special token for padding\n",
    "word2int[UNK] = 1  # special token for unknown words\n",
    " \n",
    "label2int = {label: i for i, label in enumerate(sorted(labelset))}\n",
    "# inverted index to translate it back\n",
    "int2label = {i:label for label, i in label2int.items()}\n",
    "                          \n",
    "train_instances_int = convert2ints(train_instances) # list of lists, each inner list is a sequence of integers mapping to a word\n",
    "train_labels_int = [label2int[label] for label in train_labels] # map each training label to an integer\n",
    "\n",
    "# convert test data \n",
    "test_instances = test_data[input_column].apply(str).apply(str.split)\n",
    "test_labels = test_data[target]\n",
    "\n",
    "test_instances_int = convert2ints(test_instances)\n",
    "test_labels_int = [label2int[label] for label in test_labels]\n",
    "\n",
    "# convert dev data\n",
    "dev_instances = dev_data[input_column].apply(str).apply(str.split)\n",
    "dev_labels = dev_data[target]\n",
    "\n",
    "dev_instances_int = convert2ints(dev_instances)\n",
    "dev_labels_int = [label2int[label] for label in dev_labels]"
   ]
  },
  {
   "cell_type": "code",
   "execution_count": 5,
   "id": "098865aa",
   "metadata": {},
   "outputs": [
    {
     "name": "stdout",
     "output_type": "stream",
     "text": [
      "Total number of words in vocabulary: 84657\n"
     ]
    }
   ],
   "source": [
    "print(\"Total number of words in vocabulary:\", len(word2int))"
   ]
  },
  {
   "cell_type": "markdown",
   "id": "a64dc4a4",
   "metadata": {},
   "source": [
    "We then transform each encoded label to a one hot distribution."
   ]
  },
  {
   "cell_type": "code",
   "execution_count": 6,
   "id": "ac723e71",
   "metadata": {},
   "outputs": [],
   "source": [
    "train_labels_1hot = to_categorical(train_labels_int, len(label2int))\n",
    "test_labels_1hot = to_categorical(test_labels_int, len(label2int))\n",
    "dev_labels_1hot = to_categorical(dev_labels_int, len(label2int))"
   ]
  },
  {
   "cell_type": "markdown",
   "id": "458d8af3",
   "metadata": {},
   "source": [
    "To speed up the process and avoid excessive padding of most of the instances due to a few very long songs, we can cap the instances' length at the 95th percentile."
   ]
  },
  {
   "cell_type": "code",
   "execution_count": 7,
   "id": "75da1587",
   "metadata": {},
   "outputs": [
    {
     "name": "stdout",
     "output_type": "stream",
     "text": [
      "882\n",
      "['yo,', \"pi'erre,\", 'yo,', \"pi'erre\", 'how', 'you', 'get', 'so', 'much', 'favor', 'on', 'your', 'side?', 'accept', 'him', 'as', 'your', 'lord', 'and', 'saviour,', 'i', 'replied', 'thou', 'shalt', 'love', 'thy', 'neighbor,', 'not', 'divide', \"i'ma\", 'ride,', \"that's\", 'on', 'god', 'his', 'light', 'shine', 'the', 'brightest', 'in', 'the', 'dark', 'single', 'mothers', 'know', 'they', 'got', 'my', 'heart', 'and', 'all', 'my', 'brothers', 'locked', 'up', 'on', 'the', 'yard', 'you', 'can', 'still', 'be', 'anything', 'you', 'wanna', 'be', 'went', 'from', 'one', 'in', 'four', 'to', 'one', 'in', 'three', 'thirteenth', 'amendment,', 'gotta', 'end', 'it,', \"that's\", 'on', 'me', 'he', 'the', 'new', 'commander', 'and', 'the', 'chief', \"that's\", 'on', 'keef,', \"that's\", 'on', 'god', 'before', 'the', 'ranch,', 'i', 'had', 'horses', 'in', 'the', 'garage', 'when', 'the', 'forbes', 'cover', 'was', 'just', 'a', 'mirage', 'they', 'had', 'me', \"chasin'\", 'statues,', \"that's\", 'on', 'prideoh', 'my', 'god,', 'bust', 'said', \"that's\", 'on', 'tribe', 'when', 'i', 'thought', 'the', 'book', 'of', 'job', 'was', 'a', 'job', 'the', 'devil', 'had', 'my', 'soul,', 'i', \"can't\", 'lie', 'life', \"gon'\", 'have', 'some', 'lows', 'and', 'some', 'highs', 'before', 'the', \"grammy's\", 'ever', 'gave', 'a', 'nod', 'i', 'wore', 'my', 'heart', 'on', 'my', 'sleeve,', 'i', \"couldn't\", 'hide', 'in', \"'03,\", 'they', 'told', 'me', 'not', 'to', 'drive', 'i', 'bleached', 'my', 'hair', 'for', 'every', 'time', 'i', \"could've\", 'died', 'but', 'i', 'survived,', \"that's\", 'on', 'god', \"i've\", 'been', \"tellin'\", \"y'all\", 'since', \"'05\", 'the', 'greatest', 'artist', \"restin'\", 'or', 'alive', \"that's\", 'on', 'l.a.', 'reid,', \"that's\", 'on', 'clive', \"that's\", 'no', 'jive,', \"that's\", 'on', 'god', 'off', 'the', '350s', 'he', 'supplied', 'the', 'irs', 'want', 'they', 'fifty', 'plus', 'our', 'tithe', 'man,', \"that's\", 'over', 'half', 'of', 'the', 'pie', 'i', 'felt', 'dry,', \"that's\", 'on', 'god', \"that's\", 'why', 'i', 'charge', 'the', 'prices', 'that', 'i', 'charge', 'i', \"can't\", 'be', 'out', 'here', \"dancin'\", 'with', 'the', 'stars', 'no,', 'i', 'cannot', 'let', 'my', 'family', 'starve', 'i', 'go', 'hard,', \"that's\", 'on', 'god', 'yo', \"pi'erre,\", 'you', 'wanna', 'come', 'out', 'here?', 'okay,', 'okay,', 'okay,', 'okay'] 288\n",
      "[81415 54414 81415 54413 35377 81499 30126 66548 47783 26365 51202 81703\n",
      " 64874  2693 34295  5496 81703 42981  4493 62180 35915 59489 72414 63884\n",
      " 43149 72750 48932 49943 21435 35940 60151 71914 51202 30822 34409 42068\n",
      " 64242 71981 11080 36599 71981 19058 65184 47557 40290 72139 31189 48180\n",
      " 33422  4493  3940 48180 11283 42711 76265 51202 71981 80920 81499 12631\n",
      " 68619  7728  4888 81499 78028  7728 78716 28855 51249 36599 28391 73208\n",
      " 51249 36599 72483 72285  4298 31220 24291 37783 71914 51202 45149 33243\n",
      " 71981 49117 16008  4493 71981 14298 71914 51202 39583 71914 51202 30822\n",
      "  8083 71981 58035 35915 32386 35229 36599 71981 29687 78946 71981 28087\n",
      " 17355 78180 39257  2173 46459 72139 32386 45149 13982 68356 71914 51202\n",
      " 56337 48180 30830 11961 61728 71914 51202 74280 78946 35915 72430 71981\n",
      " 10172 50665 38795 78180  2173 38795 71981 20458 32386 48180 67085 35915\n",
      " 12634 41951 41982 30982 33166 66799 43361  4493 66799 34232  8083 71981\n",
      " 31362 25060 29828  2173 49706 35915 80262 48180 33422 51202 48180 65881\n",
      " 35915 17227 34124 36599    71 72139 73367 45149 49943 73208 22700 35915\n",
      "  9361 48180 32470 28072 25104 72943 35915 17222 20712 12010 35915 70130\n",
      " 71914 51202 30822 35959  8025 71530 80747 65143    73 71981 31534  5472\n",
      " 59744 51826  3916 71914 51202 40702 59062 71914 51202 15257 71914 49607\n",
      " 38761 71914 51202 30822 50679 71981  1571 33243 69975 71981 37648 78049\n",
      " 72139 26869 55218 52012 73149 44300 71914 52235 32518 50665 71981 54487\n",
      " 35915 26637 22903 71914 51202 30822 71914 79341 35915 13894 71981 56319\n",
      " 71900 35915 13894 35915 12634  7728 52026 33876 18941 79804 71981 68233\n",
      " 49619 35915 12758 41756 48180 26106 68284 35915 30749 32901 71914 51202\n",
      " 30822 81408 54414 81499 78028 15909 52026 33889 51061 51061 51061 51057\n",
      "     0     0     0     0     0     0     0     0     0     0     0     0\n",
      "     0     0     0     0     0     0     0     0     0     0     0     0\n",
      "     0     0     0     0     0     0     0     0     0     0     0     0\n",
      "     0     0     0     0     0     0     0     0     0     0     0     0\n",
      "     0     0     0     0     0     0     0     0     0     0     0     0\n",
      "     0     0     0     0     0     0     0     0     0     0     0     0\n",
      "     0     0     0     0     0     0     0     0     0     0     0     0\n",
      "     0     0     0     0     0     0     0     0     0     0     0     0\n",
      "     0     0     0     0     0     0     0     0     0     0     0     0\n",
      "     0     0     0     0     0     0     0     0     0     0     0     0\n",
      "     0     0     0     0     0     0     0     0     0     0     0     0\n",
      "     0     0     0     0     0     0     0     0     0     0     0     0\n",
      "     0     0     0     0     0     0     0     0     0     0     0     0\n",
      "     0     0     0     0     0     0     0     0     0     0     0     0\n",
      "     0     0     0     0     0     0     0     0     0     0     0     0\n",
      "     0     0     0     0     0     0     0     0     0     0     0     0\n",
      "     0     0     0     0     0     0     0     0     0     0     0     0\n",
      "     0     0     0     0     0     0     0     0     0     0     0     0\n",
      "     0     0     0     0     0     0     0     0     0     0     0     0\n",
      "     0     0     0     0     0     0     0     0     0     0     0     0\n",
      "     0     0     0     0     0     0     0     0     0     0     0     0\n",
      "     0     0     0     0     0     0     0     0     0     0     0     0\n",
      "     0     0     0     0     0     0     0     0     0     0     0     0\n",
      "     0     0     0     0     0     0     0     0     0     0     0     0\n",
      "     0     0     0     0     0     0     0     0     0     0     0     0\n",
      "     0     0     0     0     0     0     0     0     0     0     0     0\n",
      "     0     0     0     0     0     0     0     0     0     0     0     0\n",
      "     0     0     0     0     0     0     0     0     0     0     0     0\n",
      "     0     0     0     0     0     0     0     0     0     0     0     0\n",
      "     0     0     0     0     0     0     0     0     0     0     0     0\n",
      "     0     0     0     0     0     0     0     0     0     0     0     0\n",
      "     0     0     0     0     0     0     0     0     0     0     0     0\n",
      "     0     0     0     0     0     0     0     0     0     0     0     0\n",
      "     0     0     0     0     0     0     0     0     0     0     0     0\n",
      "     0     0     0     0     0     0     0     0     0     0     0     0\n",
      "     0     0     0     0     0     0     0     0     0     0     0     0\n",
      "     0     0     0     0     0     0     0     0     0     0     0     0\n",
      "     0     0     0     0     0     0     0     0     0     0     0     0\n",
      "     0     0     0     0     0     0     0     0     0     0     0     0\n",
      "     0     0     0     0     0     0     0     0     0     0     0     0\n",
      "     0     0     0     0     0     0     0     0     0     0     0     0\n",
      "     0     0     0     0     0     0     0     0     0     0     0     0\n",
      "     0     0     0     0     0     0     0     0     0     0     0     0\n",
      "     0     0     0     0     0     0     0     0     0     0     0     0\n",
      "     0     0     0     0     0     0     0     0     0     0     0     0\n",
      "     0     0     0     0     0     0     0     0     0     0     0     0\n",
      "     0     0     0     0     0     0     0     0     0     0     0     0\n",
      "     0     0     0     0     0     0     0     0     0     0     0     0\n",
      "     0     0     0     0     0     0     0     0     0     0     0     0\n",
      "     0     0     0     0     0     0] 882\n"
     ]
    }
   ],
   "source": [
    "# compute 95th percentile of training sentence lengths\n",
    "# pad automatically adds 0s\n",
    "L = sorted(map(len, train_instances)) # map each training sentence to its length, then sort from shortest to longest\n",
    "MAX_LENGTH = L[int(len(L)*0.95)] # find 95th quantile of sentence length and use that as max length\n",
    "print(MAX_LENGTH)\n",
    "\n",
    "# apply padding, i.e. add a series of 0s to the various instances_int \n",
    "from keras.preprocessing.sequence import pad_sequences\n",
    "train_instances_int = pad_sequences(train_instances_int, padding='post', maxlen=MAX_LENGTH) # telling how much to pad w/ maxlen\n",
    "test_instances_int = pad_sequences(test_instances_int, padding='post', maxlen=MAX_LENGTH)\n",
    "dev_instances_int = pad_sequences(dev_instances_int, padding='post', maxlen=MAX_LENGTH)\n",
    "\n",
    "print(train_instances[0], len(train_instances[0]))\n",
    "print(train_instances_int[0], len(train_instances_int[0]))"
   ]
  },
  {
   "cell_type": "markdown",
   "id": "e3255aa6",
   "metadata": {},
   "source": [
    "Now to the actual model."
   ]
  },
  {
   "cell_type": "code",
   "execution_count": 8,
   "id": "292b5026",
   "metadata": {},
   "outputs": [
    {
     "name": "stdout",
     "output_type": "stream",
     "text": [
      "Model: \"model\"\n",
      "_________________________________________________________________\n",
      " Layer (type)                Output Shape              Param #   \n",
      "=================================================================\n",
      " word_IDs (InputLayer)       [(None, 882)]             0         \n",
      "                                                                 \n",
      " embedding (Embedding)       (None, 882, 50)           4232850   \n",
      "                                                                 \n",
      " conv1d (Conv1D)             (None, 294, 64)           9664      \n",
      "                                                                 \n",
      " activation (Activation)     (None, 294, 64)           0         \n",
      "                                                                 \n",
      " global_max_pooling1d (Globa  (None, 64)               0         \n",
      " lMaxPooling1D)                                                  \n",
      "                                                                 \n",
      " dropout (Dropout)           (None, 64)                0         \n",
      "                                                                 \n",
      " dense (Dense)               (None, 32)                2080      \n",
      "                                                                 \n",
      " dropout_1 (Dropout)         (None, 32)                0         \n",
      "                                                                 \n",
      " dense_1 (Dense)             (None, 3)                 99        \n",
      "                                                                 \n",
      "=================================================================\n",
      "Total params: 4,244,693\n",
      "Trainable params: 4,244,693\n",
      "Non-trainable params: 0\n",
      "_________________________________________________________________\n"
     ]
    }
   ],
   "source": [
    "# make it replicable\n",
    "np.random.seed(42)\n",
    "\n",
    "# set parameters of matrices and convolution\n",
    "embedding_dim = 50\n",
    "nb_filter = 64\n",
    "filter_length = 3\n",
    "hidden_dims = 32\n",
    "stride_length = 3\n",
    "\n",
    "# Functional View\n",
    "\n",
    "# ~ Give info about input\n",
    "inputs = Input((MAX_LENGTH, ), \n",
    "               name='word_IDs')\n",
    "\n",
    "# Turns positive integers (indexes) into dense vectors of fixed size. \n",
    "embeddings = Embedding(len(word2int), # Size of the vocabulary\n",
    "                       embedding_dim, # Desired dimension of the dense embedding.\n",
    "                       input_length = MAX_LENGTH)(inputs) # Length of input sequences, when it is constant. This argument is required if you are going to connect `Flatten` then `Dense` layers upstream (without it, the shape of the dense outputs cannot be computed).\n",
    "\n",
    "\n",
    "# 1D convolution layer (e.g. temporal convolution). This layer creates a convolution kernel that is convolved\n",
    "# with the layer input over a single spatial (or temporal) dimension to produce a tensor of outputs.\n",
    "convolution = Conv1D(filters = nb_filter,  # Number of filters to use\n",
    "                    kernel_size = filter_length, # n-gram range of each filter (~window)\n",
    "                    padding='same',  # valid: don't go off edge; same: use padding before applying filter\n",
    "                    activation='relu', \n",
    "                    strides=stride_length)(embeddings) # specifying the stride length of the convolution (stride = step)\n",
    "\n",
    "# 2nd convolution layer\n",
    "convolution2 = Activation(activation='tanh')(convolution)\n",
    "\n",
    "pooling = GlobalMaxPooling1D()(convolution2)\n",
    "\n",
    "# Reached this point we do a fully connected neural network with some hidden layers, 2 here\n",
    "# The Dropout layer randomly sets input units to 0 with a frequency of `rate` at each step during training time, which helps\n",
    "# PREVENT OVERFITTING. Inputs not set to 0 are scaled up by 1/(1 - rate) such that the sum over all inputs is unchanged.\n",
    "dropout1 = Dropout(0.4)(pooling) # rate = Float between 0 and 1. Fraction of the input units to drop\n",
    "dense = Dense(hidden_dims, activation='relu')(dropout1)\n",
    "dropout2 = Dropout(0.4)(dense)\n",
    "output = Dense(len(label2int), activation='softmax')(dropout2)\n",
    "\n",
    "model = Model(inputs=[inputs], outputs=[output])\n",
    "\n",
    "#this is our final model /architecture we have built\n",
    "model.compile(optimizer='adam',\n",
    "              loss='categorical_crossentropy',\n",
    "              metrics=['accuracy'])\n",
    "\n",
    "# get alist of all the layers and their size\n",
    "model.summary()"
   ]
  },
  {
   "cell_type": "code",
   "execution_count": 11,
   "id": "b840a1d6",
   "metadata": {},
   "outputs": [
    {
     "name": "stdout",
     "output_type": "stream",
     "text": [
      "Epoch 1/3\n",
      "210/210 [==============================] - 18s 85ms/step - loss: 0.1508 - accuracy: 0.9514 - val_loss: 1.6563 - val_accuracy: 0.5228\n",
      "Epoch 2/3\n",
      "210/210 [==============================] - 18s 87ms/step - loss: 0.1196 - accuracy: 0.9636 - val_loss: 1.7610 - val_accuracy: 0.5089\n",
      "Epoch 3/3\n",
      "210/210 [==============================] - 17s 81ms/step - loss: 0.0996 - accuracy: 0.9689 - val_loss: 1.8699 - val_accuracy: 0.5150\n"
     ]
    }
   ],
   "source": [
    "batch_size = 62\n",
    "epochs = 5\n",
    "\n",
    "# The batch size is a number of samples processed before the model is updated, how often it back propagates.\n",
    "# The number of epochs is the number of complete passes through the training dataset.\n",
    "# The size of a batch must be more than or equal to one and less than or equal to the number of samples in the training dataset.\n",
    "\n",
    "history = model.fit(train_instances_int, train_labels_1hot, # X, y\n",
    "                    batch_size=batch_size,\n",
    "                    epochs=epochs,\n",
    "                    verbose=1,\n",
    "                    validation_data=(dev_instances_int, dev_labels_1hot)\n",
    "                   )"
   ]
  },
  {
   "cell_type": "code",
   "execution_count": 10,
   "id": "19f96729",
   "metadata": {},
   "outputs": [
    {
     "data": {
      "image/png": "[encoded data removed]",
      "text/plain": [
       "<Figure size 432x288 with 1 Axes>"
      ]
     },
     "metadata": {
      "needs_background": "light"
     },
     "output_type": "display_data"
    },
    {
     "data": {
      "image/png": "[encoded data removed]",
      "text/plain": [
       "<Figure size 432x288 with 1 Axes>"
      ]
     },
     "metadata": {
      "needs_background": "light"
     },
     "output_type": "display_data"
    }
   ],
   "source": [
    "%matplotlib inline\n",
    "df = pd.DataFrame(history.history)\n",
    "df[['val_accuracy', 'accuracy']].plot.line(); # val = validation / dev\n",
    "df[['val_loss', 'loss']].plot.line();"
   ]
  },
  {
   "cell_type": "markdown",
   "id": "03ffbb83",
   "metadata": {},
   "source": [
    "Finally I evaluated the test accuracy."
   ]
  },
  {
   "cell_type": "code",
   "execution_count": 101,
   "id": "6a5b2eac",
   "metadata": {},
   "outputs": [
    {
     "name": "stdout",
     "output_type": "stream",
     "text": [
      "Testing Accuracy:  0.5583\n"
     ]
    }
   ],
   "source": [
    "loss, accuracy = model.evaluate(test_instances_int, test_labels_1hot,\n",
    "                                batch_size=batch_size,\n",
    "                                verbose=False)\n",
    "\n",
    "print(\"Testing Accuracy:  {:.4f}\".format(accuracy))"
   ]
  },
  {
   "cell_type": "markdown",
   "id": "33a008bd",
   "metadata": {},
   "source": [
    "Unfortunately, playing with the batch size and the other parameters was not enough to reach a result that could beat the baseline on the dev set nor on the test. The main worth mentioning steps I took were:\n",
    "- slightly reducing the embedding dimensions to reduce the overall number of parameters, which could be the main problem associated with the poor performance, given the size of the dataset;\n",
    "- increasing the dropout rate, as the training score in some cases reached very high values, which led me to think there was a overfitting problem;\n",
    "- Very minor reductions to the batch size allowed to increase the dev score by a few percentage points, which could however be just due to chance.\n",
    "- Working with the raw lyrics instead of the lemmas did not negatively affect the performance."
   ]
  }
 ],
 "metadata": {
  "kernelspec": {
   "display_name": "Python 3 (ipykernel)",
   "language": "python",
   "name": "python3"
  },
  "language_info": {
   "codemirror_mode": {
    "name": "ipython",
    "version": 3
   },
   "file_extension": ".py",
   "mimetype": "text/x-python",
   "name": "python",
   "nbconvert_exporter": "python",
   "pygments_lexer": "ipython3",
   "version": "3.8.8"
  }
 },
 "nbformat": 4,
 "nbformat_minor": 5
}
