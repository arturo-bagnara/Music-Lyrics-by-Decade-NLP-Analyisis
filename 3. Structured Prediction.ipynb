{
 "cells": [
  {
   "cell_type": "markdown",
   "id": "da0cdc00",
   "metadata": {
    "id": "da0cdc00"
   },
   "source": [
    "# STRUCTURED PREDICTION"
   ]
  },
  {
   "cell_type": "markdown",
   "id": "39691545",
   "metadata": {},
   "source": [
    "## INDEX"
   ]
  },
  {
   "cell_type": "markdown",
   "id": "2306e372",
   "metadata": {},
   "source": [
    "1. [The Datasets](#datasets) <br>\n",
    "2. [The Structured Perceptron](#sp)<br>\n",
    "   2.1[CrossNER Music](#cr1)<br>\n",
    "   2.2[ConLL 2003](#co1)<br>\n",
    "\n",
    "3. [BI - LSTM](#bilstm)<br>\n",
    "   3.1[ConLL 2003](#co2)<br>\n",
    "   3.2[CrossNER](#cr2)<br>"
   ]
  },
  {
   "cell_type": "markdown",
   "id": "7c56b796",
   "metadata": {},
   "source": [
    "## The Datasets  <a name=\"datasets\"></a>"
   ]
  },
  {
   "cell_type": "markdown",
   "id": "8f259df3",
   "metadata": {
    "id": "8f259df3"
   },
   "source": [
    "For the structured prediction task, I aimed to build a NER tagger for music related sentences, to identify songs, artists, albums etc. For this purpose, I decided to work on the CrossNER dataset, available on [github](https://github.com/zliucr/CrossNER), and which indeed was the only dataset of this kind that can currently be found.\n",
    "\n",
    "As described in the linked page <em>\"CrossNER is a fully-labeled collected of named entity recognition (NER) data spanning over five diverse domains (Politics, Natural Science, Music, Literature, and Artificial Intelligence) with specialized entity categories for different domains\"</em>.\n",
    "Given structured prediction was working fairly well and that the dataset provided a new perspective on the main theme of this project and research, I decided to work with its music domain section.\n",
    "\n",
    "However, due to the limited number of instances, I decided to also download the [CoNLL-2003 Shared Task](https://arxiv.org/pdf/cs/0306050.pdf) dataset, a language-independent named entity recognition dataset with sentences in English and German, which was readily available on the same github page. Although it is a very general dataset not strictly related to the topic of the project, in fact, it could serve as an interesting opportunity to take advantage of the larger volume of instances and therefore more easily experiment with deep learning architectures."
   ]
  },
  {
   "cell_type": "code",
   "execution_count": 1,
   "id": "40a07634",
   "metadata": {
    "id": "40a07634"
   },
   "outputs": [],
   "source": [
    "import pandas as pd\n",
    "from collections import defaultdict, Counter\n",
    "import json\n",
    "import re\n",
    "import numpy as np\n",
    "import sys\n",
    "import pickle\n",
    "import random\n",
    "import matplotlib.pyplot as plt\n",
    "import seaborn as sns\n",
    "from sklearn.metrics import f1_score, accuracy_score\n",
    "\n",
    "np.set_printoptions(precision=2)\n",
    "numbers = re.compile('[0-9]')\n",
    "re_special = re.compile(\"[ö|ü|ä|ß]\")"
   ]
  },
  {
   "cell_type": "code",
   "execution_count": null,
   "id": "b92777e2",
   "metadata": {
    "id": "b92777e2"
   },
   "outputs": [],
   "source": [
    "# CROSSNER MUSIC DATASET\n",
    "train_music = pd.read_csv(\"data/CrossNer_train.txt\", sep = \"\\t\", header = None, names = [\"Word\", \"Tag\"])\n",
    "dev_music = pd.read_csv(\"data/CrossNer_dev.txt\", sep = \"\\t\", header = None, names = [\"Word\", \"Tag\"])\n",
    "test_music = pd.read_csv(\"data/CrossNer_test.txt\", sep = \"\\t\", header = None, names = [\"Word\", \"Tag\"])"
   ]
  },
  {
   "cell_type": "code",
   "execution_count": null,
   "id": "a7ad372e",
   "metadata": {
    "id": "a7ad372e"
   },
   "outputs": [],
   "source": [
    "# CONLL 2003 DATASET\n",
    "train_2003 = pd.read_csv(\"data/conll2003_train.txt\", sep = \"\\t\", header = None, names = [\"Word\", \"Tag\"])\n",
    "dev_2003 = pd.read_csv(\"data/conll2003_dev.txt\", sep = \"\\t\", header = None, names = [\"Word\", \"Tag\"])\n",
    "test_2003 = pd.read_csv(\"data/conll2003_test.txt\", sep = \"\\t\", header = None, names = [\"Word\", \"Tag\"])"
   ]
  },
  {
   "cell_type": "code",
   "execution_count": null,
   "id": "8bcc53be",
   "metadata": {
    "id": "8bcc53be"
   },
   "outputs": [],
   "source": [
    "# CONLL 2003 COUNTS\n",
    "count_train_2003 = train_2003.groupby(by = \"Tag\").count().reset_index().rename(columns = {\"Word\": \"Count\"})\n",
    "count_dev_2003 = dev_2003.groupby(by = \"Tag\").count().reset_index().rename(columns = {\"Word\": \"Count\"})\n",
    "count_train_2003[\"Tag\"] = count_train_2003[\"Tag\"].apply(lambda x: x[2:] if x != \"O\" else x)\n",
    "count_dev_2003[\"Tag\"] = count_dev_2003[\"Tag\"].apply(lambda x: x[2:] if x != \"O\" else x)\n",
    "\n",
    "# CROSSNER COUNTS\n",
    "count_train_music = train_music.groupby(by = \"Tag\").count().reset_index().rename(columns = {\"Word\": \"Count\"})\n",
    "count_dev_music = dev_music.groupby(by = \"Tag\").count().reset_index().rename(columns = {\"Word\": \"Count\"})\n",
    "count_train_music[\"Tag\"] = count_train_music[\"Tag\"].apply(lambda x: x[2:] if x != \"O\" else x)\n",
    "count_dev_music[\"Tag\"] = count_dev_music[\"Tag\"].apply(lambda x: x[2:] if x != \"O\" else x)"
   ]
  },
  {
   "cell_type": "code",
   "execution_count": null,
   "id": "6f95e1fd",
   "metadata": {
    "id": "6f95e1fd",
    "outputId": "caeb27e3-cb58-42df-a035-4ec0a3030e63"
   },
   "outputs": [
    {
     "name": "stdout",
     "output_type": "stream",
     "text": [
      "ConLL 2003 - Available tags:\n"
     ]
    },
    {
     "data": {
      "text/plain": [
       "['B-organisation',\n",
       " 'O',\n",
       " 'B-misc',\n",
       " 'B-person',\n",
       " 'I-person',\n",
       " 'B-location',\n",
       " 'I-organisation',\n",
       " 'I-misc',\n",
       " 'I-location']"
      ]
     },
     "execution_count": 67,
     "metadata": {},
     "output_type": "execute_result"
    }
   ],
   "source": [
    "print(\"ConLL 2003 - Available tags:\")\n",
    "train_2003.Tag.unique().tolist()"
   ]
  },
  {
   "cell_type": "code",
   "execution_count": null,
   "id": "9c45c5c1",
   "metadata": {
    "id": "9c45c5c1",
    "outputId": "6e44ea86-14f9-4369-d7ed-390bd4406627",
    "scrolled": false
   },
   "outputs": [
    {
     "name": "stdout",
     "output_type": "stream",
     "text": [
      "CrossNER Music - Available tags:\n"
     ]
    },
    {
     "data": {
      "text/plain": [
       "['O',\n",
       " 'B-song',\n",
       " 'I-song',\n",
       " 'B-band',\n",
       " 'I-band',\n",
       " 'B-album',\n",
       " 'I-album',\n",
       " 'B-musicgenre',\n",
       " 'B-musicalartist',\n",
       " 'B-organisation',\n",
       " 'I-organisation',\n",
       " 'I-musicgenre',\n",
       " 'B-misc',\n",
       " 'I-misc',\n",
       " 'B-country',\n",
       " 'I-country',\n",
       " 'I-musicalartist',\n",
       " 'B-award',\n",
       " 'I-award',\n",
       " 'B-person',\n",
       " 'I-person',\n",
       " 'B-location',\n",
       " 'I-location',\n",
       " 'B-musicalinstrument',\n",
       " 'B-event',\n",
       " 'I-event',\n",
       " 'I-musicalinstrument']"
      ]
     },
     "execution_count": 68,
     "metadata": {},
     "output_type": "execute_result"
    }
   ],
   "source": [
    "print(\"CrossNER Music - Available tags:\")\n",
    "train_music.Tag.unique().tolist()"
   ]
  },
  {
   "cell_type": "markdown",
   "id": "b5419cf3",
   "metadata": {
    "id": "b5419cf3"
   },
   "source": [
    "To have an idea of how well the algorithm is performing in absolute terms, when looking at the accuracy we should always keep in mind that most of the tokens are tagged \"O\", i.e. \"Other\". Specifically, below are reported the training tags distributions and percentages of times the tag is \"O\", in the training and dev set respectively. "
   ]
  },
  {
   "cell_type": "code",
   "execution_count": null,
   "id": "5ce149a4",
   "metadata": {
    "id": "5ce149a4",
    "outputId": "5f08139b-8bb6-4d34-9c54-0081128f392d"
   },
   "outputs": [
    {
     "data": {
      "image/png": "[encoded data removed]",
      "text/plain": [
       "<Figure size 1080x576 with 1 Axes>"
      ]
     },
     "metadata": {},
     "output_type": "display_data"
    }
   ],
   "source": [
    "# TRAINING TAG DISTRO CONLL 2003\n",
    "sns.set(rc={'figure.figsize':(15,8)})\n",
    "sns.set_theme(style = \"whitegrid\")\n",
    "ax = sns.barplot(x = \"Tag\",y=\"Count\", data = count_train_2003, dodge=False)\n",
    "ax.set_xticklabels(ax.get_xticklabels(), rotation= 30, ha=\"right\")\n",
    "plt.xlabel('Tags', fontsize=16);\n",
    "plt.ylabel(ylabel = \"Count\", fontsize = 15);\n",
    "plt.suptitle(\"ConLL 2003 Training - Tags Frequency\", fontsize=25)\n",
    "plt.show()"
   ]
  },
  {
   "cell_type": "code",
   "execution_count": null,
   "id": "e245e5ea",
   "metadata": {
    "id": "e245e5ea",
    "outputId": "169ede75-2770-4a0e-e0ef-ae94c6f91c8f"
   },
   "outputs": [
    {
     "name": "stdout",
     "output_type": "stream",
     "text": [
      "Fraction of tags == 'O' in training set: 81.69999999999999% \n",
      "\n",
      "Fraction of tags == 'O' in dev set: 83.5% \n"
     ]
    }
   ],
   "source": [
    "print(f\"Fraction of tags == 'O' in training set: {round(count_train_2003.loc[8, 'Count']/len(train_2003),3)*100}% \")\n",
    "print()\n",
    "print(f\"Fraction of tags == 'O' in dev set: {round(count_dev_2003.loc[8, 'Count']/len(dev_2003),3)*100}% \")"
   ]
  },
  {
   "cell_type": "code",
   "execution_count": null,
   "id": "f090e20c",
   "metadata": {
    "id": "f090e20c",
    "outputId": "4289c316-f511-4920-8c47-31e5ffa6b68d"
   },
   "outputs": [
    {
     "data": {
      "image/png": "[encoded data removed]",
      "text/plain": [
       "<Figure size 1080x576 with 1 Axes>"
      ]
     },
     "metadata": {},
     "output_type": "display_data"
    }
   ],
   "source": [
    "# TRAINING TAG DISTRO CROSSNER MUSIC\n",
    "sns.set(rc={'figure.figsize':(15,8)})\n",
    "sns.set_theme(style = \"whitegrid\")\n",
    "ax = sns.barplot(x = \"Tag\",y=\"Count\", data = count_train_music, dodge=False)\n",
    "ax.set_xticklabels(ax.get_xticklabels(), rotation= 30, ha=\"right\")\n",
    "plt.xlabel('Tags', fontsize=16);\n",
    "plt.ylabel(ylabel = \"Count\", fontsize = 15);\n",
    "plt.suptitle(\"CrossNer Music Training - Tags Frequency\", fontsize=25)\n",
    "plt.show()"
   ]
  },
  {
   "cell_type": "code",
   "execution_count": null,
   "id": "57985e4a",
   "metadata": {
    "id": "57985e4a",
    "outputId": "6513a932-16b7-4833-dc6f-c06aa5d533bd"
   },
   "outputs": [
    {
     "name": "stdout",
     "output_type": "stream",
     "text": [
      "Fraction of tags == 'O' in training set: 59.9% \n",
      "\n",
      "Fraction of tags == 'O' in dev set: 61.5% \n"
     ]
    }
   ],
   "source": [
    "print(f\"Fraction of tags == 'O' in training set: {round(count_train_music.loc[26, 'Count']/len(train_music),3)*100}% \")\n",
    "print()\n",
    "print(f\"Fraction of tags == 'O' in dev set: {round(count_dev_music.loc[26, 'Count']/len(dev_music),3)*100}% \")"
   ]
  },
  {
   "cell_type": "markdown",
   "id": "230c7b5e",
   "metadata": {
    "id": "230c7b5e"
   },
   "source": [
    "## THE STRUCTURED PERCEPTRON  <a name=\"sp\"></a>"
   ]
  },
  {
   "cell_type": "markdown",
   "id": "8986857c",
   "metadata": {
    "id": "8986857c"
   },
   "source": [
    "Firstly, I started experimenteing with the structured perceptron. It was already performing very well, reaching the following resuts with the \"greedy\" inference method:\n",
    "- 81% accuracy on the CronnNER Music dev set;\n",
    "- 97% accuracy on the ConLL 2003 dev set.\n",
    "\n",
    "The viterbi method, on the other hand, was considerably slower and far less accurate, therefore I decided to put it aside and try to improve on the greedy.\n",
    "\n",
    "I defined 2 children classes to build upon the structured perceptron seen in class for the POS tagging task. Changes to the parent class strictly regared the get_features function."
   ]
  },
  {
   "cell_type": "code",
   "execution_count": null,
   "id": "0a3724b0",
   "metadata": {
    "id": "0a3724b0"
   },
   "outputs": [],
   "source": [
    "class StructuredPerceptron(object):\n",
    "\n",
    "\n",
    "    def __init__(self):\n",
    "        \"\"\"\n",
    "        initialize model parameters\n",
    "        \"\"\"\n",
    "        self.tags = set()\n",
    "        self.feature_weights = defaultdict(lambda: defaultdict(float)) #feature_name -> tags -> weight\n",
    "        # each feature is mapped to a dictionary telling about the weight for each tag\n",
    "        \n",
    "        self.weight_totals = defaultdict(lambda: defaultdict(float)) #feature_name -> tags -> weight\n",
    "        self.timestamps = defaultdict(lambda: defaultdict(float)) #feature_name -> tags -> weight\n",
    "        \n",
    "\n",
    "        self.tag_dict = defaultdict(set) #word -> {tags}\n",
    "\n",
    "        self.START = \"__START__\"\n",
    "        self.END = \"__END__\"\n",
    "        \n",
    "        \n",
    "    def normalize(self, word):\n",
    "        \"\"\"\n",
    "        Remove numbers and lower word\n",
    "        \"\"\"\n",
    "        return re.sub(numbers, '0', word.strip().lower())\n",
    "\n",
    "    \n",
    "    def evaluate(self, data_instances, method='greedy'):\n",
    "        correct = 0\n",
    "        total = 0\n",
    "        for (words, tags) in data_instances: # for each sentence (which is a vector of tuples)\n",
    "            preds = self.predict(words, method=method)\n",
    "            matches = sum(map(lambda x: int(x[0]==x[1]), zip(preds, tags)))\n",
    "            # this creates a vector of 1 when pred[i] == true[i], then sums them all\n",
    "            correct += matches # at each sentence count and add number of correctly guessed\n",
    "            total += len(tags)\n",
    "        return correct/total # NOTE: here we use accuracy\n",
    "        \n",
    "    \n",
    "    def fit(self, file_name, dev_file=None, iterations=10, learning_rate=0.25, inference='greedy', verbose=False):\n",
    "        \"\"\"\n",
    "        read in a CoNLL-format file, extract features to train weight vector\n",
    "        file with a \"word tag\" couple per line and every end of sentence we have a space\n",
    "        NB: this algo works with any label in the training data, could be POS, NER or anything else!\n",
    "        \"\"\"        \n",
    "        # initialize tag dictionary for each word and get tag set\n",
    "        instances = [(words, tags) for (words, tags) in self.read_conll_file(file_name)]\n",
    "        for (words, tags) in instances:\n",
    "            self.tags.update(set(tags))\n",
    "            # adding to the tags set all various tags encountered in the training corpus (~add for lists)\n",
    "            # NOTE: first tags is self.tags ! attribute of the class, while second is from the for loop\n",
    "\n",
    "            for word, tag in zip(words, tags): # updates the word-tag dictionary (for each word has as values all possible tags) )\n",
    "                self.tag_dict[self.normalize(word)].add(tag)\n",
    "        \n",
    "        if dev_file: # IF I have specified a dev file...\n",
    "            dev_instances = [(words, tags) for (words, tags) in self.read_conll_file(dev_file)]\n",
    "            \n",
    "        # REAL fitting procedure    \n",
    "        # iterate over data\n",
    "        for iteration in range(1, iterations+1):\n",
    "            correct = 0\n",
    "            total = 0\n",
    "            if verbose:\n",
    "                print('Iteration {}'.format(iteration+1), file=sys.stderr, flush=True)\n",
    "                print(\"*\" * 15, file=sys.stderr, flush=True)\n",
    "\n",
    "            random.shuffle(instances) # instances are shuffled (to prevent some feature is particularly present too many times cosnecutevily)\n",
    "            for i, (words, tags) in enumerate(instances):\n",
    "                if i > 0:\n",
    "                    if i%1000==0:\n",
    "                        print('%s'%i, file=sys.stderr, flush=True)\n",
    "                    elif i%20==0:\n",
    "                        print('.', file=sys.stderr, flush=True, end='')\n",
    "\n",
    "                # get prediction\n",
    "                prediction = self.predict(words, method=inference)\n",
    "\n",
    "                # derive global features (gold = correct and predicted features)\n",
    "                global_gold_features, global_prediction_features = self.get_global_features(words, prediction, tags)\n",
    "                                    \n",
    "                # update weight vector:\n",
    "                # 1. move closer to true tag\n",
    "                for tag, fids in global_gold_features.items():\n",
    "                    for fid, count in fids.items():\n",
    "                        nr_iters_at_this_weight = iteration - self.timestamps[fid][tag]\n",
    "                        self.weight_totals[fid][tag] += nr_iters_at_this_weight * self.feature_weights[fid][tag]\n",
    "                        self.timestamps[fid][tag] = iteration\n",
    "                        self.feature_weights[fid][tag] += learning_rate * count\n",
    "\n",
    "                # 2. move further from wrong tag (SAME as ^ but with \" - \" at the end)\n",
    "                for tag, fids in global_prediction_features.items():\n",
    "                    for fid, count in fids.items():\n",
    "                        nr_iters_at_this_weight = iteration - self.timestamps[fid][tag]\n",
    "                        self.weight_totals[fid][tag] += nr_iters_at_this_weight * self.feature_weights[fid][tag]\n",
    "                        self.timestamps[fid][tag] = iteration\n",
    "                        self.feature_weights[fid][tag] -= learning_rate * count\n",
    "                        \n",
    "                # compute training ACCURACY for this iteration\n",
    "                correct += sum([int(predicted_tag == true_tag) for predicted_tag, true_tag in zip(prediction, tags)])\n",
    "                total += len(tags)\n",
    "\n",
    "                # output examples\n",
    "                if verbose and i%1000==0:\n",
    "                    print(\"current word accuracy:{:.2f}\".format(correct/total))\n",
    "                    print(list(zip(words, \n",
    "                                   [self.normalize(word) for word in words], \n",
    "                                   tags, \n",
    "                                   prediction)), file=sys.stderr, flush=True)\n",
    "            \n",
    "            print('\\t{} features'.format(len(self.feature_weights)), file=sys.stderr, flush=True)\n",
    "            print('\\tTraining accuracy: {:.2f}\\n'.format(correct/total), file=sys.stderr, flush=True)\n",
    "            if dev_file:\n",
    "                print('\\tDevelopment accuracy: {:.2f}\\n'.format(self.evaluate(dev_instances, method=inference)), file=sys.stderr, flush=True)\n",
    "         \n",
    "        # average the weights instead of just keeping last one, keeping into account that some features appear often, some don't\n",
    "        for feature, tags in self.feature_weights.items():\n",
    "            for tag in tags:\n",
    "                total = self.weight_totals[feature][tag]\n",
    "                total += (iterations - self.timestamps[feature][tag]) * self.feature_weights[feature][tag]\n",
    "                averaged = round(total / float(iterations), 3)\n",
    "                self.feature_weights[feature][tag] = averaged\n",
    "\n",
    "\n",
    "    def get_features(self, word, previous_tag2, previous_tag, words, i):\n",
    "        \"\"\"\n",
    "        get all features that can be derived from the word and previous tags\n",
    "        \"\"\"\n",
    "        prefix = word[:3]\n",
    "        suffix = word[-3:]\n",
    "        \n",
    "        # a series of STRINGS\n",
    "        features = {\n",
    "                    'PREFIX={}'.format(prefix),\n",
    "                    'SUFFIX={}'.format(suffix),\n",
    "                    'LEN<=3={}'.format(len(word)<=3),\n",
    "                    'FIRST_LETTER={}'.format(word[0]),\n",
    "                    'WORD={}'.format(word),\n",
    "                    'NORM_WORD={}'.format(words[i]),\n",
    "                    'PREV_WORD={}'.format(words[i-1]),\n",
    "                    'PREV_WORD_PREFIX={}'.format(words[i-1][:3]),\n",
    "                    'PREV_WORD_SUFFIX={}'.format(words[i-1][-3:]),\n",
    "                    'PREV_WORD+WORD={}+{}'.format(words[i-1], words[i]),\n",
    "                    'NEXT_WORD={}'.format(words[i+1]),\n",
    "                    'NEXT_WORD_PREFIX={}'.format(words[i+1][:3]),\n",
    "                    'NEXT_WORD_SUFFIX={}'.format(words[i+1][-3:]),\n",
    "                    'WORD+NEXT_WORD={}'.format(word, words[i+1]),\n",
    "                    'NEXT_2WORDS={}+{}'.format(words[i+1], words[i+2]),\n",
    "                    'PREV_TAG={}'.format(previous_tag),                 # previous tag\n",
    "                    'PREV_TAG2={}'.format(previous_tag2),                 # two-previous tag\n",
    "                    'PREV_TAG_BIGRAM={}+{}'.format(previous_tag2, previous_tag),  # tag bigram\n",
    "                    'PREV_TAG+WORD={}+{}'.format(previous_tag, word),            # word-tag combination\n",
    "                    'PREV_TAG+PREFIX={}_{}'.format(previous_tag, prefix),        # prefix and tag\n",
    "                    'PREV_TAG+SUFFIX={}_{}'.format(previous_tag, suffix),        # suffix and tag\n",
    "                    'WORD+TAG_BIGRAM={}+{}+{}'.format(word, previous_tag2, previous_tag),\n",
    "                    'SUFFIX+2TAGS={}+{}+{}'.format(suffix, previous_tag2, previous_tag),\n",
    "                    'PREFIX+2TAGS={}+{}+{}'.format(prefix, previous_tag2, previous_tag),\n",
    "            \n",
    "                     'BIAS'\n",
    "            }\n",
    "        return features\n",
    "    \n",
    "    \n",
    "    def get_global_features(self, words, predicted_tags, true_tags):\n",
    "        '''\n",
    "        sum up local features\n",
    "        \n",
    "        Keep track of global counts?\n",
    "        ex. {specific_value_of_feature:{Noun : 56,\n",
    "                                        Verb : 21,\n",
    "                                        etc...},\n",
    "            some_other_value:{...}\n",
    "            }\n",
    "        '''\n",
    "        context = [self.START] + [self.normalize(word) for word in words] + [self.END, self.END]\n",
    "\n",
    "        global_gold_features = defaultdict(lambda: Counter())\n",
    "        # this is a nested dictionary,with some feature value: {tag: how many times, ...}\n",
    "        \n",
    "        global_prediction_features = defaultdict(lambda: Counter())\n",
    "\n",
    "        prev_predicted_tag = self.START\n",
    "        prev_predicted_tag2 = self.START\n",
    "        \n",
    "        for j, (word, predicted_tag, true_tag) in enumerate(zip(words, predicted_tags, true_tags)):\n",
    "            # get the predicted features. NB: use j+1, since context is longer than words\n",
    "            prediction_features = self.get_features(word, prev_predicted_tag2, prev_predicted_tag, context, j+1)\n",
    "\n",
    "            # update feature correlation with true and predicted tag\n",
    "            global_prediction_features[predicted_tag].update(prediction_features)\n",
    "            global_gold_features[true_tag].update(prediction_features)\n",
    "\n",
    "            prev_predicted_tag2 = prev_predicted_tag\n",
    "            prev_predicted_tag = predicted_tag\n",
    "\n",
    "        return global_gold_features, global_prediction_features\n",
    "            \n",
    "    \n",
    "    def get_scores(self, features):\n",
    "        \"\"\"\n",
    "        Gets a bunch of features and use them to build a distribution over the different tags for each word.\n",
    "        Do this through dictionaries, each index is a tag, value its score, select one with highest score.\n",
    "        Predict scores for each tag given features.\n",
    "        ex. {specific_value_of_feature:{Noun : 0.78,\n",
    "                                        Verb : 0.21,\n",
    "                                        etc...},\n",
    "            some_other_value:{...}\n",
    "            }                             \n",
    "        \"\"\"\n",
    "        scores = defaultdict(float) # each tag will start with prob 0 (score 0)\n",
    "        \n",
    "        # add up the scores for each tag, go over all features\n",
    "        for feature in features:\n",
    "            if feature not in self.feature_weights: \n",
    "                continue # go to next iteration if there is no weight assigned to that tag\n",
    "            weights = self.feature_weights[feature] \n",
    "            for tag, weight in weights.items():\n",
    "                scores[tag] += weight\n",
    "            # go through each value for the features retrieved, and add the associated score stored \n",
    "            \n",
    "\n",
    "        # return tag scores\n",
    "        if not scores:\n",
    "            # if there are no scores (e.g., first iteration),\n",
    "            # simply return the first tag with score 1\n",
    "            scores[list(self.tags)[0]] = 1\n",
    "        \n",
    "        return scores\n",
    "\n",
    "\n",
    "    def predict(self, words, method='greedy'):\n",
    "        '''\n",
    "        predict tags using one of two methods\n",
    "        '''\n",
    "        if method == 'greedy':\n",
    "            return self.predict_greedy(words)\n",
    "        elif method == 'viterbi':\n",
    "            return self.predict_viterbi(words)\n",
    "\n",
    "\n",
    "    def predict_viterbi(self, words):\n",
    "        '''\n",
    "        predict using Viterbi decoding\n",
    "        '''\n",
    "        context = [self.START] + [self.normalize(word) for word in words] + [self.END, self.END]\n",
    "\n",
    "        N = len(words)\n",
    "        M = len(self.tags) #number of tags\n",
    "        tags = sorted(self.tags)\n",
    "\n",
    "        # create trellis of size M (number of tags) x N (sentence length)\n",
    "        Q = np.ones((M, N)) * float('-Inf')\n",
    "        backpointers = np.ones((M, N), dtype=np.int16) * -1 #backpointers\n",
    "\n",
    "        # initialize probs for tags j at position 1 (first word)\n",
    "        features = self.get_features(words[0], self.START, self.START, context, 1)\n",
    "        scores = self.get_scores(features)\n",
    "        allowed_initial_tags = self.tag_dict[context[1]]\n",
    "\n",
    "        for j in range(M):\n",
    "            if not allowed_initial_tags or tags[j] in allowed_initial_tags:\n",
    "                Q[j,0] = scores[tags[j]]\n",
    "\n",
    "        # filling the lattice, for every position and every tag find viterbi score Q\n",
    "        for i in range(1, N):\n",
    "            allowed_tags = self.tag_dict[context[i+1]]\n",
    "\n",
    "            # for every previous tag\n",
    "            for j in range(M):\n",
    "                best_score = 0.0#float('-Inf')\n",
    "                prev_tag = tags[j]\n",
    "\n",
    "                # skip impossible tags\n",
    "                allowed_previous_tags = self.tag_dict[context[i]]\n",
    "                if allowed_previous_tags and prev_tag not in allowed_previous_tags:\n",
    "                    continue\n",
    "\n",
    "                best_before = Q[j,i-1] # score of previous tag\n",
    "\n",
    "                # for every possible pre-previous tag\n",
    "                for k in range(M):\n",
    "                    if i == 1:\n",
    "                        prev2_tag = self.START\n",
    "                    else:\n",
    "                        prev2_tag = tags[k]\n",
    "                        # skip impossible tags\n",
    "                        allowed_previous2_tags = self.tag_dict[context[i-1]]\n",
    "                        if allowed_previous2_tags and prev2_tag not in allowed_previous2_tags:\n",
    "                            continue\n",
    "\n",
    "                    # get features of word i with the two previous tags\n",
    "                    features = self.get_features(words[i], prev2_tag, prev_tag, context, i+1)\n",
    "                    scores = self.get_scores(features)\n",
    "\n",
    "                    # update best score\n",
    "                    for t in range(M):\n",
    "                        tag = tags[t]\n",
    "                        # if word is unknown, use all tags, otherwise allowed ones\n",
    "                        if not allowed_tags or tag in allowed_tags:\n",
    "                            tag_score = best_before + scores[tag]\n",
    "\n",
    "                            if tag_score > best_score:\n",
    "                                Q[t,i] = tag_score\n",
    "                                best_score = tag_score\n",
    "                                backpointers[t,i] = j\n",
    "\n",
    "        # final best\n",
    "        best_id = Q[:,-1].argmax()\n",
    "\n",
    "        # print best tags in reverse order\n",
    "        predtags = [tags[best_id]]\n",
    "\n",
    "        for i in range(N-1,0,-1):\n",
    "            idx = backpointers[best_id, i]\n",
    "            predtags.append(tags[idx])\n",
    "            best_id = idx\n",
    "\n",
    "        #return reversed predtags\n",
    "        return predtags[::-1]         \n",
    "\n",
    "    \n",
    "    def predict_greedy(self, words):\n",
    "        '''\n",
    "        greedy prediction\n",
    "        '''\n",
    "        context = [self.START] + [self.normalize(word) for word in words] + [self.END, self.END]\n",
    "                \n",
    "        prev_predicted_tag = self.START\n",
    "        prev_predicted_tag2 = self.START\n",
    "\n",
    "        out = []\n",
    "\n",
    "        for j, word in enumerate(words):\n",
    "            # check for UNambiguous words [len(tags for that words) == 1 or None], just look up the tag and use that tag\n",
    "            # i.e. if a word ONLY has one tag (=unambiguous) we won't have to predict, will just use that tag\n",
    "            if len(self.tag_dict[context[j+1]]) == 1:\n",
    "                predicted_tag = list(self.tag_dict[context[j+1]])[0]\n",
    "                \n",
    "            else:\n",
    "                predicted_tag = None\n",
    "\n",
    "            if not predicted_tag: # if it is == None, given previous line, no previousy predicted tags\n",
    "                # get the predicted features. NB: use j+1, since context is longer than words\n",
    "                \n",
    "                prediction_features = self.get_features(word, prev_predicted_tag2, prev_predicted_tag, context, j+1)\n",
    "                scores = self.get_scores(prediction_features) # compute a score given those features\n",
    "                \n",
    "                # predict the current tag\n",
    "                predicted_tag = max(scores, key=scores.get) # select tag with highest score ^^\n",
    "\n",
    "            prev_predicted_tag2 = prev_predicted_tag # update the predicted tags and go to following sentence\n",
    "            prev_predicted_tag = predicted_tag \n",
    "\n",
    "            out.append(predicted_tag)\n",
    "\n",
    "        return out\n",
    "    \n",
    "        \n",
    "    def read_conll_file(self, file_name):\n",
    "        \"\"\"\n",
    "        read in a file with CoNLL format:\n",
    "        word1    tag1\n",
    "        word2    tag2\n",
    "        ...      ...\n",
    "        wordN    tagN\n",
    "\n",
    "        Sentences MUST be separated by newlines!\n",
    "        \"\"\"\n",
    "        current_words = []\n",
    "        current_tags = []\n",
    "\n",
    "        with open(file_name, encoding='utf-8') as conll:\n",
    "            for line in conll:\n",
    "                line = line.strip()\n",
    "\n",
    "                if line:\n",
    "                    word, tag = line.split('\\t')\n",
    "                    current_words.append(word)\n",
    "                    current_tags.append(tag)\n",
    "\n",
    "                else:\n",
    "                    yield (current_words, current_tags)\n",
    "                    current_words = []\n",
    "                    current_tags = []\n",
    "\n",
    "        # if file does not end in newline (it should...), check whether there is an instance in the buffer\n",
    "        if current_tags != []:\n",
    "            yield (current_words, current_tags)\n",
    "        \n",
    "\n",
    "    def save(self, file_name):\n",
    "        \"\"\"\n",
    "        save model as pickle file\n",
    "        \"\"\"\n",
    "        print(\"saving model...\", end=' ', file=sys.stderr)\n",
    "        with open(file_name, \"wb\") as model:\n",
    "            # pickle cannot save default_dictionaries\n",
    "            # => make copy and turn into regular dictionaries\n",
    "            save_feature_weights = defaultdict(lambda: defaultdict(float))\n",
    "            save_feature_weights.update(self.feature_weights)\n",
    "            save_tag_dict = defaultdict(set)\n",
    "            save_tag_dict.update(self.tag_dict)\n",
    "\n",
    "            save_feature_weights.default_factory = None\n",
    "            save_tag_dict.default_factory = None\n",
    "            pickle.dump((save_feature_weights, save_tag_dict, self.tags),\n",
    "                     model, -1)\n",
    "        print(\"done\", file=sys.stderr)\n",
    "\n",
    "\n",
    "    def load(self, file_name):\n",
    "        \"\"\"\n",
    "        load model from pickle file\n",
    "        \"\"\"\n",
    "        print(\"loading model...\", end=' ', file=sys.stderr)\n",
    "        with open(file_name, 'rb') as model:\n",
    "            try:\n",
    "                parameters = pickle.load(model)\n",
    "            except IOError:\n",
    "                msg = (\"No such model file.\")\n",
    "                raise MissingCorpusError(msg)\n",
    "\n",
    "            feature_weights, tag_dict, tags = parameters\n",
    "            self.tags = tags\n",
    "\n",
    "            # pickle cannot store defaultdicts, so we need a 2-step process\n",
    "            # 1. initialize\n",
    "            self.feature_weights = defaultdict(lambda: defaultdict(float))\n",
    "            self.tag_dict = defaultdict(set)\n",
    "            \n",
    "            # 2. update\n",
    "            self.feature_weights.update(feature_weights)\n",
    "            self.tag_dict.update(tag_dict)\n",
    "        print(\"done\", file=sys.stderr)\n",
    "        return None"
   ]
  },
  {
   "cell_type": "code",
   "execution_count": null,
   "id": "9ab5a6f6",
   "metadata": {
    "id": "9ab5a6f6"
   },
   "outputs": [],
   "source": [
    "class StructuredPerceptron_CrossNER(StructuredPerceptron):\n",
    "    def __init__(self):\n",
    "        super().__init__()\n",
    "        \n",
    "    def normalize(self, word):\n",
    "        \"\"\"\n",
    "        Remove numbers and lower word\n",
    "        \"\"\"\n",
    "        return re.sub(numbers, '0', word.strip().lower())\n",
    "    \n",
    "    def get_features(self, word, previous_tag2, previous_tag, words, i):\n",
    "        \"\"\"\n",
    "        get all features that can be derived from the word and previous tags\n",
    "        \"\"\"\n",
    "        prefix = word[:3]\n",
    "        suffix = word[-3:]\n",
    "        \n",
    "        # a series of STRINGS\n",
    "        features = {\n",
    "                    'PREFIX={}'.format(prefix),\n",
    "                    'SUFFIX={}'.format(suffix),\n",
    "                    'LEN<=3={}'.format(len(word)<=3),\n",
    "                    'FIRST_LETTER={}'.format(word[0]),\n",
    "                    'WORD={}'.format(word),\n",
    "                    'NORM_WORD={}'.format(words[i]),\n",
    "                    'PREV_WORD={}'.format(words[i-1]),\n",
    "                    'PREV_WORD_PREFIX={}'.format(words[i-1][:3]),\n",
    "                    'PREV_WORD_SUFFIX={}'.format(words[i-1][-3:]),\n",
    "                    'PREV_WORD+WORD={}+{}'.format(words[i-1], words[i]),\n",
    "                    'NEXT_WORD={}'.format(words[i+1]),\n",
    "                    'NEXT_WORD_PREFIX={}'.format(words[i+1][:3]),\n",
    "                    'NEXT_WORD_SUFFIX={}'.format(words[i+1][-3:]),\n",
    "                    'WORD+NEXT_WORD={}'.format(word, words[i+1]),\n",
    "                    'NEXT_2WORDS={}+{}'.format(words[i+1], words[i+2]),\n",
    "                    'PREV_TAG={}'.format(previous_tag),                 # previous tag\n",
    "                    'PREV_TAG2={}'.format(previous_tag2),                 # two-previous tag\n",
    "                    'PREV_TAG_BIGRAM={}+{}'.format(previous_tag2, previous_tag),  # tag bigram\n",
    "                    'PREV_TAG+WORD={}+{}'.format(previous_tag, word),            # word-tag combination\n",
    "                    'PREV_TAG+PREFIX={}_{}'.format(previous_tag, prefix),        # prefix and tag\n",
    "                    'PREV_TAG+SUFFIX={}_{}'.format(previous_tag, suffix),        # suffix and tag\n",
    "                    'WORD+TAG_BIGRAM={}+{}+{}'.format(word, previous_tag2, previous_tag),\n",
    "                    'SUFFIX+2TAGS={}+{}+{}'.format(suffix, previous_tag2, previous_tag),\n",
    "                    'PREFIX+2TAGS={}+{}+{}'.format(prefix, previous_tag2, previous_tag),\n",
    "            \n",
    "                     # ADDED FEATURES\n",
    "                     'PREVIOUS_TAG_IOB={}'.format(previous_tag[0]), # check previous tag's IOB\n",
    "                     'CAP={}'.format(word.isupper()), # check if upper\n",
    "                     'PREV_TAG+CAP={}+{}'.format(previous_tag, word[0].isupper()), # check previous tag + if upper\n",
    "            \n",
    "                     'BIAS'\n",
    "            }\n",
    "        return features"
   ]
  },
  {
   "cell_type": "code",
   "execution_count": null,
   "id": "3761f237",
   "metadata": {
    "id": "3761f237"
   },
   "outputs": [],
   "source": [
    "class StructuredPerceptron_ConLL(StructuredPerceptron):\n",
    "    def __init__(self):\n",
    "        super().__init__()\n",
    "        \n",
    "    def normalize(self, word):\n",
    "        \"\"\"\n",
    "        Remove numbers and lower word\n",
    "        \"\"\"\n",
    "        return re.sub(numbers, '0', word.strip().lower())\n",
    "    \n",
    "    def get_features(self, word, previous_tag2, previous_tag, words, i):\n",
    "        \"\"\"\n",
    "        get all features that can be derived from the word and previous tags\n",
    "        \"\"\"\n",
    "        prefix = word[:3]\n",
    "        suffix = word[-3:]\n",
    "        \n",
    "        # a series of STRINGS\n",
    "        features = {\n",
    "                    'PREFIX={}'.format(prefix),\n",
    "                    'SUFFIX={}'.format(suffix),\n",
    "                    'LEN<=3={}'.format(len(word)<=3),\n",
    "                    'FIRST_LETTER={}'.format(word[0]),\n",
    "                    'WORD={}'.format(word),\n",
    "                    'NORM_WORD={}'.format(words[i]),\n",
    "                    'PREV_WORD={}'.format(words[i-1]),\n",
    "                    'PREV_WORD_PREFIX={}'.format(words[i-1][:3]),\n",
    "                    'PREV_WORD_SUFFIX={}'.format(words[i-1][-3:]),\n",
    "                    'PREV_WORD+WORD={}+{}'.format(words[i-1], words[i]),\n",
    "                    'NEXT_WORD={}'.format(words[i+1]),\n",
    "                    'NEXT_WORD_PREFIX={}'.format(words[i+1][:3]),\n",
    "                    'NEXT_WORD_SUFFIX={}'.format(words[i+1][-3:]),\n",
    "                    'WORD+NEXT_WORD={}'.format(word, words[i+1]),\n",
    "                    'NEXT_2WORDS={}+{}'.format(words[i+1], words[i+2]),\n",
    "                    'PREV_TAG={}'.format(previous_tag),                 # previous tag\n",
    "                    'PREV_TAG2={}'.format(previous_tag2),                 # two-previous tag\n",
    "                    'PREV_TAG_BIGRAM={}+{}'.format(previous_tag2, previous_tag),  # tag bigram\n",
    "                    'PREV_TAG+WORD={}+{}'.format(previous_tag, word),            # word-tag combination\n",
    "                    'PREV_TAG+PREFIX={}_{}'.format(previous_tag, prefix),        # prefix and tag\n",
    "                    'PREV_TAG+SUFFIX={}_{}'.format(previous_tag, suffix),        # suffix and tag\n",
    "                    'WORD+TAG_BIGRAM={}+{}+{}'.format(word, previous_tag2, previous_tag),\n",
    "                    'SUFFIX+2TAGS={}+{}+{}'.format(suffix, previous_tag2, previous_tag),\n",
    "                    'PREFIX+2TAGS={}+{}+{}'.format(prefix, previous_tag2, previous_tag),\n",
    "            \n",
    "                     # ADDED FEATURES\n",
    "                     'PREVIOUS_TAG_IOB={}'.format(previous_tag[0]), # check previous tag's IOB\n",
    "                     'CAP={}'.format(word.isupper()), # check if upper\n",
    "                     'PREV_TAG+CAP={}+{}'.format(previous_tag, word[0].isupper()), # check previous tag + if upper\n",
    "                     'SPECIAL={}'.format(bool(re.search(re_special, word.lower()))), # check if special characters in word\n",
    "                     'LONG={}'.format(len(word)> 10), # check if word length is > 10 characters\n",
    "            \n",
    "                     'BIAS'\n",
    "            }\n",
    "        return features"
   ]
  },
  {
   "cell_type": "markdown",
   "id": "fb7cc053",
   "metadata": {
    "id": "fb7cc053"
   },
   "source": [
    "## CrossNER  <a name=\"cr1\"></a>"
   ]
  },
  {
   "cell_type": "markdown",
   "id": "c1746868",
   "metadata": {
    "id": "c1746868"
   },
   "source": [
    "The structured perceptron with the original set of features on average reaches unstable peaks of 82% accuracy after around 6 iterations. Adding three simple extra features it reaches that same value someway quicker and remains slightly more stable around it for a few iterations. These results suggest that the optimal structured perceptron should make use of such features and run for around 5 iterations.\n",
    "Added features were:\n",
    "   - PREV_TAG_IOB: returning whether the previous tag had a B (beginning), I (inside) or O (other) prefix;\n",
    "   - CAP: returning whether the current word is capitalized;\n",
    "   - PREV_TAG+CAP: returning bigram of previous tag and whther current word is upper."
   ]
  },
  {
   "cell_type": "code",
   "execution_count": null,
   "id": "b49ed36f",
   "metadata": {
    "collapsed": true,
    "id": "b49ed36f",
    "outputId": "8c8a5501-8d90-475a-bee5-ff0232fe84a2"
   },
   "outputs": [
    {
     "name": "stderr",
     "output_type": "stream",
     "text": [
      "...................................\t132092 features\n",
      "\tTraining accuracy: 0.81\n",
      "\n",
      "\tDevelopment accuracy: 0.79\n",
      "\n",
      "...................................\t147093 features\n",
      "\tTraining accuracy: 0.92\n",
      "\n",
      "\tDevelopment accuracy: 0.78\n",
      "\n",
      "...................................\t154326 features\n",
      "\tTraining accuracy: 0.94\n",
      "\n",
      "\tDevelopment accuracy: 0.81\n",
      "\n",
      "...................................\t157884 features\n",
      "\tTraining accuracy: 0.96\n",
      "\n",
      "\tDevelopment accuracy: 0.79\n",
      "\n",
      "...................................\t160035 features\n",
      "\tTraining accuracy: 0.97\n",
      "\n",
      "\tDevelopment accuracy: 0.80\n",
      "\n",
      "...................................\t161546 features\n",
      "\tTraining accuracy: 0.97\n",
      "\n",
      "\tDevelopment accuracy: 0.82\n",
      "\n",
      "...................................\t162548 features\n",
      "\tTraining accuracy: 0.98\n",
      "\n",
      "\tDevelopment accuracy: 0.80\n",
      "\n",
      "...................................\t163306 features\n",
      "\tTraining accuracy: 0.98\n",
      "\n",
      "\tDevelopment accuracy: 0.81\n",
      "\n",
      "...................................\t163936 features\n",
      "\tTraining accuracy: 0.99\n",
      "\n",
      "\tDevelopment accuracy: 0.82\n",
      "\n",
      "...................................\t164403 features\n",
      "\tTraining accuracy: 0.99\n",
      "\n",
      "\tDevelopment accuracy: 0.81\n",
      "\n"
     ]
    },
    {
     "name": "stdout",
     "output_type": "stream",
     "text": [
      "CPU times: total: 2min 13s\n",
      "Wall time: 2min 13s\n"
     ]
    },
    {
     "name": "stderr",
     "output_type": "stream",
     "text": [
      "saving model... done\n"
     ]
    }
   ],
   "source": [
    "# OG - GREEDY CROSSNER MUSIC - ORIGINAL\n",
    "sp_cn_og = StructuredPerceptron()\n",
    "inference_method = 'greedy'\n",
    "%time sp_cn_og.fit('CrossNer_train.txt', dev_file='CrossNer_dev.txt', iterations=10, inference=inference_method)\n",
    "#sp_cn_og.save('model_greedy_music_og.pickle')"
   ]
  },
  {
   "cell_type": "code",
   "execution_count": null,
   "id": "7861cf4b",
   "metadata": {
    "collapsed": true,
    "id": "7861cf4b",
    "outputId": "800be7f6-75e9-42a7-e0e3-3af308e51aaa"
   },
   "outputs": [
    {
     "name": "stderr",
     "output_type": "stream",
     "text": [
      "...................................\t110295 features\n",
      "\tTraining accuracy: 0.58\n",
      "\n",
      "\tDevelopment accuracy: 0.59\n",
      "\n",
      "...................................\t110748 features\n",
      "\tTraining accuracy: 0.58\n",
      "\n",
      "\tDevelopment accuracy: 0.59\n",
      "\n",
      "...................................\t110868 features\n",
      "\tTraining accuracy: 0.58\n",
      "\n",
      "\tDevelopment accuracy: 0.59\n",
      "\n",
      "...................................\t110880 features\n",
      "\tTraining accuracy: 0.58\n",
      "\n",
      "\tDevelopment accuracy: 0.59\n",
      "\n",
      "...................................\t110890 features\n",
      "\tTraining accuracy: 0.58\n",
      "\n",
      "\tDevelopment accuracy: 0.59\n",
      "\n"
     ]
    },
    {
     "name": "stdout",
     "output_type": "stream",
     "text": [
      "CPU times: total: 15min 56s\n",
      "Wall time: 15min 57s\n"
     ]
    },
    {
     "name": "stderr",
     "output_type": "stream",
     "text": [
      "saving model... done\n"
     ]
    }
   ],
   "source": [
    "# OG - VITERBI CROSSNER MUSIC\n",
    "sp_cn_og2 = StructuredPerceptron()\n",
    "inference_method = 'viterbi'\n",
    "%time sp_cn_og2.fit('CrossNer_train.txt', dev_file='CrossNer_dev.txt', iterations=5, inference=inference_method)\n",
    "\n",
    "#sp_cn_og2.save('model_viterbi_music.pickle')"
   ]
  },
  {
   "cell_type": "code",
   "execution_count": null,
   "id": "3888495d",
   "metadata": {
    "collapsed": true,
    "id": "3888495d",
    "outputId": "244d21ff-0372-48ba-bfaf-78a753af3f2d"
   },
   "outputs": [
    {
     "name": "stderr",
     "output_type": "stream",
     "text": [
      "...................................\t132193 features\n",
      "\tTraining accuracy: 0.81\n",
      "\n",
      "\tDevelopment accuracy: 0.77\n",
      "\n",
      "...................................\t148062 features\n",
      "\tTraining accuracy: 0.90\n",
      "\n",
      "\tDevelopment accuracy: 0.80\n",
      "\n",
      "...................................\t156463 features\n",
      "\tTraining accuracy: 0.93\n",
      "\n",
      "\tDevelopment accuracy: 0.82\n",
      "\n",
      "...................................\t161042 features\n",
      "\tTraining accuracy: 0.95\n",
      "\n",
      "\tDevelopment accuracy: 0.82\n",
      "\n",
      "...................................\t163154 features\n",
      "\tTraining accuracy: 0.97\n",
      "\n",
      "\tDevelopment accuracy: 0.82\n",
      "\n",
      "...................................\t164953 features\n",
      "\tTraining accuracy: 0.97\n",
      "\n",
      "\tDevelopment accuracy: 0.81\n",
      "\n",
      "...................................\t166218 features\n",
      "\tTraining accuracy: 0.98\n",
      "\n",
      "\tDevelopment accuracy: 0.82\n",
      "\n",
      "...................................\t166947 features\n",
      "\tTraining accuracy: 0.98\n",
      "\n",
      "\tDevelopment accuracy: 0.80\n",
      "\n",
      "...................................\t167491 features\n",
      "\tTraining accuracy: 0.99\n",
      "\n",
      "\tDevelopment accuracy: 0.81\n",
      "\n",
      "...................................\t168043 features\n",
      "\tTraining accuracy: 0.99\n",
      "\n",
      "\tDevelopment accuracy: 0.80\n",
      "\n"
     ]
    },
    {
     "name": "stdout",
     "output_type": "stream",
     "text": [
      "CPU times: total: 2min 30s\n",
      "Wall time: 2min 32s\n"
     ]
    },
    {
     "name": "stderr",
     "output_type": "stream",
     "text": [
      "saving model... done\n"
     ]
    }
   ],
   "source": [
    "# GREEDY CROSSNER MUSIC - UPDATED\n",
    "sp_cn = StructuredPerceptron_CrossNER()\n",
    "inference_method = 'greedy'\n",
    "%time sp_cn.fit('CrossNer_train.txt', dev_file='CrossNer_dev.txt', iterations=10, inference=inference_method)\n",
    "#sp_cn.save('model_greedy_music.pickle')"
   ]
  },
  {
   "cell_type": "code",
   "execution_count": null,
   "id": "5e11de6e",
   "metadata": {
    "collapsed": true,
    "id": "5e11de6e",
    "outputId": "579ef119-c2d9-4577-bdd1-fd748d47a438"
   },
   "outputs": [
    {
     "name": "stderr",
     "output_type": "stream",
     "text": [
      "...................................\t132225 features\n",
      "\tTraining accuracy: 0.81\n",
      "\n",
      "\tDevelopment accuracy: 0.77\n",
      "\n",
      "...................................\t148270 features\n",
      "\tTraining accuracy: 0.90\n",
      "\n",
      "\tDevelopment accuracy: 0.60\n",
      "\n",
      "...................................\t156270 features\n",
      "\tTraining accuracy: 0.93\n",
      "\n",
      "\tDevelopment accuracy: 0.82\n",
      "\n",
      "...................................\t160429 features\n",
      "\tTraining accuracy: 0.95\n",
      "\n",
      "\tDevelopment accuracy: 0.81\n",
      "\n",
      "...................................\t163103 features\n",
      "\tTraining accuracy: 0.96\n",
      "\n",
      "\tDevelopment accuracy: 0.82\n",
      "\n"
     ]
    },
    {
     "name": "stdout",
     "output_type": "stream",
     "text": [
      "CPU times: total: 22.8 s\n",
      "Wall time: 22.9 s\n"
     ]
    },
    {
     "name": "stderr",
     "output_type": "stream",
     "text": [
      "saving model... done\n"
     ]
    }
   ],
   "source": [
    "# GREEDY CROSSNER MUSIC - UPDATED\n",
    "sp_cn = StructuredPerceptron_CrossNER()\n",
    "inference_method = 'greedy'\n",
    "%time sp_cn.fit('CrossNer_train.txt', dev_file='CrossNer_dev.txt', iterations=5, inference=inference_method)\n",
    "#sp_cn.save('model_greedy_music_update.pickle')"
   ]
  },
  {
   "cell_type": "markdown",
   "id": "52bd2489",
   "metadata": {
    "id": "52bd2489"
   },
   "source": [
    "## ConLL 2003  <a name=\"co1\"></a>"
   ]
  },
  {
   "cell_type": "markdown",
   "id": "8ed91cb2",
   "metadata": {
    "id": "8ed91cb2"
   },
   "source": [
    "The performance of the original structured perceptron was already extremely good, but I tried to add a few simple features to the orinal set, specifically PREV_TAG_IOB, CAP, PREV_TAG+CAP, as in the CrossNER task, plus 2 features specifically to account for the fact that the ConLL dataset also includes German sentences:\n",
    "\n",
    "   - LONG: returning if word length is > 10 characters; in fact, the average English word ranges from 5-9 characters of length, whereas German words are considerably longer, ranging from 6-11 , depending on the source ([1](https://arxiv.org/ftp/arxiv/papers/1207/1207.2334.pdf), [2](http://www.ravi.io/language-word-lengths), [3](http://www.puchu.net/doc/Average_Word_Length));\n",
    "   - SPECIAL: returning whether any special character is present in the current word (i.e. umlauted or eszett).\n",
    "   \n",
    "However, these features, although somewhat rational, didn't really affect the performance, so I preferred to discard them and consider the original model with fewer features as the optimal."
   ]
  },
  {
   "cell_type": "code",
   "execution_count": null,
   "id": "01cde380",
   "metadata": {
    "collapsed": true,
    "id": "01cde380",
    "outputId": "bfa75066-2f70-4de4-9b5e-911d75a3f942"
   },
   "outputs": [
    {
     "name": "stderr",
     "output_type": "stream",
     "text": [
      ".................................................1000\n",
      ".................................................2000\n",
      ".................................................3000\n",
      ".................................................4000\n",
      ".................................................5000\n",
      ".................................................6000\n",
      ".................................................7000\n",
      ".................................................8000\n",
      ".................................................9000\n",
      ".................................................10000\n",
      ".................................................11000\n",
      ".................................................12000\n",
      ".................................................13000\n",
      ".................................................14000\n",
      ".................................................\t448522 features\n",
      "\tTraining accuracy: 0.97\n",
      "\n",
      "\tDevelopment accuracy: 0.96\n",
      "\n",
      ".................................................1000\n",
      ".................................................2000\n",
      ".................................................3000\n",
      ".................................................4000\n",
      ".................................................5000\n",
      ".................................................6000\n",
      ".................................................7000\n",
      ".................................................8000\n",
      ".................................................9000\n",
      ".................................................10000\n",
      ".................................................11000\n",
      ".................................................12000\n",
      ".................................................13000\n",
      ".................................................14000\n",
      ".................................................\t460545 features\n",
      "\tTraining accuracy: 0.99\n",
      "\n",
      "\tDevelopment accuracy: 0.96\n",
      "\n",
      ".................................................1000\n",
      ".................................................2000\n",
      ".................................................3000\n",
      ".................................................4000\n",
      ".................................................5000\n",
      ".................................................6000\n",
      ".................................................7000\n",
      ".................................................8000\n",
      ".................................................9000\n",
      ".................................................10000\n",
      ".................................................11000\n",
      ".................................................12000\n",
      ".................................................13000\n",
      ".................................................14000\n",
      ".................................................\t464879 features\n",
      "\tTraining accuracy: 0.99\n",
      "\n",
      "\tDevelopment accuracy: 0.96\n",
      "\n",
      ".................................................1000\n",
      ".................................................2000\n",
      ".................................................3000\n",
      ".................................................4000\n",
      ".................................................5000\n",
      ".................................................6000\n",
      ".................................................7000\n",
      ".................................................8000\n",
      ".................................................9000\n",
      ".................................................10000\n",
      ".................................................11000\n",
      ".................................................12000\n",
      ".................................................13000\n",
      ".................................................14000\n",
      ".................................................\t466867 features\n",
      "\tTraining accuracy: 0.99\n",
      "\n",
      "\tDevelopment accuracy: 0.97\n",
      "\n",
      ".................................................1000\n",
      ".................................................2000\n",
      ".................................................3000\n",
      ".................................................4000\n",
      ".................................................5000\n",
      ".................................................6000\n",
      ".................................................7000\n",
      ".................................................8000\n",
      ".................................................9000\n",
      ".................................................10000\n",
      ".................................................11000\n",
      ".................................................12000\n",
      ".................................................13000\n",
      ".................................................14000\n",
      ".................................................\t468089 features\n",
      "\tTraining accuracy: 1.00\n",
      "\n",
      "\tDevelopment accuracy: 0.97\n",
      "\n"
     ]
    },
    {
     "name": "stdout",
     "output_type": "stream",
     "text": [
      "CPU times: total: 3min 5s\n",
      "Wall time: 3min 6s\n"
     ]
    },
    {
     "name": "stderr",
     "output_type": "stream",
     "text": [
      "saving model... done\n"
     ]
    }
   ],
   "source": [
    "# GREEDY CONLL 2003 - ORIGINAL FEATURES\n",
    "sp_2003_og = StructuredPerceptron()\n",
    "inference_method = 'greedy'\n",
    "%time sp_2003_og.fit('conll2003_train.txt', dev_file='conll2003_dev.txt', iterations=5, inference=inference_method)\n",
    "#sp_2003_og.save('model_greedy_2003_og.pickle')"
   ]
  },
  {
   "cell_type": "code",
   "execution_count": null,
   "id": "9359701d",
   "metadata": {
    "collapsed": true,
    "id": "9359701d",
    "outputId": "f91500d1-6fd8-4415-dcb7-d3f187f600ff"
   },
   "outputs": [
    {
     "name": "stderr",
     "output_type": "stream",
     "text": [
      ".................................................1000\n",
      ".................................................2000\n",
      ".................................................3000\n",
      ".................................................4000\n",
      ".................................................5000\n",
      ".................................................6000\n",
      ".................................................7000\n",
      ".................................................8000\n",
      ".................................................9000\n",
      ".................................................10000\n",
      ".................................................11000\n",
      ".................................................12000\n",
      ".................................................13000\n",
      ".................................................14000\n",
      ".................................................\t449520 features\n",
      "\tTraining accuracy: 0.97\n",
      "\n",
      "\tDevelopment accuracy: 0.95\n",
      "\n",
      ".................................................1000\n",
      ".................................................2000\n",
      ".................................................3000\n",
      ".................................................4000\n",
      ".................................................5000\n",
      ".................................................6000\n",
      ".................................................7000\n",
      ".................................................8000\n",
      ".................................................9000\n",
      ".................................................10000\n",
      ".................................................11000\n",
      ".................................................12000\n",
      ".................................................13000\n",
      ".................................................14000\n",
      ".................................................\t462460 features\n",
      "\tTraining accuracy: 0.99\n",
      "\n",
      "\tDevelopment accuracy: 0.96\n",
      "\n",
      ".................................................1000\n",
      ".................................................2000\n",
      ".................................................3000\n",
      ".................................................4000\n",
      ".................................................5000\n",
      ".................................................6000\n",
      ".................................................7000\n",
      ".................................................8000\n",
      ".................................................9000\n",
      ".................................................10000\n",
      ".................................................11000\n",
      ".................................................12000\n",
      ".................................................13000\n",
      ".................................................14000\n",
      ".................................................\t467428 features\n",
      "\tTraining accuracy: 0.99\n",
      "\n",
      "\tDevelopment accuracy: 0.97\n",
      "\n",
      ".................................................1000\n",
      ".................................................2000\n",
      ".................................................3000\n",
      ".................................................4000\n",
      ".................................................5000\n",
      ".................................................6000\n",
      ".................................................7000\n",
      ".................................................8000\n",
      ".................................................9000\n",
      ".................................................10000\n",
      ".................................................11000\n",
      ".................................................12000\n",
      ".................................................13000\n",
      ".................................................14000\n",
      ".................................................\t469787 features\n",
      "\tTraining accuracy: 0.99\n",
      "\n",
      "\tDevelopment accuracy: 0.97\n",
      "\n",
      ".................................................1000\n",
      ".................................................2000\n",
      ".................................................3000\n",
      ".................................................4000\n",
      ".................................................5000\n",
      ".................................................6000\n",
      ".................................................7000\n",
      ".................................................8000\n",
      ".................................................9000\n",
      ".................................................10000\n",
      ".................................................11000\n",
      ".................................................12000\n",
      ".................................................13000\n",
      ".................................................14000\n",
      ".................................................\t471298 features\n",
      "\tTraining accuracy: 0.99\n",
      "\n",
      "\tDevelopment accuracy: 0.97\n",
      "\n"
     ]
    },
    {
     "name": "stdout",
     "output_type": "stream",
     "text": [
      "CPU times: total: 2min 43s\n",
      "Wall time: 2min 45s\n"
     ]
    },
    {
     "name": "stderr",
     "output_type": "stream",
     "text": [
      "saving model... done\n"
     ]
    }
   ],
   "source": [
    "# GREEDY CONLL 2003 - UPDATED\n",
    "sp_2003 = StructuredPerceptron_ConLL()\n",
    "inference_method = 'greedy'\n",
    "%time sp_2003.fit('conll2003_train.txt', dev_file='conll2003_dev.txt', iterations=5, inference=inference_method)\n",
    "#sp_2003.save('model_greedy_2003.pickle')"
   ]
  },
  {
   "cell_type": "markdown",
   "id": "2c1180a3",
   "metadata": {
    "id": "2c1180a3"
   },
   "source": [
    "## TESTING AND TEST SET"
   ]
  },
  {
   "cell_type": "code",
   "execution_count": 3,
   "id": "775fa8a0",
   "metadata": {
    "id": "775fa8a0"
   },
   "outputs": [],
   "source": [
    "def evaluate_test(model, test, inference = \"greedy\"):\n",
    "    test_instances = [(words, tags) for (words, tags) in read_conll_file(test)]\n",
    "    accuracy = model.evaluate(test_instances, method = inference)\n",
    "    print(\"Testing accuracy:\", accuracy)\n",
    "    return accuracy\n",
    "\n",
    "def read_conll_file(file_name):\n",
    "\n",
    "    current_words = []\n",
    "    current_tags = []\n",
    "\n",
    "    with open(file_name, encoding='utf-8') as conll:\n",
    "        for line in conll:\n",
    "            line = line.strip()\n",
    "\n",
    "            if line:\n",
    "                word, tag = line.split('\\t')\n",
    "                current_words.append(word)\n",
    "                current_tags.append(tag)\n",
    "\n",
    "            else:\n",
    "                yield (current_words, current_tags)\n",
    "                current_words = []\n",
    "                current_tags = []\n",
    "\n",
    "    if current_tags != []:\n",
    "        yield (current_words, current_tags)\n",
    "        \n",
    "def bootstrap_sample(system1, system2, gold, samples=1000, score=f1_score, average='macro'):\n",
    "\n",
    "    N = len(gold) # number of instances\n",
    "    \n",
    "    # make sure the two systems have the same number of samples\n",
    "    assert len(system1) == N and len(system2) == N, 'samples have different lengths'\n",
    "\n",
    "    # compute performance score on entire sample\n",
    "    if score == accuracy_score:\n",
    "        base_score1 = score(gold, system1)\n",
    "        base_score2 = score(gold, system2)\n",
    "        print(\"Base difference: {} vs. {}\".format(base_score1, base_score2))\n",
    "    else:    \n",
    "        base_score1 = score(gold, system1, average=average)\n",
    "        base_score2 = score(gold, system2, average=average)\n",
    "        print(\"Base difference: {} vs. {}\".format(base_score1, base_score2))\n",
    "\n",
    "    # switch systems if system2 is better\n",
    "    if base_score2 > base_score1:\n",
    "        system1, system2 = system2, system1\n",
    "        base_score1, base_score2 = base_score2, base_score1\n",
    "    \n",
    "    # compute the difference\n",
    "    basedelta = base_score1 - base_score2\n",
    "    assert basedelta > 0, 'Wrong system first, system1 needs to be better!'\n",
    "\n",
    "    system1 = np.array(system1)\n",
    "    system2 = np.array(system2)\n",
    "    gold = np.array(gold)\n",
    "\n",
    "    p = 0\n",
    "    deltas = []\n",
    "    for i in range(samples):\n",
    "        # select a subsample, with replacement\n",
    "        sample = np.random.choice(N, size=N, replace=True)\n",
    "\n",
    "        # collect data corresponding to subsample\n",
    "        sample1 = system1[sample]\n",
    "        sample2 = system2[sample]\n",
    "        gold_sample = gold[sample]\n",
    "\n",
    "        # compute scores on subsample\n",
    "        if score == accuracy_score:\n",
    "            \n",
    "            sample_score1 = score(gold_sample, sample1)\n",
    "            sample_score2 = score(gold_sample, sample2)\n",
    "            sample_delta = sample_score1 - sample_score2\n",
    "        else:\n",
    "            sample_score1 = score(gold_sample, sample1, average=average)\n",
    "            sample_score2 = score(gold_sample, sample2, average=average)\n",
    "            sample_delta = sample_score1 - sample_score2\n",
    "\n",
    "\n",
    "        # check whether the observed sample difference is at least \n",
    "        # twice as large as the base difference\n",
    "        if sample_delta > 2*basedelta:\n",
    "            p += 1\n",
    "        deltas.append(sample_delta)\n",
    "                \n",
    "    return p/samples, deltas\n"
   ]
  },
  {
   "cell_type": "markdown",
   "id": "9c4a8bbb",
   "metadata": {
    "id": "9c4a8bbb"
   },
   "source": [
    "### CrossNER"
   ]
  },
  {
   "cell_type": "markdown",
   "id": "4277a122",
   "metadata": {
    "id": "4277a122"
   },
   "source": [
    "The model is far from perfect, although it can understand when a made up band, prize or album is introduced. There still are some weird guesses."
   ]
  },
  {
   "cell_type": "code",
   "execution_count": null,
   "id": "375e2d89",
   "metadata": {
    "id": "375e2d89",
    "outputId": "8315073f-19a9-4a3d-a4af-da7499c27d56"
   },
   "outputs": [
    {
     "name": "stderr",
     "output_type": "stream",
     "text": [
      "loading model... done\n"
     ]
    }
   ],
   "source": [
    "sp_tests_crossner = StructuredPerceptron_CrossNER()\n",
    "sp_tests_crossner.load(\"model_greedy_music_update.pickle\")"
   ]
  },
  {
   "cell_type": "code",
   "execution_count": null,
   "id": "b5e42a55",
   "metadata": {
    "id": "b5e42a55",
    "outputId": "2d79d6b7-c7ca-4719-9d4d-f3b3b01972ee"
   },
   "outputs": [
    {
     "name": "stdout",
     "output_type": "stream",
     "text": [
      "['O', 'O', 'O', 'B-musicalartist', 'I-band', 'I-band', 'O', 'O', 'O', 'I-song', 'O', 'O', 'B-award']\n"
     ]
    }
   ],
   "source": [
    "print(sp_tests_crossner.predict(\"This track by Ur Favourite Band is awesome, it should win an Ammy\".split(), method='greedy'))"
   ]
  },
  {
   "cell_type": "code",
   "execution_count": null,
   "id": "3fc02da7",
   "metadata": {
    "id": "3fc02da7",
    "outputId": "12c025aa-66ca-4d2f-abf1-6f80124d82c9"
   },
   "outputs": [
    {
     "name": "stdout",
     "output_type": "stream",
     "text": [
      "['B-album', 'O', 'O', 'O', 'O', 'O', 'O', 'B-album', 'I-album']\n"
     ]
    }
   ],
   "source": [
    "print(sp_tests_crossner.predict(\"Check out this tape, it's is called NLP Tune\".split(), method='greedy'))"
   ]
  },
  {
   "cell_type": "code",
   "execution_count": null,
   "id": "5e89e0d7",
   "metadata": {
    "id": "5e89e0d7",
    "outputId": "e4538554-056c-410d-9cdf-4c41726a085e"
   },
   "outputs": [
    {
     "name": "stdout",
     "output_type": "stream",
     "text": [
      "['O', 'O', 'O', 'O', 'B-band', 'I-band', 'O', 'B-band', 'O', 'O', 'O', 'B-location', 'I-location']\n"
     ]
    }
   ],
   "source": [
    "print(sp_tests_crossner.predict(\"Will you come to The Strokes gig? They will play at Magazzini Generali\".split(), method='greedy'))"
   ]
  },
  {
   "cell_type": "markdown",
   "id": "b22aec07",
   "metadata": {
    "id": "b22aec07"
   },
   "source": [
    "Evaluate testing accuracy."
   ]
  },
  {
   "cell_type": "code",
   "execution_count": null,
   "id": "bf8d108c",
   "metadata": {
    "id": "bf8d108c",
    "outputId": "96cf221e-be74-42b5-a051-0c8277b3c322"
   },
   "outputs": [
    {
     "name": "stdout",
     "output_type": "stream",
     "text": [
      "Testing accuracy: 0.8429265796878997\n"
     ]
    },
    {
     "data": {
      "text/plain": [
       "0.8429265796878997"
      ]
     },
     "execution_count": 51,
     "metadata": {},
     "output_type": "execute_result"
    }
   ],
   "source": [
    "evaluate_test(sp_tests_crossner, \"CrossNer_test.txt\")"
   ]
  },
  {
   "cell_type": "markdown",
   "id": "97dda1b3",
   "metadata": {
    "id": "97dda1b3"
   },
   "source": [
    "### ConLL 2003"
   ]
  },
  {
   "cell_type": "markdown",
   "id": "9e4d689a",
   "metadata": {
    "id": "9e4d689a"
   },
   "source": [
    "The model was perfoming very well on the ConLL 2003 dataset, although it seems heavily relying on capital letters, despite the fact I ended up not including the feature in the final model."
   ]
  },
  {
   "cell_type": "code",
   "execution_count": null,
   "id": "6a31bc4e",
   "metadata": {
    "id": "6a31bc4e",
    "outputId": "85fbde70-96f2-4569-f799-3328ca214af4"
   },
   "outputs": [
    {
     "name": "stderr",
     "output_type": "stream",
     "text": [
      "loading model... done\n"
     ]
    }
   ],
   "source": [
    "sp_tests_conll = StructuredPerceptron()\n",
    "sp_tests_conll.load(\"model_greedy_2003_og.pickle\")"
   ]
  },
  {
   "cell_type": "code",
   "execution_count": null,
   "id": "0ae9d2f0",
   "metadata": {
    "id": "0ae9d2f0",
    "outputId": "25d8e9cf-ff20-4622-810f-928d8e79e1bc"
   },
   "outputs": [
    {
     "name": "stdout",
     "output_type": "stream",
     "text": [
      "['O', 'O', 'B-person', 'O', 'O', 'O', 'B-location', 'O']\n"
     ]
    }
   ],
   "source": [
    "print(sp_tests_conll.predict(\"My friend Maria is working at ONU currently\".split(), method='greedy'))"
   ]
  },
  {
   "cell_type": "code",
   "execution_count": null,
   "id": "f3124e8c",
   "metadata": {
    "id": "f3124e8c",
    "outputId": "2a77bc88-917f-435a-8f9b-c81cd2e3c68b"
   },
   "outputs": [
    {
     "name": "stdout",
     "output_type": "stream",
     "text": [
      "['O', 'O', 'O', 'O', 'O', 'O', 'B-location', 'O']\n"
     ]
    }
   ],
   "source": [
    "print(sp_tests_conll.predict(\"My friend maria is working at ONU currently\".split(), method='greedy'))"
   ]
  },
  {
   "cell_type": "code",
   "execution_count": null,
   "id": "44864f0c",
   "metadata": {
    "id": "44864f0c",
    "outputId": "e090efd9-9e52-4231-82d2-b595ebc92ce5"
   },
   "outputs": [
    {
     "name": "stdout",
     "output_type": "stream",
     "text": [
      "['O', 'O', 'O', 'B-person', 'O', 'O', 'O', 'O', 'O', 'B-location', 'I-organisation']\n"
     ]
    }
   ],
   "source": [
    "print(sp_tests_conll.predict(\"When I met Matteo, he was studying DSBA at Bocconi University\".split(), method='greedy'))"
   ]
  },
  {
   "cell_type": "code",
   "execution_count": null,
   "id": "38e47ded",
   "metadata": {
    "id": "38e47ded",
    "outputId": "1eaa45f9-7213-41b1-bdca-f025772c59a0"
   },
   "outputs": [
    {
     "name": "stdout",
     "output_type": "stream",
     "text": [
      "['O', 'O', 'O', 'O', 'O', 'O', 'O', 'B-person', 'O', 'O']\n"
     ]
    }
   ],
   "source": [
    "print(sp_tests_conll.predict(\"Ich habe Google Translate verwendet, um diesen Satz zu schreiben\".split(), method='greedy'))"
   ]
  },
  {
   "cell_type": "markdown",
   "id": "4fca1f18",
   "metadata": {
    "id": "4fca1f18"
   },
   "source": [
    "Evaluate testing accuracy."
   ]
  },
  {
   "cell_type": "code",
   "execution_count": null,
   "id": "5b95d3f4",
   "metadata": {
    "id": "5b95d3f4",
    "outputId": "ecc48b66-ec83-4e50-dab4-767f5d284f1d"
   },
   "outputs": [
    {
     "name": "stdout",
     "output_type": "stream",
     "text": [
      "Testing accuracy: 0.953326434700125\n"
     ]
    },
    {
     "data": {
      "text/plain": [
       "0.953326434700125"
      ]
     },
     "execution_count": 52,
     "metadata": {},
     "output_type": "execute_result"
    }
   ],
   "source": [
    "evaluate_test(sp_tests_conll, \"conll2003_test.txt\")"
   ]
  },
  {
   "cell_type": "markdown",
   "id": "401a1e95",
   "metadata": {
    "id": "401a1e95"
   },
   "source": [
    "# BI-LSTM  <a name=\"bilstm\"></a>"
   ]
  },
  {
   "cell_type": "code",
   "execution_count": 2,
   "id": "b590aafa",
   "metadata": {
    "id": "b590aafa"
   },
   "outputs": [],
   "source": [
    "import numpy as np\n",
    "import pandas as pd\n",
    "from tensorflow.keras.utils import to_categorical\n",
    "from tensorflow.keras.models import Model\n",
    "from tensorflow.keras.layers import Input\n",
    "from tensorflow.keras.layers import Embedding\n",
    "from keras.layers.convolutional import Conv1D\n",
    "from keras.layers import GlobalMaxPooling1D, Dropout\n",
    "from keras.layers.core import Dense, Activation\n",
    "from keras.preprocessing.sequence import pad_sequences\n",
    "from keras.models import Model\n",
    "from keras.layers import Input, Embedding\n",
    "from keras.layers import Bidirectional, LSTM\n",
    "from keras.layers import Dropout, Dense, Activation\n",
    "import numpy as np\n",
    "from keras.layers import Bidirectional"
   ]
  },
  {
   "cell_type": "markdown",
   "id": "f8d39844",
   "metadata": {
    "id": "f8d39844"
   },
   "source": [
    "To beat the structured perceptron baseline, I started experimenting eith the Bidirectional Long Short Term Memory model, given that according to the literature it seemed to be one of the better alternatives to work on the ConLL 2003 dataset, and I wanted to see how it would perform on the CrossNER data as well.\n",
    "\n",
    "First, some preprocessing steps were needed. For simplicity, in the cell below it is possible to specify the dataset of interest, so that one can then run all the preprocessing cells, and finally the 2 models are distinguished."
   ]
  },
  {
   "cell_type": "code",
   "execution_count": 26,
   "id": "5c79ef04",
   "metadata": {
    "id": "5c79ef04"
   },
   "outputs": [],
   "source": [
    "dataset_ = \"crossner\" #alternatively \"crossner\"\n",
    "\n",
    "if dataset_ == \"conll\":\n",
    "    train_BI_LSTM = \"conll2003_train.txt\"\n",
    "    dev_BI_LSTM = \"conll2003_dev.txt\"\n",
    "    test_BI_LSTM = \"conll2003_test.txt\"\n",
    "    \n",
    "elif dataset_ == \"crossner\":\n",
    "    train_BI_LSTM = \"CrossNer_train.txt\"\n",
    "    dev_BI_LSTM = \"CrossNer_dev.txt\"\n",
    "    test_BI_LSTM = \"CrossNer_test.txt\""
   ]
  },
  {
   "cell_type": "markdown",
   "id": "8bd4b577",
   "metadata": {
    "id": "8bd4b577"
   },
   "source": [
    "Firstly we need to generate sets of all words and tags, map each of them to an integer and store the mapping from one to another through dictionaries."
   ]
  },
  {
   "cell_type": "code",
   "execution_count": 27,
   "id": "86a58bb8",
   "metadata": {
    "id": "86a58bb8"
   },
   "outputs": [],
   "source": [
    "def convert2ints(instances):\n",
    "    result = []\n",
    "    for (words, tags) in instances:\n",
    "        # replace words with int, 1 for unknown words\n",
    "        word_ints = [word2int.get(word, 1) for word in words]\n",
    "        # replace tags with int\n",
    "        tag_ints = [tag2int[tag] for tag in tags]\n",
    "        result.append((word_ints, tag_ints))\n",
    "    return result  "
   ]
  },
  {
   "cell_type": "code",
   "execution_count": 28,
   "id": "498b80e0",
   "metadata": {
    "id": "498b80e0"
   },
   "outputs": [],
   "source": [
    "wordset, tagset = set(), set()\n",
    "train_instances = [(words, tags) for (words, tags) in read_conll_file(train_BI_LSTM)]\n",
    "for (words, tags) in train_instances:\n",
    "    tagset.update(set(tags))\n",
    "    wordset.update(set(words))\n",
    "\n",
    "# map words and tags into ints\n",
    "PAD = '-PAD-'\n",
    "UNK = '-UNK-'\n",
    "word2int = {word: i + 2 for i, word in enumerate(sorted(wordset))}\n",
    "word2int[PAD] = 0  # special token for padding\n",
    "word2int[UNK] = 1  # special token for unknown words\n",
    " \n",
    "tag2int = {tag: i + 1 for i, tag in enumerate(sorted(tagset))}\n",
    "tag2int[PAD] = 0\n",
    "# to translate it back\n",
    "int2tag = {i:tag for tag, i in tag2int.items()} "
   ]
  },
  {
   "cell_type": "code",
   "execution_count": 29,
   "id": "ffd59d30",
   "metadata": {
    "colab": {
     "base_uri": "https://localhost:8080/"
    },
    "id": "ffd59d30",
    "outputId": "7fd8ef66-8505-4540-dd7f-a703847ca17a"
   },
   "outputs": [
    {
     "name": "stdout",
     "output_type": "stream",
     "text": [
      "['It', 'is', 'based', 'on', 'the', 'classic', 'song', 'The', 'Guns', 'of', 'Brixton', 'on', 'The', 'Clash', \"'\", 's', 'London', 'Calling', 'and', 'has', 'proven', 'to', 'be', 'a', 'success', 'on', 'the', 'modern', 'rock', 'charts', '.']\n",
      "[2031, 5233, 4385, 5488, 6057, 4535, 5935, 3790, 1753, 5477, 703, 5488, 3790, 936, 6, 5812, 2331, 777, 4305, 5093, 5656, 6081, 4395, 4223, 6001, 5488, 6057, 5393, 5797, 4517, 32]\n",
      "['O', 'O', 'O', 'O', 'O', 'O', 'O', 'B-song', 'I-song', 'I-song', 'I-song', 'O', 'B-band', 'I-band', 'O', 'O', 'B-album', 'I-album', 'O', 'O', 'O', 'O', 'O', 'O', 'O', 'O', 'O', 'O', 'B-musicgenre', 'O', 'O']\n",
      "[27, 27, 27, 27, 27, 27, 27, 13, 26, 26, 26, 27, 3, 16, 27, 27, 1, 14, 27, 27, 27, 27, 27, 27, 27, 27, 27, 27, 10, 27, 27]\n"
     ]
    }
   ],
   "source": [
    "# get some dev and test data\n",
    "dev_instances = [(words, tags) for (words, tags) in read_conll_file(dev_BI_LSTM)]\n",
    "test_instances = [(words, tags) for (words, tags) in read_conll_file(test_BI_LSTM)]\n",
    "\n",
    "# apply integer mapping\n",
    "train_instances_int = convert2ints(train_instances)\n",
    "dev_instances_int = convert2ints(dev_instances)\n",
    "test_instances_int = convert2ints(test_instances)\n",
    "\n",
    "# separate the words from the tags\n",
    "train_sentences, train_tags = zip(*train_instances_int) \n",
    "dev_sentences, dev_tags = zip(*dev_instances_int) \n",
    "test_sentences, test_tags = zip(*test_instances_int) \n",
    "\n",
    "print(train_instances[0][0])\n",
    "print(train_sentences[0])\n",
    "print(train_instances[0][1])\n",
    "print(train_tags[0])"
   ]
  },
  {
   "cell_type": "markdown",
   "id": "f078f009",
   "metadata": {
    "id": "f078f009"
   },
   "source": [
    "To bring every sentence to the same length we find the maximum length over the training data, add 5 and pad up to the found maximum length."
   ]
  },
  {
   "cell_type": "code",
   "execution_count": 30,
   "id": "90f3d0de",
   "metadata": {
    "colab": {
     "base_uri": "https://localhost:8080/"
    },
    "id": "90f3d0de",
    "outputId": "8ab8ded9-c0de-42f7-caf3-010f6a8efdc4"
   },
   "outputs": [
    {
     "name": "stdout",
     "output_type": "stream",
     "text": [
      "87\n"
     ]
    }
   ],
   "source": [
    "# get longest training sentence and add 5\n",
    "MAX_LENGTH = len(max(train_sentences, key=len)) + 5\n",
    "print(MAX_LENGTH)"
   ]
  },
  {
   "cell_type": "code",
   "execution_count": 31,
   "id": "72cb0d0d",
   "metadata": {
    "colab": {
     "base_uri": "https://localhost:8080/"
    },
    "id": "72cb0d0d",
    "outputId": "f78d3321-8862-46d5-c99f-21221dfe2a21"
   },
   "outputs": [
    {
     "name": "stdout",
     "output_type": "stream",
     "text": [
      "[2031 5233 4385 5488 6057 4535 5935 3790 1753 5477  703 5488 3790  936\n",
      "    6 5812 2331  777 4305 5093 5656 6081 4395 4223 6001 5488 6057 5393\n",
      " 5797 4517   32    0    0    0    0    0    0    0    0    0    0    0\n",
      "    0    0    0    0    0    0    0    0    0    0    0    0    0    0\n",
      "    0    0    0    0    0    0    0    0    0    0    0    0    0    0\n",
      "    0    0    0    0    0    0    0    0    0    0    0    0    0    0\n",
      "    0    0    0]\n",
      "[27 27 27 27 27 27 27 13 26 26 26 27  3 16 27 27  1 14 27 27 27 27 27 27\n",
      " 27 27 27 27 10 27 27  0  0  0  0  0  0  0  0  0  0  0  0  0  0  0  0  0\n",
      "  0  0  0  0  0  0  0  0  0  0  0  0  0  0  0  0  0  0  0  0  0  0  0  0\n",
      "  0  0  0  0  0  0  0  0  0  0  0  0  0  0  0]\n"
     ]
    }
   ],
   "source": [
    "# add special padding at the end of every instance, up to MAX_LENGTH\n",
    "train_sentences = pad_sequences(train_sentences, maxlen=MAX_LENGTH, padding='post')\n",
    "dev_sentences = pad_sequences(dev_sentences, maxlen=MAX_LENGTH, padding='post')\n",
    "test_sentences = pad_sequences(test_sentences, maxlen=MAX_LENGTH, padding='post')\n",
    "\n",
    "train_tags = pad_sequences(train_tags, maxlen=MAX_LENGTH, padding='post')\n",
    "dev_tags = pad_sequences(dev_tags, maxlen=MAX_LENGTH, padding='post')\n",
    "test_tags = pad_sequences(test_tags, maxlen=MAX_LENGTH, padding='post')\n",
    " \n",
    "print(train_sentences[0])\n",
    "print(train_tags[0])"
   ]
  },
  {
   "cell_type": "markdown",
   "id": "31145131",
   "metadata": {
    "id": "31145131"
   },
   "source": [
    "We then generate 1-hot distributions for the tags."
   ]
  },
  {
   "cell_type": "code",
   "execution_count": 32,
   "id": "e4e960f3",
   "metadata": {
    "colab": {
     "base_uri": "https://localhost:8080/"
    },
    "id": "e4e960f3",
    "outputId": "57ce04ba-afac-4b8b-8ca0-8cf1cf15d053"
   },
   "outputs": [
    {
     "name": "stdout",
     "output_type": "stream",
     "text": [
      "[27 27 27 27 27 27 27 13 26 26 26 27  3 16 27 27  1 14 27 27 27 27 27 27\n",
      " 27 27 27 27 10 27 27  0  0  0  0  0  0  0  0  0  0  0  0  0  0  0  0  0\n",
      "  0  0  0  0  0  0  0  0  0  0  0  0  0  0  0  0  0  0  0  0  0  0  0  0\n",
      "  0  0  0  0  0  0  0  0  0  0  0  0  0  0  0]\n",
      "(87, 28)\n",
      "[[0. 0. 0. ... 0. 0. 1.]\n",
      " [0. 0. 0. ... 0. 0. 1.]\n",
      " [0. 0. 0. ... 0. 0. 1.]\n",
      " ...\n",
      " [1. 0. 0. ... 0. 0. 0.]\n",
      " [1. 0. 0. ... 0. 0. 0.]\n",
      " [1. 0. 0. ... 0. 0. 0.]]\n"
     ]
    }
   ],
   "source": [
    "train_tags_1hot = to_categorical(train_tags, len(tag2int))\n",
    "dev_tags_1hot = to_categorical(dev_tags, len(tag2int))\n",
    "test_tags_1hot = to_categorical(test_tags, len(tag2int))\n",
    "\n",
    "# originally 50 tag IDs\n",
    "print(train_tags[0])\n",
    "# now 50 rows with 13 columns\n",
    "print(train_tags_1hot[0].shape)\n",
    "# the 1-hot encoding of tag ID 7\n",
    "print(train_tags_1hot[0])"
   ]
  },
  {
   "cell_type": "markdown",
   "id": "5c4f9eb6",
   "metadata": {
    "id": "5c4f9eb6"
   },
   "source": [
    "Finally, we define the model and run it."
   ]
  },
  {
   "cell_type": "markdown",
   "id": "9Ak7tWgd4eru",
   "metadata": {
    "id": "9Ak7tWgd4eru"
   },
   "source": [
    "## ConLL 2003  <a name=\"co2\"></a>"
   ]
  },
  {
   "cell_type": "markdown",
   "id": "uoOAPnr0DPsq",
   "metadata": {
    "id": "uoOAPnr0DPsq"
   },
   "source": [
    "It looked like decreasing the batch size was having a positive effect on the dev accuracy, and observing the development accuracy's trajectory it also appeared the best performance was reached with just 2 iterations."
   ]
  },
  {
   "cell_type": "code",
   "execution_count": 16,
   "id": "fd02995d",
   "metadata": {
    "colab": {
     "base_uri": "https://localhost:8080/"
    },
    "id": "fd02995d",
    "outputId": "5a76208a-e1b4-4aa8-bf19-00b2727f0bc9"
   },
   "outputs": [
    {
     "name": "stdout",
     "output_type": "stream",
     "text": [
      "Model: \"model_3\"\n",
      "_________________________________________________________________\n",
      " Layer (type)                Output Shape              Param #   \n",
      "=================================================================\n",
      " word_IDs (InputLayer)       [(None, 118)]             0         \n",
      "                                                                 \n",
      " embeddings (Embedding)      (None, 118, 256)          6048000   \n",
      "                                                                 \n",
      " Bi-LSTM (Bidirectional)     (None, 118, 256)          394240    \n",
      "                                                                 \n",
      " dropout (Dropout)           (None, 118, 256)          0         \n",
      "                                                                 \n",
      " output (Dense)              (None, 118, 10)           2570      \n",
      "                                                                 \n",
      " softmax (Activation)        (None, 118, 10)           0         \n",
      "                                                                 \n",
      "=================================================================\n",
      "Total params: 6,444,810\n",
      "Trainable params: 6,444,810\n",
      "Non-trainable params: 0\n",
      "_________________________________________________________________\n"
     ]
    }
   ],
   "source": [
    "if dataset_ == \"crossner\":\n",
    "  print(\"Should preprocess the ConLL dataset to run this model! Specify dataset_ = 'conll' in the appropriate cell!\")\n",
    "  raise Exception(\"Should preprocess the ConLL dataset to run this model!\")\n",
    "\n",
    "np.random.seed(42)\n",
    "\n",
    "inputs = Input((MAX_LENGTH, ), \n",
    "               name='word_IDs')\n",
    "embeddings = Embedding(input_dim=len(word2int), \n",
    "                       output_dim=128, \n",
    "                       mask_zero=True, \n",
    "                       name='embeddings')(inputs)\n",
    "#wrap the LSTM in a Bidirectional wrapper\n",
    "bilstm = Bidirectional(LSTM(units=256, \n",
    "                            return_sequences=True), \n",
    "                       name=\"Bi-LSTM\")(embeddings)\n",
    "dropout = Dropout(0.3, name='dropout')(bilstm)\n",
    "bilstm_out = Dense(len(tag2int), name='output')(dropout)\n",
    "output = Activation('softmax', name='softmax')(bilstm_out)\n",
    "\n",
    "model_bilstm = Model(inputs=[inputs], outputs=[output])\n",
    "model_bilstm.summary()"
   ]
  },
  {
   "cell_type": "code",
   "execution_count": 12,
   "id": "8f646dc7",
   "metadata": {
    "colab": {
     "base_uri": "https://localhost:8080/",
     "height": 860
    },
    "id": "8f646dc7",
    "outputId": "032ba14b-e4dc-47bc-a85e-eac8263aacbb"
   },
   "outputs": [
    {
     "name": "stdout",
     "output_type": "stream",
     "text": [
      "Epoch 1/10\n",
      "1874/1874 [==============================] - 295s 152ms/step - loss: 0.0343 - accuracy: 0.9202 - val_loss: 0.0179 - val_accuracy: 0.9586\n",
      "Epoch 2/10\n",
      "1874/1874 [==============================] - 284s 151ms/step - loss: 0.0059 - accuracy: 0.9857 - val_loss: 0.0157 - val_accuracy: 0.9642\n",
      "Epoch 3/10\n",
      "1874/1874 [==============================] - 286s 153ms/step - loss: 0.0023 - accuracy: 0.9944 - val_loss: 0.0156 - val_accuracy: 0.9668\n",
      "Epoch 4/10\n",
      "1874/1874 [==============================] - 287s 153ms/step - loss: 0.0013 - accuracy: 0.9966 - val_loss: 0.0174 - val_accuracy: 0.9662\n",
      "Epoch 5/10\n",
      "1874/1874 [==============================] - 288s 154ms/step - loss: 7.4674e-04 - accuracy: 0.9979 - val_loss: 0.0194 - val_accuracy: 0.9643\n",
      "Epoch 6/10\n",
      "1874/1874 [==============================] - 283s 151ms/step - loss: 5.6707e-04 - accuracy: 0.9986 - val_loss: 0.0193 - val_accuracy: 0.9655\n",
      "Epoch 7/10\n",
      "1874/1874 [==============================] - 276s 147ms/step - loss: 3.4984e-04 - accuracy: 0.9991 - val_loss: 0.0220 - val_accuracy: 0.9651\n",
      "Epoch 8/10\n",
      "1874/1874 [==============================] - 282s 150ms/step - loss: 2.5193e-04 - accuracy: 0.9993 - val_loss: 0.0214 - val_accuracy: 0.9622\n",
      "Epoch 9/10\n",
      "1874/1874 [==============================] - 282s 151ms/step - loss: 2.4484e-04 - accuracy: 0.9993 - val_loss: 0.0231 - val_accuracy: 0.9671\n",
      "Epoch 10/10\n",
      "1874/1874 [==============================] - 285s 152ms/step - loss: 1.4754e-04 - accuracy: 0.9996 - val_loss: 0.0226 - val_accuracy: 0.9648\n"
     ]
    },
    {
     "data": {
      "image/png": "[encoded data removed]",
      "text/plain": [
       "<Figure size 432x288 with 1 Axes>"
      ]
     },
     "metadata": {
      "needs_background": "light"
     },
     "output_type": "display_data"
    },
    {
     "data": {
      "image/png": "[encoded data removed]",
      "text/plain": [
       "<Figure size 432x288 with 1 Axes>"
      ]
     },
     "metadata": {
      "needs_background": "light"
     },
     "output_type": "display_data"
    }
   ],
   "source": [
    "# first test\n",
    "batch_size = 8\n",
    "epochs = 10\n",
    "\n",
    "model_bilstm.compile(loss='categorical_crossentropy',\n",
    "              optimizer='adam',\n",
    "              metrics=['accuracy']\n",
    "             )\n",
    "\n",
    "history_bilstm = model_bilstm.fit(train_sentences, train_tags_1hot,\n",
    "                    batch_size=batch_size,\n",
    "                    epochs=epochs,\n",
    "                    verbose=1,\n",
    "                    validation_data=(dev_sentences, dev_tags_1hot))\n",
    "\n",
    "df = pd.DataFrame(history_bilstm.history)\n",
    "df[['val_accuracy', 'accuracy']].plot.line();\n",
    "df[['val_loss', 'loss']].plot.line();"
   ]
  },
  {
   "cell_type": "code",
   "execution_count": 19,
   "id": "GSSzJ6-C35kR",
   "metadata": {
    "colab": {
     "base_uri": "https://localhost:8080/",
     "height": 585
    },
    "id": "GSSzJ6-C35kR",
    "outputId": "3191fd25-b6e7-4b3d-d321-8dd44d28011e"
   },
   "outputs": [
    {
     "name": "stdout",
     "output_type": "stream",
     "text": [
      "Epoch 1/2\n",
      "1874/1874 [==============================] - 307s 160ms/step - loss: 8.5505e-04 - accuracy: 0.9978 - val_loss: 0.0224 - val_accuracy: 0.9613\n",
      "Epoch 2/2\n",
      "1874/1874 [==============================] - 303s 162ms/step - loss: 6.2110e-04 - accuracy: 0.9984 - val_loss: 0.0217 - val_accuracy: 0.9649\n"
     ]
    },
    {
     "data": {
      "image/png": "[encoded data removed]",
      "text/plain": [
       "<Figure size 432x288 with 1 Axes>"
      ]
     },
     "metadata": {
      "needs_background": "light"
     },
     "output_type": "display_data"
    },
    {
     "data": {
      "image/png": "[encoded data removed]",
      "text/plain": [
       "<Figure size 432x288 with 1 Axes>"
      ]
     },
     "metadata": {
      "needs_background": "light"
     },
     "output_type": "display_data"
    }
   ],
   "source": [
    "batch_size = 8\n",
    "epochs = 2\n",
    "\n",
    "model_bilstm.compile(loss='categorical_crossentropy',\n",
    "              optimizer='adam',\n",
    "              metrics=['accuracy']\n",
    "             )\n",
    "\n",
    "history_bilstm = model_bilstm.fit(train_sentences, train_tags_1hot,\n",
    "                    batch_size=batch_size,\n",
    "                    epochs=epochs,\n",
    "                    verbose=1,\n",
    "                    validation_data=(dev_sentences, dev_tags_1hot))\n",
    "\n",
    "df = pd.DataFrame(history_bilstm.history)\n",
    "df[['val_accuracy', 'accuracy']].plot.line();\n",
    "df[['val_loss', 'loss']].plot.line();"
   ]
  },
  {
   "cell_type": "markdown",
   "id": "JEA3rYiWDzDG",
   "metadata": {
    "id": "JEA3rYiWDzDG"
   },
   "source": [
    "The same sentences were tested on the new architecture."
   ]
  },
  {
   "cell_type": "code",
   "execution_count": 23,
   "id": "my5sofZYF6c-",
   "metadata": {
    "colab": {
     "base_uri": "https://localhost:8080/"
    },
    "id": "my5sofZYF6c-",
    "outputId": "d1b46a28-d168-42c9-c354-c29ddd220832"
   },
   "outputs": [
    {
     "name": "stdout",
     "output_type": "stream",
     "text": [
      "[[[9.19e-08 3.61e-06 1.29e-05 ... 3.00e-05 1.09e-05 1.00e+00]\n",
      "  [1.65e-08 2.52e-07 3.39e-07 ... 1.47e-05 2.22e-04 9.99e-01]\n",
      "  [2.88e-08 5.42e-04 1.09e-06 ... 2.26e-06 3.53e-02 3.42e-04]\n",
      "  ...\n",
      "  [5.58e-02 1.10e-01 9.84e-02 ... 9.11e-02 8.39e-02 1.57e-01]\n",
      "  [5.58e-02 1.10e-01 9.84e-02 ... 9.11e-02 8.39e-02 1.57e-01]\n",
      "  [5.58e-02 1.10e-01 9.84e-02 ... 9.11e-02 8.39e-02 1.57e-01]]\n",
      "\n",
      " [[1.14e-07 3.40e-06 2.35e-05 ... 2.35e-05 8.19e-06 1.00e+00]\n",
      "  [1.23e-08 1.95e-07 1.90e-07 ... 1.11e-05 6.28e-05 1.00e+00]\n",
      "  [3.53e-07 9.26e-05 4.15e-05 ... 6.36e-05 7.46e-04 9.93e-01]\n",
      "  ...\n",
      "  [5.58e-02 1.10e-01 9.84e-02 ... 9.11e-02 8.39e-02 1.57e-01]\n",
      "  [5.58e-02 1.10e-01 9.84e-02 ... 9.11e-02 8.39e-02 1.57e-01]\n",
      "  [5.58e-02 1.10e-01 9.84e-02 ... 9.11e-02 8.39e-02 1.57e-01]]\n",
      "\n",
      " [[4.35e-09 1.95e-07 4.57e-08 ... 1.39e-06 1.60e-07 1.00e+00]\n",
      "  [8.77e-09 1.66e-07 2.41e-07 ... 5.63e-07 1.04e-06 1.00e+00]\n",
      "  [5.34e-10 7.32e-08 6.79e-10 ... 1.01e-06 1.23e-07 1.00e+00]\n",
      "  ...\n",
      "  [5.58e-02 1.10e-01 9.84e-02 ... 9.11e-02 8.39e-02 1.57e-01]\n",
      "  [5.58e-02 1.10e-01 9.84e-02 ... 9.11e-02 8.39e-02 1.57e-01]\n",
      "  [5.58e-02 1.10e-01 9.84e-02 ... 9.11e-02 8.39e-02 1.57e-01]]\n",
      "\n",
      " [[6.38e-06 2.97e-03 4.41e-03 ... 5.45e-04 2.37e-04 9.87e-01]\n",
      "  [2.48e-07 1.99e-04 4.88e-04 ... 2.63e-04 8.56e-05 9.98e-01]\n",
      "  [6.22e-08 4.23e-05 1.16e-04 ... 3.34e-04 1.00e-04 9.99e-01]\n",
      "  ...\n",
      "  [5.58e-02 1.10e-01 9.84e-02 ... 9.11e-02 8.39e-02 1.57e-01]\n",
      "  [5.58e-02 1.10e-01 9.84e-02 ... 9.11e-02 8.39e-02 1.57e-01]\n",
      "  [5.58e-02 1.10e-01 9.84e-02 ... 9.11e-02 8.39e-02 1.57e-01]]] (4, 118, 10)\n"
     ]
    }
   ],
   "source": [
    "strange_sentences = ['My friend Maria is working at ONU currently'.split(),\n",
    "                     \"My friend maria is working at ONU currently\".split(),\n",
    "                     \"When I met Matteo, he was studying DSBA at Bocconi University\".split(),\n",
    "                     \"Ich habe Google Translate verwendet, um diesen Satz zu schreiben\".split()\n",
    "                    ]\n",
    "# convert to integers\n",
    "strange_sentences_int = [[word2int.get(word, 1) for word in sentence] for sentence in strange_sentences]\n",
    "# add padding\n",
    "strange_sentences_int = pad_sequences(strange_sentences_int, maxlen=MAX_LENGTH, padding='post')\n",
    "\n",
    "predictions = model_bilstm.predict(strange_sentences_int)\n",
    "print(predictions, predictions.shape)"
   ]
  },
  {
   "cell_type": "markdown",
   "id": "Nx-zB2saGd-m",
   "metadata": {
    "id": "Nx-zB2saGd-m"
   },
   "source": [
    "Surprisingly, the BI-LSTM was performing someway worse on the ambiguous sentences, suggesting that with the current architecture, the structured perceptron actually represented the better option."
   ]
  },
  {
   "cell_type": "code",
   "execution_count": 24,
   "id": "R94xnExRGT71",
   "metadata": {
    "colab": {
     "base_uri": "https://localhost:8080/"
    },
    "id": "R94xnExRGT71",
    "outputId": "a169d81f-5a88-44f4-eeae-781dce81f2f6"
   },
   "outputs": [
    {
     "name": "stdout",
     "output_type": "stream",
     "text": [
      "[(['My', 'friend', 'Maria', 'is', 'working', 'at', 'ONU', 'currently'], ['O', 'O', 'B-person', 'O', 'O', 'O', 'B-location', 'O']), (['My', 'friend', 'maria', 'is', 'working', 'at', 'ONU', 'currently'], ['O', 'O', 'O', 'O', 'O', 'O', 'B-location', 'O']), (['When', 'I', 'met', 'Matteo,', 'he', 'was', 'studying', 'DSBA', 'at', 'Bocconi', 'University'], ['O', 'O', 'O', 'O', 'O', 'O', 'O', 'O', 'O', 'B-organisation', 'I-organisation']), (['Ich', 'habe', 'Google', 'Translate', 'verwendet,', 'um', 'diesen', 'Satz', 'zu', 'schreiben'], ['O', 'O', 'O', 'O', 'O', 'O', 'O', 'O', 'O', 'O'])]\n"
     ]
    }
   ],
   "source": [
    "def inverse_transform(sentences, predictions):\n",
    "    output = []\n",
    "    for sentence, prediction in zip(sentences, predictions):\n",
    "        # find the index of the highest-scoring tag and translate it back\n",
    "        token_sequence = [int2tag[np.argmax(prediction[i])] for i in range(len(sentence))]\n",
    "        output.append(token_sequence)\n",
    "    return output\n",
    "\n",
    "print(list(zip(strange_sentences, inverse_transform(strange_sentences, predictions))))"
   ]
  },
  {
   "cell_type": "markdown",
   "id": "Eak3DzzyGtL-",
   "metadata": {
    "id": "Eak3DzzyGtL-"
   },
   "source": [
    "Test performance was evaluated as well, and indeed the structured perceptron performed slighlty better, with just 1 percentage point of advantage."
   ]
  },
  {
   "cell_type": "code",
   "execution_count": 25,
   "id": "KU2E5twv4vLf",
   "metadata": {
    "colab": {
     "base_uri": "https://localhost:8080/"
    },
    "id": "KU2E5twv4vLf",
    "outputId": "58cf3b30-476e-41ea-af3b-d5abba3c9ee5"
   },
   "outputs": [
    {
     "name": "stdout",
     "output_type": "stream",
     "text": [
      "461/461 [==============================] - 12s 26ms/step - loss: 0.0315 - accuracy: 0.9423\n",
      "Test loss: 0.03154752030968666\n",
      "Test accuracy: 0.9422596096992493\n"
     ]
    }
   ],
   "source": [
    "loss, accuracy = model_bilstm.evaluate(test_sentences, test_tags_1hot,\n",
    "                       batch_size=batch_size, verbose=1)\n",
    "print('Test loss:', loss)\n",
    "print('Test accuracy:', accuracy)"
   ]
  },
  {
   "cell_type": "markdown",
   "id": "JmyhxKPU4kWo",
   "metadata": {
    "id": "JmyhxKPU4kWo"
   },
   "source": [
    "## CrossNER  <a name=\"cr2\"></a>"
   ]
  },
  {
   "cell_type": "markdown",
   "id": "k66ztkQIIFik",
   "metadata": {
    "id": "k66ztkQIIFik"
   },
   "source": [
    "For the CrossNER dataset, given it is quite smaller I decided to slightly increase the drop out rate and reduce the embeddings dimensions and the LSTM units in order to avoid overfitting, and ran the model for a few more iterations compared to the ConLL, as the plots were suggesting more epochs were needed to reach its \"peak\"."
   ]
  },
  {
   "cell_type": "code",
   "execution_count": 40,
   "id": "f2Jwquqx4l6S",
   "metadata": {
    "colab": {
     "base_uri": "https://localhost:8080/"
    },
    "id": "f2Jwquqx4l6S",
    "outputId": "397fe3f0-f452-4cfb-fef8-85246f6fcce3"
   },
   "outputs": [
    {
     "name": "stdout",
     "output_type": "stream",
     "text": [
      "Model: \"model_7\"\n",
      "_________________________________________________________________\n",
      " Layer (type)                Output Shape              Param #   \n",
      "=================================================================\n",
      " word_IDs (InputLayer)       [(None, 87)]              0         \n",
      "                                                                 \n",
      " embeddings (Embedding)      (None, 87, 64)            402048    \n",
      "                                                                 \n",
      " Bi-LSTM (Bidirectional)     (None, 87, 256)           197632    \n",
      "                                                                 \n",
      " dropout (Dropout)           (None, 87, 256)           0         \n",
      "                                                                 \n",
      " output (Dense)              (None, 87, 28)            7196      \n",
      "                                                                 \n",
      " softmax (Activation)        (None, 87, 28)            0         \n",
      "                                                                 \n",
      "=================================================================\n",
      "Total params: 606,876\n",
      "Trainable params: 606,876\n",
      "Non-trainable params: 0\n",
      "_________________________________________________________________\n"
     ]
    }
   ],
   "source": [
    "if dataset_ == \"conll\":\n",
    "  print(\"Should preprocess the CrossNER dataset to run this model! Specify dataset_ = 'crossner' in the appropriate cell!\")\n",
    "  raise Exception(\"Should preprocess the CrossNER dataset to run this model!\")\n",
    "\n",
    "np.random.seed(42)\n",
    "\n",
    "inputs = Input((MAX_LENGTH, ), \n",
    "               name='word_IDs')\n",
    "embeddings = Embedding(input_dim=len(word2int), \n",
    "                       output_dim=64, \n",
    "                       mask_zero=True, \n",
    "                       name='embeddings')(inputs)\n",
    "#wrap the LSTM in a Bidirectional wrapper\n",
    "bilstm = Bidirectional(LSTM(units=128, \n",
    "                            return_sequences=True), \n",
    "                       name=\"Bi-LSTM\")(embeddings)\n",
    "dropout = Dropout(0.4, name='dropout')(bilstm)\n",
    "bilstm_out = Dense(len(tag2int), name='output')(dropout)\n",
    "output = Activation('softmax', name='softmax')(bilstm_out)\n",
    "\n",
    "model_bilstm = Model(inputs=[inputs], outputs=[output])\n",
    "model_bilstm.summary()"
   ]
  },
  {
   "cell_type": "code",
   "execution_count": 41,
   "id": "72sYGCYQ4ozj",
   "metadata": {
    "colab": {
     "base_uri": "https://localhost:8080/",
     "height": 860
    },
    "id": "72sYGCYQ4ozj",
    "outputId": "481fd046-4999-4a56-e4ea-41eaa8e240c6"
   },
   "outputs": [
    {
     "name": "stdout",
     "output_type": "stream",
     "text": [
      "Epoch 1/10\n",
      "88/88 [==============================] - 11s 35ms/step - loss: 1.0236 - accuracy: 0.5915 - val_loss: 0.8377 - val_accuracy: 0.6147\n",
      "Epoch 2/10\n",
      "88/88 [==============================] - 1s 13ms/step - loss: 0.7685 - accuracy: 0.6156 - val_loss: 0.6048 - val_accuracy: 0.6556\n",
      "Epoch 3/10\n",
      "88/88 [==============================] - 1s 13ms/step - loss: 0.5568 - accuracy: 0.6815 - val_loss: 0.4789 - val_accuracy: 0.7140\n",
      "Epoch 4/10\n",
      "88/88 [==============================] - 1s 13ms/step - loss: 0.4225 - accuracy: 0.7440 - val_loss: 0.3947 - val_accuracy: 0.7616\n",
      "Epoch 5/10\n",
      "88/88 [==============================] - 1s 13ms/step - loss: 0.3249 - accuracy: 0.8049 - val_loss: 0.3647 - val_accuracy: 0.7877\n",
      "Epoch 6/10\n",
      "88/88 [==============================] - 1s 13ms/step - loss: 0.2528 - accuracy: 0.8521 - val_loss: 0.3397 - val_accuracy: 0.7987\n",
      "Epoch 7/10\n",
      "88/88 [==============================] - 1s 13ms/step - loss: 0.1999 - accuracy: 0.8841 - val_loss: 0.3233 - val_accuracy: 0.8211\n",
      "Epoch 8/10\n",
      "88/88 [==============================] - 1s 13ms/step - loss: 0.1552 - accuracy: 0.9134 - val_loss: 0.3226 - val_accuracy: 0.8232\n",
      "Epoch 9/10\n",
      "88/88 [==============================] - 1s 13ms/step - loss: 0.1249 - accuracy: 0.9306 - val_loss: 0.3397 - val_accuracy: 0.8247\n",
      "Epoch 10/10\n",
      "88/88 [==============================] - 1s 13ms/step - loss: 0.1012 - accuracy: 0.9443 - val_loss: 0.3452 - val_accuracy: 0.8220\n"
     ]
    },
    {
     "data": {
      "image/png": "[encoded data removed]",
      "text/plain": [
       "<Figure size 432x288 with 1 Axes>"
      ]
     },
     "metadata": {
      "needs_background": "light"
     },
     "output_type": "display_data"
    },
    {
     "data": {
      "image/png": "[encoded data removed]",
      "text/plain": [
       "<Figure size 432x288 with 1 Axes>"
      ]
     },
     "metadata": {
      "needs_background": "light"
     },
     "output_type": "display_data"
    }
   ],
   "source": [
    "batch_size = 8\n",
    "epochs = 10\n",
    "\n",
    "model_bilstm.compile(loss='categorical_crossentropy',\n",
    "              optimizer='adam',\n",
    "              metrics=['accuracy']\n",
    "             )\n",
    "\n",
    "history_bilstm = model_bilstm.fit(train_sentences, train_tags_1hot,\n",
    "                    batch_size=batch_size,\n",
    "                    epochs=epochs,\n",
    "                    verbose=1,\n",
    "                    validation_data=(dev_sentences, dev_tags_1hot))\n",
    "\n",
    "df = pd.DataFrame(history_bilstm.history)\n",
    "df[['val_accuracy', 'accuracy']].plot.line();\n",
    "df[['val_loss', 'loss']].plot.line();"
   ]
  },
  {
   "cell_type": "markdown",
   "id": "B_-WOv4tFHOe",
   "metadata": {
    "id": "B_-WOv4tFHOe"
   },
   "source": [
    "And again, same sentences were tested."
   ]
  },
  {
   "cell_type": "code",
   "execution_count": 42,
   "id": "wggxbg2_FO0C",
   "metadata": {
    "colab": {
     "base_uri": "https://localhost:8080/"
    },
    "id": "wggxbg2_FO0C",
    "outputId": "c10438ab-9b46-47a1-c956-dda4b1e89866"
   },
   "outputs": [
    {
     "name": "stdout",
     "output_type": "stream",
     "text": [
      "[[[8.53e-05 2.21e-03 2.34e-06 ... 2.13e-03 2.32e-03 3.55e-01]\n",
      "  [4.05e-07 1.45e-05 4.50e-08 ... 3.79e-05 5.23e-06 9.90e-01]\n",
      "  [3.23e-10 1.31e-07 3.34e-10 ... 9.69e-09 4.14e-09 1.00e+00]\n",
      "  ...\n",
      "  [3.42e-02 3.45e-02 3.40e-02 ... 3.55e-02 3.68e-02 3.77e-02]\n",
      "  [3.42e-02 3.45e-02 3.40e-02 ... 3.55e-02 3.68e-02 3.77e-02]\n",
      "  [3.42e-02 3.45e-02 3.40e-02 ... 3.55e-02 3.68e-02 3.77e-02]]\n",
      "\n",
      " [[1.32e-04 6.64e-03 2.80e-05 ... 9.25e-03 2.73e-03 6.41e-01]\n",
      "  [1.92e-07 3.68e-06 1.09e-07 ... 1.02e-04 1.30e-06 9.96e-01]\n",
      "  [3.63e-10 6.63e-08 1.08e-09 ... 5.63e-08 1.79e-09 1.00e+00]\n",
      "  ...\n",
      "  [3.42e-02 3.45e-02 3.40e-02 ... 3.55e-02 3.68e-02 3.77e-02]\n",
      "  [3.42e-02 3.45e-02 3.40e-02 ... 3.55e-02 3.68e-02 3.77e-02]\n",
      "  [3.42e-02 3.45e-02 3.40e-02 ... 3.55e-02 3.68e-02 3.77e-02]]\n",
      "\n",
      " [[2.04e-04 4.83e-03 3.62e-05 ... 7.20e-03 4.63e-03 6.54e-01]\n",
      "  [4.64e-05 1.04e-03 9.01e-06 ... 4.35e-03 6.15e-04 8.67e-01]\n",
      "  [2.67e-08 1.95e-06 1.76e-08 ... 7.43e-06 2.02e-07 9.99e-01]\n",
      "  ...\n",
      "  [3.42e-02 3.45e-02 3.40e-02 ... 3.55e-02 3.68e-02 3.77e-02]\n",
      "  [3.42e-02 3.45e-02 3.40e-02 ... 3.55e-02 3.68e-02 3.77e-02]\n",
      "  [3.42e-02 3.45e-02 3.40e-02 ... 3.55e-02 3.68e-02 3.77e-02]]] (3, 87, 28)\n"
     ]
    }
   ],
   "source": [
    "strange_sentences = ['This track by Ur Favourite Band is awesome, it should win an Ammy'.split(),\n",
    "                     \"Check out this tape, it's is called NLP Tune\".split(),\n",
    "                     \"Will you come to The Strokes gig? They will play at Magazzini Generali\".split()\n",
    "                    ]\n",
    "# convert to integers\n",
    "strange_sentences_int = [[word2int.get(word, 1) for word in sentence] for sentence in strange_sentences]\n",
    "# add padding\n",
    "strange_sentences_int = pad_sequences(strange_sentences_int, maxlen=MAX_LENGTH, padding='post')\n",
    "\n",
    "predictions = model_bilstm.predict(strange_sentences_int)\n",
    "print(predictions, predictions.shape)"
   ]
  },
  {
   "cell_type": "code",
   "execution_count": 43,
   "id": "4yynkJDWHhe3",
   "metadata": {
    "colab": {
     "base_uri": "https://localhost:8080/"
    },
    "id": "4yynkJDWHhe3",
    "outputId": "159b1fff-0c22-4dce-aaf1-ea9e12943546"
   },
   "outputs": [
    {
     "name": "stdout",
     "output_type": "stream",
     "text": [
      "[(['This', 'track', 'by', 'Ur', 'Favourite', 'Band', 'is', 'awesome,', 'it', 'should', 'win', 'an', 'Ammy'], ['O', 'O', 'O', 'B-band', 'I-band', 'I-band', 'O', 'O', 'O', 'O', 'O', 'O', 'O']), (['Check', 'out', 'this', 'tape,', \"it's\", 'is', 'called', 'NLP', 'Tune'], ['O', 'O', 'O', 'O', 'O', 'O', 'O', 'O', 'I-misc']), (['Will', 'you', 'come', 'to', 'The', 'Strokes', 'gig?', 'They', 'will', 'play', 'at', 'Magazzini', 'Generali'], ['O', 'O', 'O', 'O', 'O', 'O', 'I-misc', 'O', 'O', 'O', 'O', 'O', 'I-event'])]\n"
     ]
    }
   ],
   "source": [
    "print(list(zip(strange_sentences, inverse_transform(strange_sentences, predictions))))"
   ]
  },
  {
   "cell_type": "markdown",
   "id": "Ity3-3EKFLrD",
   "metadata": {
    "id": "Ity3-3EKFLrD"
   },
   "source": [
    "I wouldn't say the performance was nor better or worse, the model tended to give less guesses, and those it gave were somewhat more correct than the structured perceptron. Evaluating on the test set, however, the structured perceptron still was confirmed as the better alternative."
   ]
  },
  {
   "cell_type": "code",
   "execution_count": 44,
   "id": "NcFr-CiY4xPL",
   "metadata": {
    "colab": {
     "base_uri": "https://localhost:8080/"
    },
    "id": "NcFr-CiY4xPL",
    "outputId": "6d00560b-65ee-4263-d573-32ce7ca14c95"
   },
   "outputs": [
    {
     "name": "stdout",
     "output_type": "stream",
     "text": [
      "13/13 [==============================] - 2s 6ms/step - loss: 0.3358 - accuracy: 0.8304\n",
      "Test loss: 0.3358485698699951\n",
      "Test accuracy: 0.8303914070129395\n"
     ]
    }
   ],
   "source": [
    "loss, accuracy = model_bilstm.evaluate(test_sentences, test_tags_1hot,\n",
    "                       batch_size=batch_size, verbose=1)\n",
    "print('Test loss:', loss)\n",
    "print('Test accuracy:', accuracy)"
   ]
  }
 ],
 "metadata": {
  "accelerator": "GPU",
  "colab": {
   "machine_shape": "hm",
   "name": "Structured Prediction.ipynb",
   "provenance": []
  },
  "kernelspec": {
   "display_name": "Python 3 (ipykernel)",
   "language": "python",
   "name": "python3"
  },
  "language_info": {
   "codemirror_mode": {
    "name": "ipython",
    "version": 3
   },
   "file_extension": ".py",
   "mimetype": "text/x-python",
   "name": "python",
   "nbconvert_exporter": "python",
   "pygments_lexer": "ipython3",
   "version": "3.8.8"
  }
 },
 "nbformat": 4,
 "nbformat_minor": 5
}
